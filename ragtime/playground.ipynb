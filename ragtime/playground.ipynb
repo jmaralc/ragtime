{
 "cells": [
  {
   "cell_type": "code",
   "execution_count": 1,
   "metadata": {},
   "outputs": [],
   "source": [
    "import csv\n",
    "from bs4 import BeautifulSoup\n",
    "import requests\n",
    "import ollama\n",
    "import openai\n",
    "import psycopg2\n",
    "\n",
    "from pgvector.psycopg2 import register_vector\n",
    "from dotenv import load_dotenv\n",
    "import os\n",
    "import numpy as np\n",
    "from rich.jupyter import print\n",
    "from psycopg2.extras import RealDictCursor\n",
    "from IPython.display import display, Markdown"
   ]
  },
  {
   "cell_type": "code",
   "execution_count": 15,
   "metadata": {},
   "outputs": [],
   "source": [
    "gpt_model = \"llama3.2\" \n",
    "ollama_url = 'http://localhost:11434/v1'"
   ]
  },
  {
   "cell_type": "markdown",
   "metadata": {},
   "source": [
    "## Simple example"
   ]
  },
  {
   "cell_type": "code",
   "execution_count": 111,
   "metadata": {},
   "outputs": [
    {
     "data": {
      "text/plain": [
       "'Sánchez.'"
      ]
     },
     "execution_count": 111,
     "metadata": {},
     "output_type": "execute_result"
    }
   ],
   "source": [
    "output = ollama.generate(\n",
    "  model=gpt_model,\n",
    "  \n",
    "  prompt=f\"What is the second family name of Javier Martinez according to spanish rule of family names? you are force to provide an answer and provide a single word answer\"\n",
    ")\n",
    "output.get(\"response\")"
   ]
  },
  {
   "cell_type": "code",
   "execution_count": 110,
   "metadata": {},
   "outputs": [
    {
     "data": {
      "text/plain": [
       "'Alcantara'"
      ]
     },
     "execution_count": 110,
     "metadata": {},
     "output_type": "execute_result"
    }
   ],
   "source": [
    "data = \"Javier Martinez full name is Javier Martinez Alcantara\"\n",
    "prompt= \"What is the second family name of Javier Martinez according to spanish rule of family names? you are force to provide an answer and provide a single word answer\"\n",
    "\n",
    "output = ollama.generate(\n",
    "  model=gpt_model,\n",
    "  prompt=f\"Using this context: {data}. Respond to this prompt: {prompt}\",\n",
    ")\n",
    "output.get(\"response\")"
   ]
  },
  {
   "cell_type": "markdown",
   "metadata": {},
   "source": [
    "## Go for a functional RAG with a use case based on ..."
   ]
  },
  {
   "cell_type": "markdown",
   "metadata": {},
   "source": [
    "![alt text](./assets/warhammer.jpg \"Warhammer\")"
   ]
  },
  {
   "cell_type": "markdown",
   "metadata": {},
   "source": [
    "# Data Extraction"
   ]
  },
  {
   "cell_type": "code",
   "execution_count": null,
   "metadata": {},
   "outputs": [],
   "source": [
    "\n",
    "url=\"https://tow.whfb.app\"\n",
    "\n",
    "html_content = requests.get(url).text\n",
    "\n",
    "\n",
    "soup = BeautifulSoup(html_content)\n",
    "\n",
    "soup.findAll(\"a\")\n",
    "links = soup.findAll(\"a\")\n",
    "\n",
    "with open(f\"old_world_rules3.csv\", 'w', newline='') as out_file:\n",
    "    headers = [\n",
    "        \"rule_name\", \n",
    "        \"link_number\",\n",
    "        \"link\",\n",
    "        \"rulebook_page\",\n",
    "        \"rule_description\"\n",
    "    ]\n",
    "    writer = csv.DictWriter(out_file, headers)\n",
    "    writer.writeheader()\n",
    "    total_links = len(links)\n",
    "    \n",
    "    id = 0\n",
    "    for number, link in enumerate(links):\n",
    "        try:\n",
    "            # if number == 20: \n",
    "            #     break\n",
    "            l = url + link.get(\"href\")\n",
    "\n",
    "            print(f\"Processing {number} out of {total_links}\")\n",
    "            html_content = requests.get(l).text\n",
    "\n",
    "\n",
    "            # Parse the html content\n",
    "            subsoup = BeautifulSoup(html_content)\n",
    "            rule_name = subsoup.find(\"h1\", attrs={\"class\": \"page-title\"}).text.removesuffix(\"URL Copied!\")\n",
    "            rulebook_page = subsoup.find(\"li\", attrs={\"class\": \"page-reference\"}).text\n",
    "            rule_description = \"\"\n",
    "\n",
    "            if subsoup.find(\"article\", attrs={\"class\": \"article--rich-text\"}):\n",
    "                rule_description = subsoup.find(\"article\", attrs={\"class\": \"article--rich-text\"}).text\n",
    "            \n",
    "            if subsoup.find(\"article\", attrs={\"class\": \"article--rich-text section-intro\"}):\n",
    "                rule_description += subsoup.find(\"article\", attrs={\"class\": \"article--rich-text section-intro\"}).text\n",
    "            \n",
    "            row = {\n",
    "                \"rule_name\": rule_name,\n",
    "                \"link_number\": str(id),\n",
    "                \"link\": l,\n",
    "                \"rulebook_page\": rulebook_page,\n",
    "                \"rule_description\": rule_description\n",
    "                }\n",
    "\n",
    "            writer.writerow(row)\n",
    "            id += 1\n",
    "\n",
    "            spells = subsoup.find(\"div\", attrs={\"class\": \"spell-list\"}).findAll(\"a\")\n",
    "            spells = [ spell for spell in spells if \"/spell\" in spell.get(\"href\")]\n",
    "            # print(spells)\n",
    "            if spells:\n",
    "                for spell in spells:\n",
    "                    print(spell)\n",
    "                    spell_link = url + spell.get(\"href\")\n",
    "\n",
    "                    html_content = requests.get(spell_link).text \n",
    "                    spell = BeautifulSoup(html_content)\n",
    "                    \n",
    "                    spell_name = spell.find(\"h1\", attrs={\"class\": \"page-title\"}).text.removesuffix(\"URL Copied!\")\n",
    "                    spell_rulebook_page = spell.find(\"li\", attrs={\"class\": \"page-reference\"}).text\n",
    "\n",
    "                    descriptions = spell.findAll(\"article\", attrs={\"class\": \"article--rich-text\"})\n",
    "                    spell_description = descriptions[0].text\n",
    "                    \n",
    "                    spell_info = [el.text for el in descriptions[1].findAll(\"p\") if el.text]\n",
    "                    # print(spell_info)\n",
    "                    spell_description += \" \" + spell_info.pop()\n",
    "                    # print(spell_info)\n",
    "                    for info in range(0,len(spell_info),2):\n",
    "                        spell = spell_info[info+1].replace('\"', \" inches\")\n",
    "                        spell_description += f\" {spell_info[info]}:{spell},\"\n",
    "                    \n",
    "                    spell_description = spell_description.removesuffix(\",\")\n",
    "                    row = {\n",
    "                        \"rule_name\": spell_name,\n",
    "                        \"link_number\": str(id),\n",
    "                        \"link\": spell_link,\n",
    "                        \"rulebook_page\": spell_rulebook_page,\n",
    "                        \"rule_description\": spell_description\n",
    "                        }\n",
    "\n",
    "                    writer.writerow(row)\n",
    "                    id += 1\n",
    "\n",
    "        except Exception as e:\n",
    "            print(e)\n",
    "            continue"
   ]
  },
  {
   "cell_type": "markdown",
   "metadata": {},
   "source": [
    "# Database initialization"
   ]
  },
  {
   "cell_type": "code",
   "execution_count": 112,
   "metadata": {},
   "outputs": [],
   "source": [
    "# Set up Postgres\n",
    "load_dotenv(override=True)\n",
    "DBUSER = os.environ [\"DBUSER\"]\n",
    "DBPASS = os.environ[\"DBPASS\"]\n",
    "DBHOST = os.environ[\"DBHOST\"]\n",
    "DBNAME = os.environ [\"DBNAME\" ]\n",
    "\n",
    "# Use SSL if not connecting to localhost\n",
    "DBSSL = \"disable\"\n",
    "if DBHOST != \"localhost\":\n",
    "    DBSSL = \"require\"\n",
    "    \n",
    "conn = psycopg2.connect(database=DBNAME, user=DBUSER, password=DBPASS, host=DBHOST, sslmode=DBSSL)\n",
    "conn.autocommit = True\n",
    "cur = conn.cursor(cursor_factory=psycopg2.extras.RealDictCursor)"
   ]
  },
  {
   "cell_type": "markdown",
   "metadata": {},
   "source": [
    "# Embeddings generation"
   ]
  },
  {
   "cell_type": "code",
   "execution_count": 37,
   "metadata": {},
   "outputs": [],
   "source": [
    "# Set up Github models\n",
    "endpoint = \"https://models.inference.ai.azure.com\"\n",
    "model_name = \"text-embedding-3-small\""
   ]
  },
  {
   "cell_type": "markdown",
   "metadata": {},
   "source": [
    "Generating the table that will contain the embeddings"
   ]
  },
  {
   "cell_type": "code",
   "execution_count": 113,
   "metadata": {},
   "outputs": [],
   "source": [
    "EMBEDDINGS_SIZE = 1024\n",
    "\n",
    "cur.execute(\"CREATE EXTENSION IF NOT EXISTS vector\")\n",
    "cur.execute(\"DROP TABLE IF EXISTS rules\")\n",
    "cur.execute(f\"\"\"CREATE TABLE rules (\n",
    "            link_number int PRIMARY KEY,\n",
    "            rule_name varchar,\n",
    "            link varchar,\n",
    "            rulebook_page varchar,\n",
    "            rule_description varchar,\n",
    "            embedding vector({EMBEDDINGS_SIZE})\n",
    "            );\"\"\")\n",
    "register_vector(conn)\n",
    "\n",
    "cur.execute(\"CREATE INDEX ON rules USING hnsw (embedding vector_cosine_ops)\")\n",
    "#Hierarchical Navigable Small World \n"
   ]
  },
  {
   "cell_type": "markdown",
   "metadata": {},
   "source": [
    "Reading rules from our disk and load them into memory:"
   ]
  },
  {
   "cell_type": "code",
   "execution_count": 114,
   "metadata": {},
   "outputs": [],
   "source": [
    "with open(f\"old_world_rules3.csv\", 'r', newline='') as csvfile:\n",
    "    rules = csv.DictReader(csvfile, delimiter=',')\n",
    "\n",
    "\n",
    "    # Iterating the rules\n",
    "    for rule in rules:\n",
    "        link_number = rule.get(\"link_number\")\n",
    "        rule_name = rule[\"rule_name\"]\n",
    "        link = rule[\"link\"]\n",
    "        rulebook_page = rule[\"rulebook_page\"]\n",
    "        rule_description = rule[\"rule_description\"]\n",
    "\n",
    "        embedding = ollama.embeddings(\n",
    "            model=\"mxbai-embed-large\", #https://www.mixedbread.ai/blog/mxbai-embed-large-v1\n",
    "            prompt=f\"Rule: {rule_name}. Rule Description: {rule_description}\"\n",
    "            )\n",
    "        # print(f\"{link_number}, {rule_name}, {link}, {rulebook_page}, {rule_description}, {embedding.get(\"embedding\")}\")\n",
    "        cur.execute(\n",
    "            \"INSERT INTO rules (link_number, rule_name, link, rulebook_page, rule_description, embedding) VALUES (%s,%s,%s,%s,%s,%s)\", \n",
    "            (link_number, rule_name, link, rulebook_page, rule_description, embedding.get(\"embedding\"),)\n",
    "            )\n",
    "        \n"
   ]
  },
  {
   "cell_type": "markdown",
   "metadata": {},
   "source": [
    "# Comparison with embeddings using vector search"
   ]
  },
  {
   "cell_type": "code",
   "execution_count": 115,
   "metadata": {},
   "outputs": [
    {
     "data": {
      "text/html": [
       "<pre style=\"white-space:pre;overflow-x:auto;line-height:normal;font-family:Menlo,'DejaVu Sans Mono',consolas,'Courier New',monospace\"><span style=\"font-weight: bold\">[</span>\n",
       "    <span style=\"color: #800080; text-decoration-color: #800080; font-weight: bold\">RealDictRow</span><span style=\"font-weight: bold\">([(</span><span style=\"color: #008000; text-decoration-color: #008000\">'rule_name'</span>, <span style=\"color: #008000; text-decoration-color: #008000\">'The Charge Move'</span><span style=\"font-weight: bold\">)</span>, <span style=\"font-weight: bold\">(</span><span style=\"color: #008000; text-decoration-color: #008000\">'distance'</span>, <span style=\"color: #008080; text-decoration-color: #008080; font-weight: bold\">13.069721762651453</span><span style=\"font-weight: bold\">)])</span>,\n",
       "    <span style=\"color: #800080; text-decoration-color: #800080; font-weight: bold\">RealDictRow</span><span style=\"font-weight: bold\">([(</span><span style=\"color: #008000; text-decoration-color: #008000\">'rule_name'</span>, <span style=\"color: #008000; text-decoration-color: #008000\">'The Charge Move (Intro)'</span><span style=\"font-weight: bold\">)</span>, <span style=\"font-weight: bold\">(</span><span style=\"color: #008000; text-decoration-color: #008000\">'distance'</span>, <span style=\"color: #008080; text-decoration-color: #008080; font-weight: bold\">13.238372307152169</span><span style=\"font-weight: bold\">)])</span>,\n",
       "    <span style=\"color: #800080; text-decoration-color: #800080; font-weight: bold\">RealDictRow</span><span style=\"font-weight: bold\">([(</span><span style=\"color: #008000; text-decoration-color: #008000\">'rule_name'</span>, <span style=\"color: #008000; text-decoration-color: #008000\">'Declare Charges &amp; Charge Reactions'</span><span style=\"font-weight: bold\">)</span>, <span style=\"font-weight: bold\">(</span><span style=\"color: #008000; text-decoration-color: #008000\">'distance'</span>, <span style=\"color: #008080; text-decoration-color: #008080; font-weight: bold\">13.890500869453804</span><span style=\"font-weight: bold\">)])</span>,\n",
       "    <span style=\"color: #800080; text-decoration-color: #800080; font-weight: bold\">RealDictRow</span><span style=\"font-weight: bold\">([(</span><span style=\"color: #008000; text-decoration-color: #008000\">'rule_name'</span>, <span style=\"color: #008000; text-decoration-color: #008000\">'Charging More than One Unit'</span><span style=\"font-weight: bold\">)</span>, <span style=\"font-weight: bold\">(</span><span style=\"color: #008000; text-decoration-color: #008000\">'distance'</span>, <span style=\"color: #008080; text-decoration-color: #008080; font-weight: bold\">13.989492560475858</span><span style=\"font-weight: bold\">)])</span>,\n",
       "    <span style=\"color: #800080; text-decoration-color: #800080; font-weight: bold\">RealDictRow</span><span style=\"font-weight: bold\">([(</span><span style=\"color: #008000; text-decoration-color: #008000\">'rule_name'</span>, <span style=\"color: #008000; text-decoration-color: #008000\">'Accidental Contact During a Charge'</span><span style=\"font-weight: bold\">)</span>, <span style=\"font-weight: bold\">(</span><span style=\"color: #008000; text-decoration-color: #008000\">'distance'</span>, <span style=\"color: #008080; text-decoration-color: #008080; font-weight: bold\">14.089885985520285</span><span style=\"font-weight: bold\">)])</span>,\n",
       "    <span style=\"color: #800080; text-decoration-color: #800080; font-weight: bold\">RealDictRow</span><span style=\"font-weight: bold\">([(</span><span style=\"color: #008000; text-decoration-color: #008000\">'rule_name'</span>, <span style=\"color: #008000; text-decoration-color: #008000\">'Charging Through Terrain'</span><span style=\"font-weight: bold\">)</span>, <span style=\"font-weight: bold\">(</span><span style=\"color: #008000; text-decoration-color: #008000\">'distance'</span>, <span style=\"color: #008080; text-decoration-color: #008080; font-weight: bold\">14.110138493323914</span><span style=\"font-weight: bold\">)])</span>,\n",
       "    <span style=\"color: #800080; text-decoration-color: #800080; font-weight: bold\">RealDictRow</span><span style=\"font-weight: bold\">([(</span><span style=\"color: #008000; text-decoration-color: #008000\">'rule_name'</span>, <span style=\"color: #008000; text-decoration-color: #008000\">'Manoeuvring During a Charge'</span><span style=\"font-weight: bold\">)</span>, <span style=\"font-weight: bold\">(</span><span style=\"color: #008000; text-decoration-color: #008000\">'distance'</span>, <span style=\"color: #008080; text-decoration-color: #008080; font-weight: bold\">14.145107844330292</span><span style=\"font-weight: bold\">)])</span>,\n",
       "    <span style=\"color: #800080; text-decoration-color: #800080; font-weight: bold\">RealDictRow</span><span style=\"font-weight: bold\">([(</span><span style=\"color: #008000; text-decoration-color: #008000\">'rule_name'</span>, <span style=\"color: #008000; text-decoration-color: #008000\">'Unable to Align'</span><span style=\"font-weight: bold\">)</span>, <span style=\"font-weight: bold\">(</span><span style=\"color: #008000; text-decoration-color: #008000\">'distance'</span>, <span style=\"color: #008080; text-decoration-color: #008080; font-weight: bold\">14.164234326557056</span><span style=\"font-weight: bold\">)])</span>,\n",
       "    <span style=\"color: #800080; text-decoration-color: #800080; font-weight: bold\">RealDictRow</span><span style=\"font-weight: bold\">([(</span><span style=\"color: #008000; text-decoration-color: #008000\">'rule_name'</span>, <span style=\"color: #008000; text-decoration-color: #008000\">'Charge Reactions &amp; Multiple Charging Units'</span><span style=\"font-weight: bold\">)</span>, <span style=\"font-weight: bold\">(</span><span style=\"color: #008000; text-decoration-color: #008000\">'distance'</span>, <span style=\"color: #008080; text-decoration-color: #008080; font-weight: bold\">14.221697088984152</span><span style=\"font-weight: bold\">)])</span>,\n",
       "    <span style=\"color: #800080; text-decoration-color: #800080; font-weight: bold\">RealDictRow</span><span style=\"font-weight: bold\">([(</span><span style=\"color: #008000; text-decoration-color: #008000\">'rule_name'</span>, <span style=\"color: #008000; text-decoration-color: #008000\">'Multiple Charge Targets'</span><span style=\"font-weight: bold\">)</span>, <span style=\"font-weight: bold\">(</span><span style=\"color: #008000; text-decoration-color: #008000\">'distance'</span>, <span style=\"color: #008080; text-decoration-color: #008080; font-weight: bold\">14.425002200227302</span><span style=\"font-weight: bold\">)])</span>,\n",
       "    <span style=\"color: #800080; text-decoration-color: #800080; font-weight: bold\">RealDictRow</span><span style=\"font-weight: bold\">([(</span><span style=\"color: #008000; text-decoration-color: #008000\">'rule_name'</span>, <span style=\"color: #008000; text-decoration-color: #008000\">'Multiple Charging Units'</span><span style=\"font-weight: bold\">)</span>, <span style=\"font-weight: bold\">(</span><span style=\"color: #008000; text-decoration-color: #008000\">'distance'</span>, <span style=\"color: #008080; text-decoration-color: #008080; font-weight: bold\">14.453441719502747</span><span style=\"font-weight: bold\">)])</span>,\n",
       "    <span style=\"color: #800080; text-decoration-color: #800080; font-weight: bold\">RealDictRow</span><span style=\"font-weight: bold\">([(</span><span style=\"color: #008000; text-decoration-color: #008000\">'rule_name'</span>, <span style=\"color: #008000; text-decoration-color: #008000\">'Aligning to the Enemy'</span><span style=\"font-weight: bold\">)</span>, <span style=\"font-weight: bold\">(</span><span style=\"color: #008000; text-decoration-color: #008000\">'distance'</span>, <span style=\"color: #008080; text-decoration-color: #008080; font-weight: bold\">14.47902820255661</span><span style=\"font-weight: bold\">)])</span>,\n",
       "    <span style=\"color: #800080; text-decoration-color: #800080; font-weight: bold\">RealDictRow</span><span style=\"font-weight: bold\">([(</span><span style=\"color: #008000; text-decoration-color: #008000\">'rule_name'</span>, <span style=\"color: #008000; text-decoration-color: #008000\">'Running Down the Foe'</span><span style=\"font-weight: bold\">)</span>, <span style=\"font-weight: bold\">(</span><span style=\"color: #008000; text-decoration-color: #008000\">'distance'</span>, <span style=\"color: #008080; text-decoration-color: #008080; font-weight: bold\">14.548411614935086</span><span style=\"font-weight: bold\">)])</span>,\n",
       "    <span style=\"color: #800080; text-decoration-color: #800080; font-weight: bold\">RealDictRow</span><span style=\"font-weight: bold\">([(</span><span style=\"color: #008000; text-decoration-color: #008000\">'rule_name'</span>, <span style=\"color: #008000; text-decoration-color: #008000\">'Halting a Charge'</span><span style=\"font-weight: bold\">)</span>, <span style=\"font-weight: bold\">(</span><span style=\"color: #008000; text-decoration-color: #008000\">'distance'</span>, <span style=\"color: #008080; text-decoration-color: #008080; font-weight: bold\">14.60165707316216</span><span style=\"font-weight: bold\">)])</span>,\n",
       "    <span style=\"color: #800080; text-decoration-color: #800080; font-weight: bold\">RealDictRow</span><span style=\"font-weight: bold\">([(</span><span style=\"color: #008000; text-decoration-color: #008000\">'rule_name'</span>, <span style=\"color: #008000; text-decoration-color: #008000\">'Charging Units'</span><span style=\"font-weight: bold\">)</span>, <span style=\"font-weight: bold\">(</span><span style=\"color: #008000; text-decoration-color: #008000\">'distance'</span>, <span style=\"color: #008080; text-decoration-color: #008080; font-weight: bold\">14.731387016426334</span><span style=\"font-weight: bold\">)])</span>,\n",
       "    <span style=\"color: #800080; text-decoration-color: #800080; font-weight: bold\">RealDictRow</span><span style=\"font-weight: bold\">([(</span><span style=\"color: #008000; text-decoration-color: #008000\">'rule_name'</span>, <span style=\"color: #008000; text-decoration-color: #008000\">'Unusual Situations (Charging)'</span><span style=\"font-weight: bold\">)</span>, <span style=\"font-weight: bold\">(</span><span style=\"color: #008000; text-decoration-color: #008000\">'distance'</span>, <span style=\"color: #008080; text-decoration-color: #008080; font-weight: bold\">14.738603747631167</span><span style=\"font-weight: bold\">)])</span>,\n",
       "    <span style=\"color: #800080; text-decoration-color: #800080; font-weight: bold\">RealDictRow</span><span style=\"font-weight: bold\">([(</span><span style=\"color: #008000; text-decoration-color: #008000\">'rule_name'</span>, <span style=\"color: #008000; text-decoration-color: #008000\">'Resolving Uncertainties'</span><span style=\"font-weight: bold\">)</span>, <span style=\"font-weight: bold\">(</span><span style=\"color: #008000; text-decoration-color: #008000\">'distance'</span>, <span style=\"color: #008080; text-decoration-color: #008080; font-weight: bold\">14.759284766424363</span><span style=\"font-weight: bold\">)])</span>,\n",
       "    <span style=\"color: #800080; text-decoration-color: #800080; font-weight: bold\">RealDictRow</span><span style=\"font-weight: bold\">([(</span><span style=\"color: #008000; text-decoration-color: #008000\">'rule_name'</span>, <span style=\"color: #008000; text-decoration-color: #008000\">'Disordered Charges'</span><span style=\"font-weight: bold\">)</span>, <span style=\"font-weight: bold\">(</span><span style=\"color: #008000; text-decoration-color: #008000\">'distance'</span>, <span style=\"color: #008080; text-decoration-color: #008080; font-weight: bold\">14.833527524441358</span><span style=\"font-weight: bold\">)])</span>,\n",
       "    <span style=\"color: #800080; text-decoration-color: #800080; font-weight: bold\">RealDictRow</span><span style=\"font-weight: bold\">([(</span><span style=\"color: #008000; text-decoration-color: #008000\">'rule_name'</span>, <span style=\"color: #008000; text-decoration-color: #008000\">'Who Can Charge?'</span><span style=\"font-weight: bold\">)</span>, <span style=\"font-weight: bold\">(</span><span style=\"color: #008000; text-decoration-color: #008000\">'distance'</span>, <span style=\"color: #008080; text-decoration-color: #008080; font-weight: bold\">14.845497430039604</span><span style=\"font-weight: bold\">)])</span>,\n",
       "    <span style=\"color: #800080; text-decoration-color: #800080; font-weight: bold\">RealDictRow</span><span style=\"font-weight: bold\">([(</span><span style=\"color: #008000; text-decoration-color: #008000\">'rule_name'</span>, <span style=\"color: #008000; text-decoration-color: #008000\">'Flank &amp; Rear Charges'</span><span style=\"font-weight: bold\">)</span>, <span style=\"font-weight: bold\">(</span><span style=\"color: #008000; text-decoration-color: #008000\">'distance'</span>, <span style=\"color: #008080; text-decoration-color: #008080; font-weight: bold\">14.8855414984852</span><span style=\"font-weight: bold\">)])</span>\n",
       "<span style=\"font-weight: bold\">]</span>\n",
       "</pre>\n"
      ],
      "text/plain": [
       "\u001b[1m[\u001b[0m\n",
       "    \u001b[1;35mRealDictRow\u001b[0m\u001b[1m(\u001b[0m\u001b[1m[\u001b[0m\u001b[1m(\u001b[0m\u001b[32m'rule_name'\u001b[0m, \u001b[32m'The Charge Move'\u001b[0m\u001b[1m)\u001b[0m, \u001b[1m(\u001b[0m\u001b[32m'distance'\u001b[0m, \u001b[1;36m13.069721762651453\u001b[0m\u001b[1m)\u001b[0m\u001b[1m]\u001b[0m\u001b[1m)\u001b[0m,\n",
       "    \u001b[1;35mRealDictRow\u001b[0m\u001b[1m(\u001b[0m\u001b[1m[\u001b[0m\u001b[1m(\u001b[0m\u001b[32m'rule_name'\u001b[0m, \u001b[32m'The Charge Move \u001b[0m\u001b[32m(\u001b[0m\u001b[32mIntro\u001b[0m\u001b[32m)\u001b[0m\u001b[32m'\u001b[0m\u001b[1m)\u001b[0m, \u001b[1m(\u001b[0m\u001b[32m'distance'\u001b[0m, \u001b[1;36m13.238372307152169\u001b[0m\u001b[1m)\u001b[0m\u001b[1m]\u001b[0m\u001b[1m)\u001b[0m,\n",
       "    \u001b[1;35mRealDictRow\u001b[0m\u001b[1m(\u001b[0m\u001b[1m[\u001b[0m\u001b[1m(\u001b[0m\u001b[32m'rule_name'\u001b[0m, \u001b[32m'Declare Charges & Charge Reactions'\u001b[0m\u001b[1m)\u001b[0m, \u001b[1m(\u001b[0m\u001b[32m'distance'\u001b[0m, \u001b[1;36m13.890500869453804\u001b[0m\u001b[1m)\u001b[0m\u001b[1m]\u001b[0m\u001b[1m)\u001b[0m,\n",
       "    \u001b[1;35mRealDictRow\u001b[0m\u001b[1m(\u001b[0m\u001b[1m[\u001b[0m\u001b[1m(\u001b[0m\u001b[32m'rule_name'\u001b[0m, \u001b[32m'Charging More than One Unit'\u001b[0m\u001b[1m)\u001b[0m, \u001b[1m(\u001b[0m\u001b[32m'distance'\u001b[0m, \u001b[1;36m13.989492560475858\u001b[0m\u001b[1m)\u001b[0m\u001b[1m]\u001b[0m\u001b[1m)\u001b[0m,\n",
       "    \u001b[1;35mRealDictRow\u001b[0m\u001b[1m(\u001b[0m\u001b[1m[\u001b[0m\u001b[1m(\u001b[0m\u001b[32m'rule_name'\u001b[0m, \u001b[32m'Accidental Contact During a Charge'\u001b[0m\u001b[1m)\u001b[0m, \u001b[1m(\u001b[0m\u001b[32m'distance'\u001b[0m, \u001b[1;36m14.089885985520285\u001b[0m\u001b[1m)\u001b[0m\u001b[1m]\u001b[0m\u001b[1m)\u001b[0m,\n",
       "    \u001b[1;35mRealDictRow\u001b[0m\u001b[1m(\u001b[0m\u001b[1m[\u001b[0m\u001b[1m(\u001b[0m\u001b[32m'rule_name'\u001b[0m, \u001b[32m'Charging Through Terrain'\u001b[0m\u001b[1m)\u001b[0m, \u001b[1m(\u001b[0m\u001b[32m'distance'\u001b[0m, \u001b[1;36m14.110138493323914\u001b[0m\u001b[1m)\u001b[0m\u001b[1m]\u001b[0m\u001b[1m)\u001b[0m,\n",
       "    \u001b[1;35mRealDictRow\u001b[0m\u001b[1m(\u001b[0m\u001b[1m[\u001b[0m\u001b[1m(\u001b[0m\u001b[32m'rule_name'\u001b[0m, \u001b[32m'Manoeuvring During a Charge'\u001b[0m\u001b[1m)\u001b[0m, \u001b[1m(\u001b[0m\u001b[32m'distance'\u001b[0m, \u001b[1;36m14.145107844330292\u001b[0m\u001b[1m)\u001b[0m\u001b[1m]\u001b[0m\u001b[1m)\u001b[0m,\n",
       "    \u001b[1;35mRealDictRow\u001b[0m\u001b[1m(\u001b[0m\u001b[1m[\u001b[0m\u001b[1m(\u001b[0m\u001b[32m'rule_name'\u001b[0m, \u001b[32m'Unable to Align'\u001b[0m\u001b[1m)\u001b[0m, \u001b[1m(\u001b[0m\u001b[32m'distance'\u001b[0m, \u001b[1;36m14.164234326557056\u001b[0m\u001b[1m)\u001b[0m\u001b[1m]\u001b[0m\u001b[1m)\u001b[0m,\n",
       "    \u001b[1;35mRealDictRow\u001b[0m\u001b[1m(\u001b[0m\u001b[1m[\u001b[0m\u001b[1m(\u001b[0m\u001b[32m'rule_name'\u001b[0m, \u001b[32m'Charge Reactions & Multiple Charging Units'\u001b[0m\u001b[1m)\u001b[0m, \u001b[1m(\u001b[0m\u001b[32m'distance'\u001b[0m, \u001b[1;36m14.221697088984152\u001b[0m\u001b[1m)\u001b[0m\u001b[1m]\u001b[0m\u001b[1m)\u001b[0m,\n",
       "    \u001b[1;35mRealDictRow\u001b[0m\u001b[1m(\u001b[0m\u001b[1m[\u001b[0m\u001b[1m(\u001b[0m\u001b[32m'rule_name'\u001b[0m, \u001b[32m'Multiple Charge Targets'\u001b[0m\u001b[1m)\u001b[0m, \u001b[1m(\u001b[0m\u001b[32m'distance'\u001b[0m, \u001b[1;36m14.425002200227302\u001b[0m\u001b[1m)\u001b[0m\u001b[1m]\u001b[0m\u001b[1m)\u001b[0m,\n",
       "    \u001b[1;35mRealDictRow\u001b[0m\u001b[1m(\u001b[0m\u001b[1m[\u001b[0m\u001b[1m(\u001b[0m\u001b[32m'rule_name'\u001b[0m, \u001b[32m'Multiple Charging Units'\u001b[0m\u001b[1m)\u001b[0m, \u001b[1m(\u001b[0m\u001b[32m'distance'\u001b[0m, \u001b[1;36m14.453441719502747\u001b[0m\u001b[1m)\u001b[0m\u001b[1m]\u001b[0m\u001b[1m)\u001b[0m,\n",
       "    \u001b[1;35mRealDictRow\u001b[0m\u001b[1m(\u001b[0m\u001b[1m[\u001b[0m\u001b[1m(\u001b[0m\u001b[32m'rule_name'\u001b[0m, \u001b[32m'Aligning to the Enemy'\u001b[0m\u001b[1m)\u001b[0m, \u001b[1m(\u001b[0m\u001b[32m'distance'\u001b[0m, \u001b[1;36m14.47902820255661\u001b[0m\u001b[1m)\u001b[0m\u001b[1m]\u001b[0m\u001b[1m)\u001b[0m,\n",
       "    \u001b[1;35mRealDictRow\u001b[0m\u001b[1m(\u001b[0m\u001b[1m[\u001b[0m\u001b[1m(\u001b[0m\u001b[32m'rule_name'\u001b[0m, \u001b[32m'Running Down the Foe'\u001b[0m\u001b[1m)\u001b[0m, \u001b[1m(\u001b[0m\u001b[32m'distance'\u001b[0m, \u001b[1;36m14.548411614935086\u001b[0m\u001b[1m)\u001b[0m\u001b[1m]\u001b[0m\u001b[1m)\u001b[0m,\n",
       "    \u001b[1;35mRealDictRow\u001b[0m\u001b[1m(\u001b[0m\u001b[1m[\u001b[0m\u001b[1m(\u001b[0m\u001b[32m'rule_name'\u001b[0m, \u001b[32m'Halting a Charge'\u001b[0m\u001b[1m)\u001b[0m, \u001b[1m(\u001b[0m\u001b[32m'distance'\u001b[0m, \u001b[1;36m14.60165707316216\u001b[0m\u001b[1m)\u001b[0m\u001b[1m]\u001b[0m\u001b[1m)\u001b[0m,\n",
       "    \u001b[1;35mRealDictRow\u001b[0m\u001b[1m(\u001b[0m\u001b[1m[\u001b[0m\u001b[1m(\u001b[0m\u001b[32m'rule_name'\u001b[0m, \u001b[32m'Charging Units'\u001b[0m\u001b[1m)\u001b[0m, \u001b[1m(\u001b[0m\u001b[32m'distance'\u001b[0m, \u001b[1;36m14.731387016426334\u001b[0m\u001b[1m)\u001b[0m\u001b[1m]\u001b[0m\u001b[1m)\u001b[0m,\n",
       "    \u001b[1;35mRealDictRow\u001b[0m\u001b[1m(\u001b[0m\u001b[1m[\u001b[0m\u001b[1m(\u001b[0m\u001b[32m'rule_name'\u001b[0m, \u001b[32m'Unusual Situations \u001b[0m\u001b[32m(\u001b[0m\u001b[32mCharging\u001b[0m\u001b[32m)\u001b[0m\u001b[32m'\u001b[0m\u001b[1m)\u001b[0m, \u001b[1m(\u001b[0m\u001b[32m'distance'\u001b[0m, \u001b[1;36m14.738603747631167\u001b[0m\u001b[1m)\u001b[0m\u001b[1m]\u001b[0m\u001b[1m)\u001b[0m,\n",
       "    \u001b[1;35mRealDictRow\u001b[0m\u001b[1m(\u001b[0m\u001b[1m[\u001b[0m\u001b[1m(\u001b[0m\u001b[32m'rule_name'\u001b[0m, \u001b[32m'Resolving Uncertainties'\u001b[0m\u001b[1m)\u001b[0m, \u001b[1m(\u001b[0m\u001b[32m'distance'\u001b[0m, \u001b[1;36m14.759284766424363\u001b[0m\u001b[1m)\u001b[0m\u001b[1m]\u001b[0m\u001b[1m)\u001b[0m,\n",
       "    \u001b[1;35mRealDictRow\u001b[0m\u001b[1m(\u001b[0m\u001b[1m[\u001b[0m\u001b[1m(\u001b[0m\u001b[32m'rule_name'\u001b[0m, \u001b[32m'Disordered Charges'\u001b[0m\u001b[1m)\u001b[0m, \u001b[1m(\u001b[0m\u001b[32m'distance'\u001b[0m, \u001b[1;36m14.833527524441358\u001b[0m\u001b[1m)\u001b[0m\u001b[1m]\u001b[0m\u001b[1m)\u001b[0m,\n",
       "    \u001b[1;35mRealDictRow\u001b[0m\u001b[1m(\u001b[0m\u001b[1m[\u001b[0m\u001b[1m(\u001b[0m\u001b[32m'rule_name'\u001b[0m, \u001b[32m'Who Can Charge?'\u001b[0m\u001b[1m)\u001b[0m, \u001b[1m(\u001b[0m\u001b[32m'distance'\u001b[0m, \u001b[1;36m14.845497430039604\u001b[0m\u001b[1m)\u001b[0m\u001b[1m]\u001b[0m\u001b[1m)\u001b[0m,\n",
       "    \u001b[1;35mRealDictRow\u001b[0m\u001b[1m(\u001b[0m\u001b[1m[\u001b[0m\u001b[1m(\u001b[0m\u001b[32m'rule_name'\u001b[0m, \u001b[32m'Flank & Rear Charges'\u001b[0m\u001b[1m)\u001b[0m, \u001b[1m(\u001b[0m\u001b[32m'distance'\u001b[0m, \u001b[1;36m14.8855414984852\u001b[0m\u001b[1m)\u001b[0m\u001b[1m]\u001b[0m\u001b[1m)\u001b[0m\n",
       "\u001b[1m]\u001b[0m\n"
      ]
     },
     "metadata": {},
     "output_type": "display_data"
    }
   ],
   "source": [
    "query = \"SELECT rule_name, embedding <-> %s as distance FROM rules ORDER BY distance LIMIT 20\"\n",
    "\n",
    "prompt = \"how to charge a unit?\"\n",
    "cur = conn.cursor(cursor_factory=RealDictCursor)\n",
    "embedding = np.array(ollama.embeddings(model=\"mxbai-embed-large\", prompt=prompt).get(\"embedding\"))\n",
    "cur.execute(query, (embedding,))\n",
    "results=cur.fetchall()\n",
    "print(results)\n"
   ]
  },
  {
   "cell_type": "code",
   "execution_count": 117,
   "metadata": {},
   "outputs": [
    {
     "data": {
      "text/html": [
       "<pre style=\"white-space:pre;overflow-x:auto;line-height:normal;font-family:Menlo,'DejaVu Sans Mono',consolas,'Courier New',monospace\"><span style=\"font-weight: bold\">[</span>\n",
       "    <span style=\"color: #800080; text-decoration-color: #800080; font-weight: bold\">RealDictRow</span><span style=\"font-weight: bold\">([(</span><span style=\"color: #008000; text-decoration-color: #008000\">'rule_name'</span>, <span style=\"color: #008000; text-decoration-color: #008000\">'Corporeal Unmaking'</span><span style=\"font-weight: bold\">)</span>, <span style=\"font-weight: bold\">(</span><span style=\"color: #008000; text-decoration-color: #008000\">'distance'</span>, <span style=\"color: #008080; text-decoration-color: #008080; font-weight: bold\">17.289837378139218</span><span style=\"font-weight: bold\">)])</span>,\n",
       "    <span style=\"color: #800080; text-decoration-color: #800080; font-weight: bold\">RealDictRow</span><span style=\"font-weight: bold\">([(</span><span style=\"color: #008000; text-decoration-color: #008000\">'rule_name'</span>, <span style=\"color: #008000; text-decoration-color: #008000\">'Barding'</span><span style=\"font-weight: bold\">)</span>, <span style=\"font-weight: bold\">(</span><span style=\"color: #008000; text-decoration-color: #008000\">'distance'</span>, <span style=\"color: #008080; text-decoration-color: #008080; font-weight: bold\">17.346115583325222</span><span style=\"font-weight: bold\">)])</span>,\n",
       "    <span style=\"color: #800080; text-decoration-color: #800080; font-weight: bold\">RealDictRow</span><span style=\"font-weight: bold\">([(</span><span style=\"color: #008000; text-decoration-color: #008000\">'rule_name'</span>, <span style=\"color: #008000; text-decoration-color: #008000\">'Morning Star'</span><span style=\"font-weight: bold\">)</span>, <span style=\"font-weight: bold\">(</span><span style=\"color: #008000; text-decoration-color: #008000\">'distance'</span>, <span style=\"color: #008080; text-decoration-color: #008080; font-weight: bold\">17.366536446130116</span><span style=\"font-weight: bold\">)])</span>,\n",
       "    <span style=\"color: #800080; text-decoration-color: #800080; font-weight: bold\">RealDictRow</span><span style=\"font-weight: bold\">([(</span><span style=\"color: #008000; text-decoration-color: #008000\">'rule_name'</span>, <span style=\"color: #008000; text-decoration-color: #008000\">'Unquiet Spirits'</span><span style=\"font-weight: bold\">)</span>, <span style=\"font-weight: bold\">(</span><span style=\"color: #008000; text-decoration-color: #008000\">'distance'</span>, <span style=\"color: #008080; text-decoration-color: #008080; font-weight: bold\">17.40040542305606</span><span style=\"font-weight: bold\">)])</span>,\n",
       "    <span style=\"color: #800080; text-decoration-color: #800080; font-weight: bold\">RealDictRow</span><span style=\"font-weight: bold\">([(</span><span style=\"color: #008000; text-decoration-color: #008000\">'rule_name'</span>, <span style=\"color: #008000; text-decoration-color: #008000\">'Resolving Uncertainties'</span><span style=\"font-weight: bold\">)</span>, <span style=\"font-weight: bold\">(</span><span style=\"color: #008000; text-decoration-color: #008000\">'distance'</span>, <span style=\"color: #008080; text-decoration-color: #008080; font-weight: bold\">17.5100260760398</span><span style=\"font-weight: bold\">)])</span>,\n",
       "    <span style=\"color: #800080; text-decoration-color: #800080; font-weight: bold\">RealDictRow</span><span style=\"font-weight: bold\">([(</span><span style=\"color: #008000; text-decoration-color: #008000\">'rule_name'</span>, <span style=\"color: #008000; text-decoration-color: #008000\">'Lone Models'</span><span style=\"font-weight: bold\">)</span>, <span style=\"font-weight: bold\">(</span><span style=\"color: #008000; text-decoration-color: #008000\">'distance'</span>, <span style=\"color: #008080; text-decoration-color: #008080; font-weight: bold\">17.645923937039875</span><span style=\"font-weight: bold\">)])</span>,\n",
       "    <span style=\"color: #800080; text-decoration-color: #800080; font-weight: bold\">RealDictRow</span><span style=\"font-weight: bold\">([(</span><span style=\"color: #008000; text-decoration-color: #008000\">'rule_name'</span>, <span style=\"color: #008000; text-decoration-color: #008000\">'Suspicious Allied Contingents'</span><span style=\"font-weight: bold\">)</span>, <span style=\"font-weight: bold\">(</span><span style=\"color: #008000; text-decoration-color: #008000\">'distance'</span>, <span style=\"color: #008080; text-decoration-color: #008080; font-weight: bold\">17.646030297319175</span><span style=\"font-weight: bold\">)])</span>,\n",
       "    <span style=\"color: #800080; text-decoration-color: #800080; font-weight: bold\">RealDictRow</span><span style=\"font-weight: bold\">([(</span><span style=\"color: #008000; text-decoration-color: #008000\">'rule_name'</span>, <span style=\"color: #008000; text-decoration-color: #008000\">'Fiery Convocation'</span><span style=\"font-weight: bold\">)</span>, <span style=\"font-weight: bold\">(</span><span style=\"color: #008000; text-decoration-color: #008000\">'distance'</span>, <span style=\"color: #008080; text-decoration-color: #008080; font-weight: bold\">17.65670197845168</span><span style=\"font-weight: bold\">)])</span>,\n",
       "    <span style=\"color: #800080; text-decoration-color: #800080; font-weight: bold\">RealDictRow</span><span style=\"font-weight: bold\">([(</span><span style=\"color: #008000; text-decoration-color: #008000\">'rule_name'</span>, <span style=\"color: #008000; text-decoration-color: #008000\">'Initiative (I)'</span><span style=\"font-weight: bold\">)</span>, <span style=\"font-weight: bold\">(</span><span style=\"color: #008000; text-decoration-color: #008000\">'distance'</span>, <span style=\"color: #008080; text-decoration-color: #008080; font-weight: bold\">17.669795688900876</span><span style=\"font-weight: bold\">)])</span>,\n",
       "    <span style=\"color: #800080; text-decoration-color: #800080; font-weight: bold\">RealDictRow</span><span style=\"font-weight: bold\">([(</span><span style=\"color: #008000; text-decoration-color: #008000\">'rule_name'</span>, <span style=\"color: #008000; text-decoration-color: #008000\">'The Games Master'</span><span style=\"font-weight: bold\">)</span>, <span style=\"font-weight: bold\">(</span><span style=\"color: #008000; text-decoration-color: #008000\">'distance'</span>, <span style=\"color: #008080; text-decoration-color: #008080; font-weight: bold\">17.67895560239366</span><span style=\"font-weight: bold\">)])</span>,\n",
       "    <span style=\"color: #800080; text-decoration-color: #800080; font-weight: bold\">RealDictRow</span><span style=\"font-weight: bold\">([(</span><span style=\"color: #008000; text-decoration-color: #008000\">'rule_name'</span>, <span style=\"color: #008000; text-decoration-color: #008000\">'Spirit Leech'</span><span style=\"font-weight: bold\">)</span>, <span style=\"font-weight: bold\">(</span><span style=\"color: #008000; text-decoration-color: #008000\">'distance'</span>, <span style=\"color: #008080; text-decoration-color: #008080; font-weight: bold\">17.679840262541525</span><span style=\"font-weight: bold\">)])</span>,\n",
       "    <span style=\"color: #800080; text-decoration-color: #800080; font-weight: bold\">RealDictRow</span><span style=\"font-weight: bold\">([(</span><span style=\"color: #008000; text-decoration-color: #008000\">'rule_name'</span>, <span style=\"color: #008000; text-decoration-color: #008000\">'Redress the Ranks'</span><span style=\"font-weight: bold\">)</span>, <span style=\"font-weight: bold\">(</span><span style=\"color: #008000; text-decoration-color: #008000\">'distance'</span>, <span style=\"color: #008080; text-decoration-color: #008080; font-weight: bold\">17.691159142814985</span><span style=\"font-weight: bold\">)])</span>,\n",
       "    <span style=\"color: #800080; text-decoration-color: #800080; font-weight: bold\">RealDictRow</span><span style=\"font-weight: bold\">([(</span><span style=\"color: #008000; text-decoration-color: #008000\">'rule_name'</span>, <span style=\"color: #008000; text-decoration-color: #008000\">'Travel Mystical Pathway'</span><span style=\"font-weight: bold\">)</span>, <span style=\"font-weight: bold\">(</span><span style=\"color: #008000; text-decoration-color: #008000\">'distance'</span>, <span style=\"color: #008080; text-decoration-color: #008080; font-weight: bold\">17.73839178767034</span><span style=\"font-weight: bold\">)])</span>,\n",
       "    <span style=\"color: #800080; text-decoration-color: #800080; font-weight: bold\">RealDictRow</span><span style=\"font-weight: bold\">([(</span><span style=\"color: #008000; text-decoration-color: #008000\">'rule_name'</span>, <span style=\"color: #008000; text-decoration-color: #008000\">'Howdah'</span><span style=\"font-weight: bold\">)</span>, <span style=\"font-weight: bold\">(</span><span style=\"color: #008000; text-decoration-color: #008000\">'distance'</span>, <span style=\"color: #008080; text-decoration-color: #008080; font-weight: bold\">17.759774109374693</span><span style=\"font-weight: bold\">)])</span>,\n",
       "    <span style=\"color: #800080; text-decoration-color: #800080; font-weight: bold\">RealDictRow</span><span style=\"font-weight: bold\">([(</span><span style=\"color: #008000; text-decoration-color: #008000\">'rule_name'</span>, <span style=\"color: #008000; text-decoration-color: #008000\">'The Role of a GM'</span><span style=\"font-weight: bold\">)</span>, <span style=\"font-weight: bold\">(</span><span style=\"color: #008000; text-decoration-color: #008000\">'distance'</span>, <span style=\"color: #008080; text-decoration-color: #008080; font-weight: bold\">17.777795653864032</span><span style=\"font-weight: bold\">)])</span>,\n",
       "    <span style=\"color: #800080; text-decoration-color: #800080; font-weight: bold\">RealDictRow</span><span style=\"font-weight: bold\">([(</span><span style=\"color: #008000; text-decoration-color: #008000\">'rule_name'</span>, <span style=\"color: #008000; text-decoration-color: #008000\">'Mind Razor'</span><span style=\"font-weight: bold\">)</span>, <span style=\"font-weight: bold\">(</span><span style=\"color: #008000; text-decoration-color: #008000\">'distance'</span>, <span style=\"color: #008080; text-decoration-color: #008080; font-weight: bold\">17.782721647964475</span><span style=\"font-weight: bold\">)])</span>,\n",
       "    <span style=\"color: #800080; text-decoration-color: #800080; font-weight: bold\">RealDictRow</span><span style=\"font-weight: bold\">([(</span><span style=\"color: #008000; text-decoration-color: #008000\">'rule_name'</span>, <span style=\"color: #008000; text-decoration-color: #008000\">'Talismans'</span><span style=\"font-weight: bold\">)</span>, <span style=\"font-weight: bold\">(</span><span style=\"color: #008000; text-decoration-color: #008000\">'distance'</span>, <span style=\"color: #008080; text-decoration-color: #008080; font-weight: bold\">17.79773750927962</span><span style=\"font-weight: bold\">)])</span>,\n",
       "    <span style=\"color: #800080; text-decoration-color: #800080; font-weight: bold\">RealDictRow</span><span style=\"font-weight: bold\">([(</span><span style=\"color: #008000; text-decoration-color: #008000\">'rule_name'</span>, <span style=\"color: #008000; text-decoration-color: #008000\">'Halberd'</span><span style=\"font-weight: bold\">)</span>, <span style=\"font-weight: bold\">(</span><span style=\"color: #008000; text-decoration-color: #008000\">'distance'</span>, <span style=\"color: #008080; text-decoration-color: #008080; font-weight: bold\">17.823010365432886</span><span style=\"font-weight: bold\">)])</span>,\n",
       "    <span style=\"color: #800080; text-decoration-color: #800080; font-weight: bold\">RealDictRow</span><span style=\"font-weight: bold\">([(</span><span style=\"color: #008000; text-decoration-color: #008000\">'rule_name'</span>, <span style=\"color: #008000; text-decoration-color: #008000\">'Occupancy'</span><span style=\"font-weight: bold\">)</span>, <span style=\"font-weight: bold\">(</span><span style=\"color: #008000; text-decoration-color: #008000\">'distance'</span>, <span style=\"color: #008080; text-decoration-color: #008080; font-weight: bold\">17.829572239407046</span><span style=\"font-weight: bold\">)])</span>,\n",
       "    <span style=\"color: #800080; text-decoration-color: #800080; font-weight: bold\">RealDictRow</span><span style=\"font-weight: bold\">([(</span><span style=\"color: #008000; text-decoration-color: #008000\">'rule_name'</span>, <span style=\"color: #008000; text-decoration-color: #008000\">'Summon Elemental Spirit'</span><span style=\"font-weight: bold\">)</span>, <span style=\"font-weight: bold\">(</span><span style=\"color: #008000; text-decoration-color: #008000\">'distance'</span>, <span style=\"color: #008080; text-decoration-color: #008080; font-weight: bold\">17.84733093993854</span><span style=\"font-weight: bold\">)])</span>\n",
       "<span style=\"font-weight: bold\">]</span>\n",
       "</pre>\n"
      ],
      "text/plain": [
       "\u001b[1m[\u001b[0m\n",
       "    \u001b[1;35mRealDictRow\u001b[0m\u001b[1m(\u001b[0m\u001b[1m[\u001b[0m\u001b[1m(\u001b[0m\u001b[32m'rule_name'\u001b[0m, \u001b[32m'Corporeal Unmaking'\u001b[0m\u001b[1m)\u001b[0m, \u001b[1m(\u001b[0m\u001b[32m'distance'\u001b[0m, \u001b[1;36m17.289837378139218\u001b[0m\u001b[1m)\u001b[0m\u001b[1m]\u001b[0m\u001b[1m)\u001b[0m,\n",
       "    \u001b[1;35mRealDictRow\u001b[0m\u001b[1m(\u001b[0m\u001b[1m[\u001b[0m\u001b[1m(\u001b[0m\u001b[32m'rule_name'\u001b[0m, \u001b[32m'Barding'\u001b[0m\u001b[1m)\u001b[0m, \u001b[1m(\u001b[0m\u001b[32m'distance'\u001b[0m, \u001b[1;36m17.346115583325222\u001b[0m\u001b[1m)\u001b[0m\u001b[1m]\u001b[0m\u001b[1m)\u001b[0m,\n",
       "    \u001b[1;35mRealDictRow\u001b[0m\u001b[1m(\u001b[0m\u001b[1m[\u001b[0m\u001b[1m(\u001b[0m\u001b[32m'rule_name'\u001b[0m, \u001b[32m'Morning Star'\u001b[0m\u001b[1m)\u001b[0m, \u001b[1m(\u001b[0m\u001b[32m'distance'\u001b[0m, \u001b[1;36m17.366536446130116\u001b[0m\u001b[1m)\u001b[0m\u001b[1m]\u001b[0m\u001b[1m)\u001b[0m,\n",
       "    \u001b[1;35mRealDictRow\u001b[0m\u001b[1m(\u001b[0m\u001b[1m[\u001b[0m\u001b[1m(\u001b[0m\u001b[32m'rule_name'\u001b[0m, \u001b[32m'Unquiet Spirits'\u001b[0m\u001b[1m)\u001b[0m, \u001b[1m(\u001b[0m\u001b[32m'distance'\u001b[0m, \u001b[1;36m17.40040542305606\u001b[0m\u001b[1m)\u001b[0m\u001b[1m]\u001b[0m\u001b[1m)\u001b[0m,\n",
       "    \u001b[1;35mRealDictRow\u001b[0m\u001b[1m(\u001b[0m\u001b[1m[\u001b[0m\u001b[1m(\u001b[0m\u001b[32m'rule_name'\u001b[0m, \u001b[32m'Resolving Uncertainties'\u001b[0m\u001b[1m)\u001b[0m, \u001b[1m(\u001b[0m\u001b[32m'distance'\u001b[0m, \u001b[1;36m17.5100260760398\u001b[0m\u001b[1m)\u001b[0m\u001b[1m]\u001b[0m\u001b[1m)\u001b[0m,\n",
       "    \u001b[1;35mRealDictRow\u001b[0m\u001b[1m(\u001b[0m\u001b[1m[\u001b[0m\u001b[1m(\u001b[0m\u001b[32m'rule_name'\u001b[0m, \u001b[32m'Lone Models'\u001b[0m\u001b[1m)\u001b[0m, \u001b[1m(\u001b[0m\u001b[32m'distance'\u001b[0m, \u001b[1;36m17.645923937039875\u001b[0m\u001b[1m)\u001b[0m\u001b[1m]\u001b[0m\u001b[1m)\u001b[0m,\n",
       "    \u001b[1;35mRealDictRow\u001b[0m\u001b[1m(\u001b[0m\u001b[1m[\u001b[0m\u001b[1m(\u001b[0m\u001b[32m'rule_name'\u001b[0m, \u001b[32m'Suspicious Allied Contingents'\u001b[0m\u001b[1m)\u001b[0m, \u001b[1m(\u001b[0m\u001b[32m'distance'\u001b[0m, \u001b[1;36m17.646030297319175\u001b[0m\u001b[1m)\u001b[0m\u001b[1m]\u001b[0m\u001b[1m)\u001b[0m,\n",
       "    \u001b[1;35mRealDictRow\u001b[0m\u001b[1m(\u001b[0m\u001b[1m[\u001b[0m\u001b[1m(\u001b[0m\u001b[32m'rule_name'\u001b[0m, \u001b[32m'Fiery Convocation'\u001b[0m\u001b[1m)\u001b[0m, \u001b[1m(\u001b[0m\u001b[32m'distance'\u001b[0m, \u001b[1;36m17.65670197845168\u001b[0m\u001b[1m)\u001b[0m\u001b[1m]\u001b[0m\u001b[1m)\u001b[0m,\n",
       "    \u001b[1;35mRealDictRow\u001b[0m\u001b[1m(\u001b[0m\u001b[1m[\u001b[0m\u001b[1m(\u001b[0m\u001b[32m'rule_name'\u001b[0m, \u001b[32m'Initiative \u001b[0m\u001b[32m(\u001b[0m\u001b[32mI\u001b[0m\u001b[32m)\u001b[0m\u001b[32m'\u001b[0m\u001b[1m)\u001b[0m, \u001b[1m(\u001b[0m\u001b[32m'distance'\u001b[0m, \u001b[1;36m17.669795688900876\u001b[0m\u001b[1m)\u001b[0m\u001b[1m]\u001b[0m\u001b[1m)\u001b[0m,\n",
       "    \u001b[1;35mRealDictRow\u001b[0m\u001b[1m(\u001b[0m\u001b[1m[\u001b[0m\u001b[1m(\u001b[0m\u001b[32m'rule_name'\u001b[0m, \u001b[32m'The Games Master'\u001b[0m\u001b[1m)\u001b[0m, \u001b[1m(\u001b[0m\u001b[32m'distance'\u001b[0m, \u001b[1;36m17.67895560239366\u001b[0m\u001b[1m)\u001b[0m\u001b[1m]\u001b[0m\u001b[1m)\u001b[0m,\n",
       "    \u001b[1;35mRealDictRow\u001b[0m\u001b[1m(\u001b[0m\u001b[1m[\u001b[0m\u001b[1m(\u001b[0m\u001b[32m'rule_name'\u001b[0m, \u001b[32m'Spirit Leech'\u001b[0m\u001b[1m)\u001b[0m, \u001b[1m(\u001b[0m\u001b[32m'distance'\u001b[0m, \u001b[1;36m17.679840262541525\u001b[0m\u001b[1m)\u001b[0m\u001b[1m]\u001b[0m\u001b[1m)\u001b[0m,\n",
       "    \u001b[1;35mRealDictRow\u001b[0m\u001b[1m(\u001b[0m\u001b[1m[\u001b[0m\u001b[1m(\u001b[0m\u001b[32m'rule_name'\u001b[0m, \u001b[32m'Redress the Ranks'\u001b[0m\u001b[1m)\u001b[0m, \u001b[1m(\u001b[0m\u001b[32m'distance'\u001b[0m, \u001b[1;36m17.691159142814985\u001b[0m\u001b[1m)\u001b[0m\u001b[1m]\u001b[0m\u001b[1m)\u001b[0m,\n",
       "    \u001b[1;35mRealDictRow\u001b[0m\u001b[1m(\u001b[0m\u001b[1m[\u001b[0m\u001b[1m(\u001b[0m\u001b[32m'rule_name'\u001b[0m, \u001b[32m'Travel Mystical Pathway'\u001b[0m\u001b[1m)\u001b[0m, \u001b[1m(\u001b[0m\u001b[32m'distance'\u001b[0m, \u001b[1;36m17.73839178767034\u001b[0m\u001b[1m)\u001b[0m\u001b[1m]\u001b[0m\u001b[1m)\u001b[0m,\n",
       "    \u001b[1;35mRealDictRow\u001b[0m\u001b[1m(\u001b[0m\u001b[1m[\u001b[0m\u001b[1m(\u001b[0m\u001b[32m'rule_name'\u001b[0m, \u001b[32m'Howdah'\u001b[0m\u001b[1m)\u001b[0m, \u001b[1m(\u001b[0m\u001b[32m'distance'\u001b[0m, \u001b[1;36m17.759774109374693\u001b[0m\u001b[1m)\u001b[0m\u001b[1m]\u001b[0m\u001b[1m)\u001b[0m,\n",
       "    \u001b[1;35mRealDictRow\u001b[0m\u001b[1m(\u001b[0m\u001b[1m[\u001b[0m\u001b[1m(\u001b[0m\u001b[32m'rule_name'\u001b[0m, \u001b[32m'The Role of a GM'\u001b[0m\u001b[1m)\u001b[0m, \u001b[1m(\u001b[0m\u001b[32m'distance'\u001b[0m, \u001b[1;36m17.777795653864032\u001b[0m\u001b[1m)\u001b[0m\u001b[1m]\u001b[0m\u001b[1m)\u001b[0m,\n",
       "    \u001b[1;35mRealDictRow\u001b[0m\u001b[1m(\u001b[0m\u001b[1m[\u001b[0m\u001b[1m(\u001b[0m\u001b[32m'rule_name'\u001b[0m, \u001b[32m'Mind Razor'\u001b[0m\u001b[1m)\u001b[0m, \u001b[1m(\u001b[0m\u001b[32m'distance'\u001b[0m, \u001b[1;36m17.782721647964475\u001b[0m\u001b[1m)\u001b[0m\u001b[1m]\u001b[0m\u001b[1m)\u001b[0m,\n",
       "    \u001b[1;35mRealDictRow\u001b[0m\u001b[1m(\u001b[0m\u001b[1m[\u001b[0m\u001b[1m(\u001b[0m\u001b[32m'rule_name'\u001b[0m, \u001b[32m'Talismans'\u001b[0m\u001b[1m)\u001b[0m, \u001b[1m(\u001b[0m\u001b[32m'distance'\u001b[0m, \u001b[1;36m17.79773750927962\u001b[0m\u001b[1m)\u001b[0m\u001b[1m]\u001b[0m\u001b[1m)\u001b[0m,\n",
       "    \u001b[1;35mRealDictRow\u001b[0m\u001b[1m(\u001b[0m\u001b[1m[\u001b[0m\u001b[1m(\u001b[0m\u001b[32m'rule_name'\u001b[0m, \u001b[32m'Halberd'\u001b[0m\u001b[1m)\u001b[0m, \u001b[1m(\u001b[0m\u001b[32m'distance'\u001b[0m, \u001b[1;36m17.823010365432886\u001b[0m\u001b[1m)\u001b[0m\u001b[1m]\u001b[0m\u001b[1m)\u001b[0m,\n",
       "    \u001b[1;35mRealDictRow\u001b[0m\u001b[1m(\u001b[0m\u001b[1m[\u001b[0m\u001b[1m(\u001b[0m\u001b[32m'rule_name'\u001b[0m, \u001b[32m'Occupancy'\u001b[0m\u001b[1m)\u001b[0m, \u001b[1m(\u001b[0m\u001b[32m'distance'\u001b[0m, \u001b[1;36m17.829572239407046\u001b[0m\u001b[1m)\u001b[0m\u001b[1m]\u001b[0m\u001b[1m)\u001b[0m,\n",
       "    \u001b[1;35mRealDictRow\u001b[0m\u001b[1m(\u001b[0m\u001b[1m[\u001b[0m\u001b[1m(\u001b[0m\u001b[32m'rule_name'\u001b[0m, \u001b[32m'Summon Elemental Spirit'\u001b[0m\u001b[1m)\u001b[0m, \u001b[1m(\u001b[0m\u001b[32m'distance'\u001b[0m, \u001b[1;36m17.84733093993854\u001b[0m\u001b[1m)\u001b[0m\u001b[1m]\u001b[0m\u001b[1m)\u001b[0m\n",
       "\u001b[1m]\u001b[0m\n"
      ]
     },
     "metadata": {},
     "output_type": "display_data"
    }
   ],
   "source": [
    "query = \"SELECT rule_name, embedding <-> %s as distance FROM rules ORDER BY distance LIMIT 20\"\n",
    "\n",
    "prompt = \"what is an asrai?\"\n",
    "cur = conn.cursor(cursor_factory=RealDictCursor)\n",
    "embedding = np.array(ollama.embeddings(model=\"mxbai-embed-large\", prompt=prompt).get(\"embedding\"))\n",
    "cur.execute(query, (embedding,))\n",
    "results=cur.fetchall()\n",
    "print(results)\n",
    "\n"
   ]
  },
  {
   "cell_type": "markdown",
   "metadata": {},
   "source": [
    "![alt text](./assets/wood_elf.jpg \"Asrai\")"
   ]
  },
  {
   "cell_type": "markdown",
   "metadata": {},
   "source": [
    "# Comparison with embeddings using full text search"
   ]
  },
  {
   "cell_type": "code",
   "execution_count": 119,
   "metadata": {},
   "outputs": [
    {
     "data": {
      "text/html": [
       "<pre style=\"white-space:pre;overflow-x:auto;line-height:normal;font-family:Menlo,'DejaVu Sans Mono',consolas,'Courier New',monospace\"><span style=\"font-weight: bold\">[]</span>\n",
       "</pre>\n"
      ],
      "text/plain": [
       "\u001b[1m[\u001b[0m\u001b[1m]\u001b[0m\n"
      ]
     },
     "metadata": {},
     "output_type": "display_data"
    }
   ],
   "source": [
    "query = \"\"\"\n",
    "    SELECT rule_name, ts_rank_cd(to_tsvector('english', rule_description), query) as rank FROM rules, plainto_tsquery('english', %(prompt)s) query\n",
    "    WHERE to_tsvector('english', rule_description) @@ query\n",
    "    ORDER BY rank\n",
    "    DESC LIMIT 20\n",
    "    \"\"\"\n",
    "\n",
    "prompt = \"what is an asrai?\"\n",
    "cur = conn.cursor(cursor_factory=RealDictCursor)\n",
    "embedding = np.array(ollama.embeddings(model=\"mxbai-embed-large\", prompt=prompt).get(\"embedding\"))\n",
    "cur.execute(query, {\"prompt\": prompt})\n",
    "results=cur.fetchall()\n",
    "print(results)\n"
   ]
  },
  {
   "cell_type": "code",
   "execution_count": 120,
   "metadata": {},
   "outputs": [
    {
     "data": {
      "text/html": [
       "<pre style=\"white-space:pre;overflow-x:auto;line-height:normal;font-family:Menlo,'DejaVu Sans Mono',consolas,'Courier New',monospace\"><span style=\"font-weight: bold\">[</span>\n",
       "    <span style=\"color: #800080; text-decoration-color: #800080; font-weight: bold\">RealDictRow</span><span style=\"font-weight: bold\">([(</span><span style=\"color: #008000; text-decoration-color: #008000\">'rule_name'</span>, <span style=\"color: #008000; text-decoration-color: #008000\">'Lance'</span><span style=\"font-weight: bold\">)</span>, <span style=\"font-weight: bold\">(</span><span style=\"color: #008000; text-decoration-color: #008000\">'rank'</span>, <span style=\"color: #008080; text-decoration-color: #008080; font-weight: bold\">0.6</span><span style=\"font-weight: bold\">)])</span>,\n",
       "    <span style=\"color: #800080; text-decoration-color: #800080; font-weight: bold\">RealDictRow</span><span style=\"font-weight: bold\">([(</span><span style=\"color: #008000; text-decoration-color: #008000\">'rule_name'</span>, <span style=\"color: #008000; text-decoration-color: #008000\">'Cavalry Spear'</span><span style=\"font-weight: bold\">)</span>, <span style=\"font-weight: bold\">(</span><span style=\"color: #008000; text-decoration-color: #008000\">'rank'</span>, <span style=\"color: #008080; text-decoration-color: #008080; font-weight: bold\">0.2</span><span style=\"font-weight: bold\">)])</span>,\n",
       "    <span style=\"color: #800080; text-decoration-color: #800080; font-weight: bold\">RealDictRow</span><span style=\"font-weight: bold\">([(</span><span style=\"color: #008000; text-decoration-color: #008000\">'rule_name'</span>, <span style=\"color: #008000; text-decoration-color: #008000\">'More than One Combat Weapon'</span><span style=\"font-weight: bold\">)</span>, <span style=\"font-weight: bold\">(</span><span style=\"color: #008000; text-decoration-color: #008000\">'rank'</span>, <span style=\"color: #008080; text-decoration-color: #008080; font-weight: bold\">0.1</span><span style=\"font-weight: bold\">)])</span>\n",
       "<span style=\"font-weight: bold\">]</span>\n",
       "</pre>\n"
      ],
      "text/plain": [
       "\u001b[1m[\u001b[0m\n",
       "    \u001b[1;35mRealDictRow\u001b[0m\u001b[1m(\u001b[0m\u001b[1m[\u001b[0m\u001b[1m(\u001b[0m\u001b[32m'rule_name'\u001b[0m, \u001b[32m'Lance'\u001b[0m\u001b[1m)\u001b[0m, \u001b[1m(\u001b[0m\u001b[32m'rank'\u001b[0m, \u001b[1;36m0.6\u001b[0m\u001b[1m)\u001b[0m\u001b[1m]\u001b[0m\u001b[1m)\u001b[0m,\n",
       "    \u001b[1;35mRealDictRow\u001b[0m\u001b[1m(\u001b[0m\u001b[1m[\u001b[0m\u001b[1m(\u001b[0m\u001b[32m'rule_name'\u001b[0m, \u001b[32m'Cavalry Spear'\u001b[0m\u001b[1m)\u001b[0m, \u001b[1m(\u001b[0m\u001b[32m'rank'\u001b[0m, \u001b[1;36m0.2\u001b[0m\u001b[1m)\u001b[0m\u001b[1m]\u001b[0m\u001b[1m)\u001b[0m,\n",
       "    \u001b[1;35mRealDictRow\u001b[0m\u001b[1m(\u001b[0m\u001b[1m[\u001b[0m\u001b[1m(\u001b[0m\u001b[32m'rule_name'\u001b[0m, \u001b[32m'More than One Combat Weapon'\u001b[0m\u001b[1m)\u001b[0m, \u001b[1m(\u001b[0m\u001b[32m'rank'\u001b[0m, \u001b[1;36m0.1\u001b[0m\u001b[1m)\u001b[0m\u001b[1m]\u001b[0m\u001b[1m)\u001b[0m\n",
       "\u001b[1m]\u001b[0m\n"
      ]
     },
     "metadata": {},
     "output_type": "display_data"
    }
   ],
   "source": [
    "query = \"\"\"\n",
    "    SELECT rule_name, ts_rank_cd(to_tsvector('english', rule_description), query) as rank FROM rules, plainto_tsquery('english', %(prompt)s) query\n",
    "    WHERE to_tsvector('english', rule_description) @@ query\n",
    "    ORDER BY rank\n",
    "    DESC LIMIT 20\n",
    "    \"\"\"\n",
    "\n",
    "prompt = \"lance\"\n",
    "cur = conn.cursor(cursor_factory=RealDictCursor)\n",
    "embedding = np.array(ollama.embeddings(model=\"mxbai-embed-large\", prompt=prompt).get(\"embedding\"))\n",
    "cur.execute(query, {\"prompt\": prompt})\n",
    "results=cur.fetchall()\n",
    "print(results)"
   ]
  },
  {
   "cell_type": "markdown",
   "metadata": {},
   "source": [
    "## Hybrid search"
   ]
  },
  {
   "cell_type": "code",
   "execution_count": 121,
   "metadata": {},
   "outputs": [
    {
     "data": {
      "text/html": [
       "<pre style=\"white-space:pre;overflow-x:auto;line-height:normal;font-family:Menlo,'DejaVu Sans Mono',consolas,'Courier New',monospace\"><span style=\"font-weight: bold\">[</span>\n",
       "    <span style=\"color: #800080; text-decoration-color: #800080; font-weight: bold\">RealDictRow</span><span style=\"font-weight: bold\">([(</span><span style=\"color: #008000; text-decoration-color: #008000\">'rule'</span>, <span style=\"color: #008000; text-decoration-color: #008000\">'Killing Blow'</span><span style=\"font-weight: bold\">)</span>, <span style=\"font-weight: bold\">(</span><span style=\"color: #008000; text-decoration-color: #008000\">'rank'</span>, <span style=\"color: #800080; text-decoration-color: #800080; font-weight: bold\">Decimal</span><span style=\"font-weight: bold\">(</span><span style=\"color: #008000; text-decoration-color: #008000\">'0.01639344262295081967'</span><span style=\"font-weight: bold\">))])</span>,\n",
       "    <span style=\"color: #800080; text-decoration-color: #800080; font-weight: bold\">RealDictRow</span><span style=\"font-weight: bold\">([(</span><span style=\"color: #008000; text-decoration-color: #008000\">'rule'</span>, <span style=\"color: #008000; text-decoration-color: #008000\">'Monster Slayer'</span><span style=\"font-weight: bold\">)</span>, <span style=\"font-weight: bold\">(</span><span style=\"color: #008000; text-decoration-color: #008000\">'rank'</span>, <span style=\"color: #800080; text-decoration-color: #800080; font-weight: bold\">Decimal</span><span style=\"font-weight: bold\">(</span><span style=\"color: #008000; text-decoration-color: #008000\">'0.01612903225806451613'</span><span style=\"font-weight: bold\">))])</span>,\n",
       "    <span style=\"color: #800080; text-decoration-color: #800080; font-weight: bold\">RealDictRow</span><span style=\"font-weight: bold\">([(</span><span style=\"color: #008000; text-decoration-color: #008000\">'rule'</span>, <span style=\"color: #008000; text-decoration-color: #008000\">'Unquiet Spirits'</span><span style=\"font-weight: bold\">)</span>, <span style=\"font-weight: bold\">(</span><span style=\"color: #008000; text-decoration-color: #008000\">'rank'</span>, <span style=\"color: #800080; text-decoration-color: #800080; font-weight: bold\">Decimal</span><span style=\"font-weight: bold\">(</span><span style=\"color: #008000; text-decoration-color: #008000\">'0.01587301587301587302'</span><span style=\"font-weight: bold\">))])</span>,\n",
       "    <span style=\"color: #800080; text-decoration-color: #800080; font-weight: bold\">RealDictRow</span><span style=\"font-weight: bold\">([(</span><span style=\"color: #008000; text-decoration-color: #008000\">'rule'</span>, <span style=\"color: #008000; text-decoration-color: #008000\">'Walk Between Worlds'</span><span style=\"font-weight: bold\">)</span>, <span style=\"font-weight: bold\">(</span><span style=\"color: #008000; text-decoration-color: #008000\">'rank'</span>, <span style=\"color: #800080; text-decoration-color: #800080; font-weight: bold\">Decimal</span><span style=\"font-weight: bold\">(</span><span style=\"color: #008000; text-decoration-color: #008000\">'0.01562500000000000000'</span><span style=\"font-weight: bold\">))])</span>,\n",
       "    <span style=\"color: #800080; text-decoration-color: #800080; font-weight: bold\">RealDictRow</span><span style=\"font-weight: bold\">([(</span><span style=\"color: #008000; text-decoration-color: #008000\">'rule'</span>, <span style=\"color: #008000; text-decoration-color: #008000\">'Initiative (I)'</span><span style=\"font-weight: bold\">)</span>, <span style=\"font-weight: bold\">(</span><span style=\"color: #008000; text-decoration-color: #008000\">'rank'</span>, <span style=\"color: #800080; text-decoration-color: #800080; font-weight: bold\">Decimal</span><span style=\"font-weight: bold\">(</span><span style=\"color: #008000; text-decoration-color: #008000\">'0.01538461538461538462'</span><span style=\"font-weight: bold\">))])</span>,\n",
       "    <span style=\"color: #800080; text-decoration-color: #800080; font-weight: bold\">RealDictRow</span><span style=\"font-weight: bold\">([(</span><span style=\"color: #008000; text-decoration-color: #008000\">'rule'</span>, <span style=\"color: #008000; text-decoration-color: #008000\">'Vanguard'</span><span style=\"font-weight: bold\">)</span>, <span style=\"font-weight: bold\">(</span><span style=\"color: #008000; text-decoration-color: #008000\">'rank'</span>, <span style=\"color: #800080; text-decoration-color: #800080; font-weight: bold\">Decimal</span><span style=\"font-weight: bold\">(</span><span style=\"color: #008000; text-decoration-color: #008000\">'0.01515151515151515152'</span><span style=\"font-weight: bold\">))])</span>,\n",
       "    <span style=\"color: #800080; text-decoration-color: #800080; font-weight: bold\">RealDictRow</span><span style=\"font-weight: bold\">([(</span><span style=\"color: #008000; text-decoration-color: #008000\">'rule'</span>, <span style=\"color: #008000; text-decoration-color: #008000\">'Wind Blast'</span><span style=\"font-weight: bold\">)</span>, <span style=\"font-weight: bold\">(</span><span style=\"color: #008000; text-decoration-color: #008000\">'rank'</span>, <span style=\"color: #800080; text-decoration-color: #800080; font-weight: bold\">Decimal</span><span style=\"font-weight: bold\">(</span><span style=\"color: #008000; text-decoration-color: #008000\">'0.01492537313432835821'</span><span style=\"font-weight: bold\">))])</span>,\n",
       "    <span style=\"color: #800080; text-decoration-color: #800080; font-weight: bold\">RealDictRow</span><span style=\"font-weight: bold\">([(</span><span style=\"color: #008000; text-decoration-color: #008000\">'rule'</span>, <span style=\"color: #008000; text-decoration-color: #008000\">'Attacks (A)'</span><span style=\"font-weight: bold\">)</span>, <span style=\"font-weight: bold\">(</span><span style=\"color: #008000; text-decoration-color: #008000\">'rank'</span>, <span style=\"color: #800080; text-decoration-color: #800080; font-weight: bold\">Decimal</span><span style=\"font-weight: bold\">(</span><span style=\"color: #008000; text-decoration-color: #008000\">'0.01470588235294117647'</span><span style=\"font-weight: bold\">))])</span>,\n",
       "    <span style=\"color: #800080; text-decoration-color: #800080; font-weight: bold\">RealDictRow</span><span style=\"font-weight: bold\">([(</span><span style=\"color: #008000; text-decoration-color: #008000\">'rule'</span>, <span style=\"color: #008000; text-decoration-color: #008000\">'Combat Result Table'</span><span style=\"font-weight: bold\">)</span>, <span style=\"font-weight: bold\">(</span><span style=\"color: #008000; text-decoration-color: #008000\">'rank'</span>, <span style=\"color: #800080; text-decoration-color: #800080; font-weight: bold\">Decimal</span><span style=\"font-weight: bold\">(</span><span style=\"color: #008000; text-decoration-color: #008000\">'0.01449275362318840580'</span><span style=\"font-weight: bold\">))])</span>,\n",
       "    <span style=\"color: #800080; text-decoration-color: #800080; font-weight: bold\">RealDictRow</span><span style=\"font-weight: bold\">([(</span><span style=\"color: #008000; text-decoration-color: #008000\">'rule'</span>, <span style=\"color: #008000; text-decoration-color: #008000\">'Unbreakable'</span><span style=\"font-weight: bold\">)</span>, <span style=\"font-weight: bold\">(</span><span style=\"color: #008000; text-decoration-color: #008000\">'rank'</span>, <span style=\"color: #800080; text-decoration-color: #800080; font-weight: bold\">Decimal</span><span style=\"font-weight: bold\">(</span><span style=\"color: #008000; text-decoration-color: #008000\">'0.01428571428571428571'</span><span style=\"font-weight: bold\">))])</span>,\n",
       "    <span style=\"color: #800080; text-decoration-color: #800080; font-weight: bold\">RealDictRow</span><span style=\"font-weight: bold\">([(</span><span style=\"color: #008000; text-decoration-color: #008000\">'rule'</span>, <span style=\"color: #008000; text-decoration-color: #008000\">'Fiery Convocation'</span><span style=\"font-weight: bold\">)</span>, <span style=\"font-weight: bold\">(</span><span style=\"color: #008000; text-decoration-color: #008000\">'rank'</span>, <span style=\"color: #800080; text-decoration-color: #800080; font-weight: bold\">Decimal</span><span style=\"font-weight: bold\">(</span><span style=\"color: #008000; text-decoration-color: #008000\">'0.01408450704225352113'</span><span style=\"font-weight: bold\">))])</span>,\n",
       "    <span style=\"color: #800080; text-decoration-color: #800080; font-weight: bold\">RealDictRow</span><span style=\"font-weight: bold\">([(</span><span style=\"color: #008000; text-decoration-color: #008000\">'rule'</span>, <span style=\"color: #008000; text-decoration-color: #008000\">'Inspiring Presence'</span><span style=\"font-weight: bold\">)</span>, <span style=\"font-weight: bold\">(</span><span style=\"color: #008000; text-decoration-color: #008000\">'rank'</span>, <span style=\"color: #800080; text-decoration-color: #800080; font-weight: bold\">Decimal</span><span style=\"font-weight: bold\">(</span><span style=\"color: #008000; text-decoration-color: #008000\">'0.01388888888888888889'</span><span style=\"font-weight: bold\">))])</span>,\n",
       "    <span style=\"color: #800080; text-decoration-color: #800080; font-weight: bold\">RealDictRow</span><span style=\"font-weight: bold\">([(</span><span style=\"color: #008000; text-decoration-color: #008000\">'rule'</span>, <span style=\"color: #008000; text-decoration-color: #008000\">'Corporeal Unmaking'</span><span style=\"font-weight: bold\">)</span>, <span style=\"font-weight: bold\">(</span><span style=\"color: #008000; text-decoration-color: #008000\">'rank'</span>, <span style=\"color: #800080; text-decoration-color: #800080; font-weight: bold\">Decimal</span><span style=\"font-weight: bold\">(</span><span style=\"color: #008000; text-decoration-color: #008000\">'0.01369863013698630137'</span><span style=\"font-weight: bold\">))])</span>,\n",
       "    <span style=\"color: #800080; text-decoration-color: #800080; font-weight: bold\">RealDictRow</span><span style=\"font-weight: bold\">([(</span><span style=\"color: #008000; text-decoration-color: #008000\">'rule'</span>, <span style=\"color: #008000; text-decoration-color: #008000\">'Loner'</span><span style=\"font-weight: bold\">)</span>, <span style=\"font-weight: bold\">(</span><span style=\"color: #008000; text-decoration-color: #008000\">'rank'</span>, <span style=\"color: #800080; text-decoration-color: #800080; font-weight: bold\">Decimal</span><span style=\"font-weight: bold\">(</span><span style=\"color: #008000; text-decoration-color: #008000\">'0.01351351351351351351'</span><span style=\"font-weight: bold\">))])</span>,\n",
       "    <span style=\"color: #800080; text-decoration-color: #800080; font-weight: bold\">RealDictRow</span><span style=\"font-weight: bold\">([(</span><span style=\"color: #008000; text-decoration-color: #008000\">'rule'</span>, <span style=\"color: #008000; text-decoration-color: #008000\">'Highly Manoeuvrable'</span><span style=\"font-weight: bold\">)</span>, <span style=\"font-weight: bold\">(</span><span style=\"color: #008000; text-decoration-color: #008000\">'rank'</span>, <span style=\"color: #800080; text-decoration-color: #800080; font-weight: bold\">Decimal</span><span style=\"font-weight: bold\">(</span><span style=\"color: #008000; text-decoration-color: #008000\">'0.01333333333333333333'</span><span style=\"font-weight: bold\">))])</span>,\n",
       "    <span style=\"color: #800080; text-decoration-color: #800080; font-weight: bold\">RealDictRow</span><span style=\"font-weight: bold\">([(</span><span style=\"color: #008000; text-decoration-color: #008000\">'rule'</span>, <span style=\"color: #008000; text-decoration-color: #008000\">'Strike Last'</span><span style=\"font-weight: bold\">)</span>, <span style=\"font-weight: bold\">(</span><span style=\"color: #008000; text-decoration-color: #008000\">'rank'</span>, <span style=\"color: #800080; text-decoration-color: #800080; font-weight: bold\">Decimal</span><span style=\"font-weight: bold\">(</span><span style=\"color: #008000; text-decoration-color: #008000\">'0.01315789473684210526'</span><span style=\"font-weight: bold\">))])</span>,\n",
       "    <span style=\"color: #800080; text-decoration-color: #800080; font-weight: bold\">RealDictRow</span><span style=\"font-weight: bold\">([(</span><span style=\"color: #008000; text-decoration-color: #008000\">'rule'</span>, <span style=\"color: #008000; text-decoration-color: #008000\">'Lone Models'</span><span style=\"font-weight: bold\">)</span>, <span style=\"font-weight: bold\">(</span><span style=\"color: #008000; text-decoration-color: #008000\">'rank'</span>, <span style=\"color: #800080; text-decoration-color: #800080; font-weight: bold\">Decimal</span><span style=\"font-weight: bold\">(</span><span style=\"color: #008000; text-decoration-color: #008000\">'0.01298701298701298701'</span><span style=\"font-weight: bold\">))])</span>,\n",
       "    <span style=\"color: #800080; text-decoration-color: #800080; font-weight: bold\">RealDictRow</span><span style=\"font-weight: bold\">([(</span><span style=\"color: #008000; text-decoration-color: #008000\">'rule'</span>, <span style=\"color: #008000; text-decoration-color: #008000\">'Impetuous'</span><span style=\"font-weight: bold\">)</span>, <span style=\"font-weight: bold\">(</span><span style=\"color: #008000; text-decoration-color: #008000\">'rank'</span>, <span style=\"color: #800080; text-decoration-color: #800080; font-weight: bold\">Decimal</span><span style=\"font-weight: bold\">(</span><span style=\"color: #008000; text-decoration-color: #008000\">'0.01282051282051282051'</span><span style=\"font-weight: bold\">))])</span>,\n",
       "    <span style=\"color: #800080; text-decoration-color: #800080; font-weight: bold\">RealDictRow</span><span style=\"font-weight: bold\">([(</span><span style=\"color: #008000; text-decoration-color: #008000\">'rule'</span>, <span style=\"color: #008000; text-decoration-color: #008000\">'Spirit Leech'</span><span style=\"font-weight: bold\">)</span>, <span style=\"font-weight: bold\">(</span><span style=\"color: #008000; text-decoration-color: #008000\">'rank'</span>, <span style=\"color: #800080; text-decoration-color: #800080; font-weight: bold\">Decimal</span><span style=\"font-weight: bold\">(</span><span style=\"color: #008000; text-decoration-color: #008000\">'0.01265822784810126582'</span><span style=\"font-weight: bold\">))])</span>,\n",
       "    <span style=\"color: #800080; text-decoration-color: #800080; font-weight: bold\">RealDictRow</span><span style=\"font-weight: bold\">([(</span><span style=\"color: #008000; text-decoration-color: #008000\">'rule'</span>, <span style=\"color: #008000; text-decoration-color: #008000\">'Barding'</span><span style=\"font-weight: bold\">)</span>, <span style=\"font-weight: bold\">(</span><span style=\"color: #008000; text-decoration-color: #008000\">'rank'</span>, <span style=\"color: #800080; text-decoration-color: #800080; font-weight: bold\">Decimal</span><span style=\"font-weight: bold\">(</span><span style=\"color: #008000; text-decoration-color: #008000\">'0.01250000000000000000'</span><span style=\"font-weight: bold\">))])</span>\n",
       "<span style=\"font-weight: bold\">]</span>\n",
       "</pre>\n"
      ],
      "text/plain": [
       "\u001b[1m[\u001b[0m\n",
       "    \u001b[1;35mRealDictRow\u001b[0m\u001b[1m(\u001b[0m\u001b[1m[\u001b[0m\u001b[1m(\u001b[0m\u001b[32m'rule'\u001b[0m, \u001b[32m'Killing Blow'\u001b[0m\u001b[1m)\u001b[0m, \u001b[1m(\u001b[0m\u001b[32m'rank'\u001b[0m, \u001b[1;35mDecimal\u001b[0m\u001b[1m(\u001b[0m\u001b[32m'0.01639344262295081967'\u001b[0m\u001b[1m)\u001b[0m\u001b[1m)\u001b[0m\u001b[1m]\u001b[0m\u001b[1m)\u001b[0m,\n",
       "    \u001b[1;35mRealDictRow\u001b[0m\u001b[1m(\u001b[0m\u001b[1m[\u001b[0m\u001b[1m(\u001b[0m\u001b[32m'rule'\u001b[0m, \u001b[32m'Monster Slayer'\u001b[0m\u001b[1m)\u001b[0m, \u001b[1m(\u001b[0m\u001b[32m'rank'\u001b[0m, \u001b[1;35mDecimal\u001b[0m\u001b[1m(\u001b[0m\u001b[32m'0.01612903225806451613'\u001b[0m\u001b[1m)\u001b[0m\u001b[1m)\u001b[0m\u001b[1m]\u001b[0m\u001b[1m)\u001b[0m,\n",
       "    \u001b[1;35mRealDictRow\u001b[0m\u001b[1m(\u001b[0m\u001b[1m[\u001b[0m\u001b[1m(\u001b[0m\u001b[32m'rule'\u001b[0m, \u001b[32m'Unquiet Spirits'\u001b[0m\u001b[1m)\u001b[0m, \u001b[1m(\u001b[0m\u001b[32m'rank'\u001b[0m, \u001b[1;35mDecimal\u001b[0m\u001b[1m(\u001b[0m\u001b[32m'0.01587301587301587302'\u001b[0m\u001b[1m)\u001b[0m\u001b[1m)\u001b[0m\u001b[1m]\u001b[0m\u001b[1m)\u001b[0m,\n",
       "    \u001b[1;35mRealDictRow\u001b[0m\u001b[1m(\u001b[0m\u001b[1m[\u001b[0m\u001b[1m(\u001b[0m\u001b[32m'rule'\u001b[0m, \u001b[32m'Walk Between Worlds'\u001b[0m\u001b[1m)\u001b[0m, \u001b[1m(\u001b[0m\u001b[32m'rank'\u001b[0m, \u001b[1;35mDecimal\u001b[0m\u001b[1m(\u001b[0m\u001b[32m'0.01562500000000000000'\u001b[0m\u001b[1m)\u001b[0m\u001b[1m)\u001b[0m\u001b[1m]\u001b[0m\u001b[1m)\u001b[0m,\n",
       "    \u001b[1;35mRealDictRow\u001b[0m\u001b[1m(\u001b[0m\u001b[1m[\u001b[0m\u001b[1m(\u001b[0m\u001b[32m'rule'\u001b[0m, \u001b[32m'Initiative \u001b[0m\u001b[32m(\u001b[0m\u001b[32mI\u001b[0m\u001b[32m)\u001b[0m\u001b[32m'\u001b[0m\u001b[1m)\u001b[0m, \u001b[1m(\u001b[0m\u001b[32m'rank'\u001b[0m, \u001b[1;35mDecimal\u001b[0m\u001b[1m(\u001b[0m\u001b[32m'0.01538461538461538462'\u001b[0m\u001b[1m)\u001b[0m\u001b[1m)\u001b[0m\u001b[1m]\u001b[0m\u001b[1m)\u001b[0m,\n",
       "    \u001b[1;35mRealDictRow\u001b[0m\u001b[1m(\u001b[0m\u001b[1m[\u001b[0m\u001b[1m(\u001b[0m\u001b[32m'rule'\u001b[0m, \u001b[32m'Vanguard'\u001b[0m\u001b[1m)\u001b[0m, \u001b[1m(\u001b[0m\u001b[32m'rank'\u001b[0m, \u001b[1;35mDecimal\u001b[0m\u001b[1m(\u001b[0m\u001b[32m'0.01515151515151515152'\u001b[0m\u001b[1m)\u001b[0m\u001b[1m)\u001b[0m\u001b[1m]\u001b[0m\u001b[1m)\u001b[0m,\n",
       "    \u001b[1;35mRealDictRow\u001b[0m\u001b[1m(\u001b[0m\u001b[1m[\u001b[0m\u001b[1m(\u001b[0m\u001b[32m'rule'\u001b[0m, \u001b[32m'Wind Blast'\u001b[0m\u001b[1m)\u001b[0m, \u001b[1m(\u001b[0m\u001b[32m'rank'\u001b[0m, \u001b[1;35mDecimal\u001b[0m\u001b[1m(\u001b[0m\u001b[32m'0.01492537313432835821'\u001b[0m\u001b[1m)\u001b[0m\u001b[1m)\u001b[0m\u001b[1m]\u001b[0m\u001b[1m)\u001b[0m,\n",
       "    \u001b[1;35mRealDictRow\u001b[0m\u001b[1m(\u001b[0m\u001b[1m[\u001b[0m\u001b[1m(\u001b[0m\u001b[32m'rule'\u001b[0m, \u001b[32m'Attacks \u001b[0m\u001b[32m(\u001b[0m\u001b[32mA\u001b[0m\u001b[32m)\u001b[0m\u001b[32m'\u001b[0m\u001b[1m)\u001b[0m, \u001b[1m(\u001b[0m\u001b[32m'rank'\u001b[0m, \u001b[1;35mDecimal\u001b[0m\u001b[1m(\u001b[0m\u001b[32m'0.01470588235294117647'\u001b[0m\u001b[1m)\u001b[0m\u001b[1m)\u001b[0m\u001b[1m]\u001b[0m\u001b[1m)\u001b[0m,\n",
       "    \u001b[1;35mRealDictRow\u001b[0m\u001b[1m(\u001b[0m\u001b[1m[\u001b[0m\u001b[1m(\u001b[0m\u001b[32m'rule'\u001b[0m, \u001b[32m'Combat Result Table'\u001b[0m\u001b[1m)\u001b[0m, \u001b[1m(\u001b[0m\u001b[32m'rank'\u001b[0m, \u001b[1;35mDecimal\u001b[0m\u001b[1m(\u001b[0m\u001b[32m'0.01449275362318840580'\u001b[0m\u001b[1m)\u001b[0m\u001b[1m)\u001b[0m\u001b[1m]\u001b[0m\u001b[1m)\u001b[0m,\n",
       "    \u001b[1;35mRealDictRow\u001b[0m\u001b[1m(\u001b[0m\u001b[1m[\u001b[0m\u001b[1m(\u001b[0m\u001b[32m'rule'\u001b[0m, \u001b[32m'Unbreakable'\u001b[0m\u001b[1m)\u001b[0m, \u001b[1m(\u001b[0m\u001b[32m'rank'\u001b[0m, \u001b[1;35mDecimal\u001b[0m\u001b[1m(\u001b[0m\u001b[32m'0.01428571428571428571'\u001b[0m\u001b[1m)\u001b[0m\u001b[1m)\u001b[0m\u001b[1m]\u001b[0m\u001b[1m)\u001b[0m,\n",
       "    \u001b[1;35mRealDictRow\u001b[0m\u001b[1m(\u001b[0m\u001b[1m[\u001b[0m\u001b[1m(\u001b[0m\u001b[32m'rule'\u001b[0m, \u001b[32m'Fiery Convocation'\u001b[0m\u001b[1m)\u001b[0m, \u001b[1m(\u001b[0m\u001b[32m'rank'\u001b[0m, \u001b[1;35mDecimal\u001b[0m\u001b[1m(\u001b[0m\u001b[32m'0.01408450704225352113'\u001b[0m\u001b[1m)\u001b[0m\u001b[1m)\u001b[0m\u001b[1m]\u001b[0m\u001b[1m)\u001b[0m,\n",
       "    \u001b[1;35mRealDictRow\u001b[0m\u001b[1m(\u001b[0m\u001b[1m[\u001b[0m\u001b[1m(\u001b[0m\u001b[32m'rule'\u001b[0m, \u001b[32m'Inspiring Presence'\u001b[0m\u001b[1m)\u001b[0m, \u001b[1m(\u001b[0m\u001b[32m'rank'\u001b[0m, \u001b[1;35mDecimal\u001b[0m\u001b[1m(\u001b[0m\u001b[32m'0.01388888888888888889'\u001b[0m\u001b[1m)\u001b[0m\u001b[1m)\u001b[0m\u001b[1m]\u001b[0m\u001b[1m)\u001b[0m,\n",
       "    \u001b[1;35mRealDictRow\u001b[0m\u001b[1m(\u001b[0m\u001b[1m[\u001b[0m\u001b[1m(\u001b[0m\u001b[32m'rule'\u001b[0m, \u001b[32m'Corporeal Unmaking'\u001b[0m\u001b[1m)\u001b[0m, \u001b[1m(\u001b[0m\u001b[32m'rank'\u001b[0m, \u001b[1;35mDecimal\u001b[0m\u001b[1m(\u001b[0m\u001b[32m'0.01369863013698630137'\u001b[0m\u001b[1m)\u001b[0m\u001b[1m)\u001b[0m\u001b[1m]\u001b[0m\u001b[1m)\u001b[0m,\n",
       "    \u001b[1;35mRealDictRow\u001b[0m\u001b[1m(\u001b[0m\u001b[1m[\u001b[0m\u001b[1m(\u001b[0m\u001b[32m'rule'\u001b[0m, \u001b[32m'Loner'\u001b[0m\u001b[1m)\u001b[0m, \u001b[1m(\u001b[0m\u001b[32m'rank'\u001b[0m, \u001b[1;35mDecimal\u001b[0m\u001b[1m(\u001b[0m\u001b[32m'0.01351351351351351351'\u001b[0m\u001b[1m)\u001b[0m\u001b[1m)\u001b[0m\u001b[1m]\u001b[0m\u001b[1m)\u001b[0m,\n",
       "    \u001b[1;35mRealDictRow\u001b[0m\u001b[1m(\u001b[0m\u001b[1m[\u001b[0m\u001b[1m(\u001b[0m\u001b[32m'rule'\u001b[0m, \u001b[32m'Highly Manoeuvrable'\u001b[0m\u001b[1m)\u001b[0m, \u001b[1m(\u001b[0m\u001b[32m'rank'\u001b[0m, \u001b[1;35mDecimal\u001b[0m\u001b[1m(\u001b[0m\u001b[32m'0.01333333333333333333'\u001b[0m\u001b[1m)\u001b[0m\u001b[1m)\u001b[0m\u001b[1m]\u001b[0m\u001b[1m)\u001b[0m,\n",
       "    \u001b[1;35mRealDictRow\u001b[0m\u001b[1m(\u001b[0m\u001b[1m[\u001b[0m\u001b[1m(\u001b[0m\u001b[32m'rule'\u001b[0m, \u001b[32m'Strike Last'\u001b[0m\u001b[1m)\u001b[0m, \u001b[1m(\u001b[0m\u001b[32m'rank'\u001b[0m, \u001b[1;35mDecimal\u001b[0m\u001b[1m(\u001b[0m\u001b[32m'0.01315789473684210526'\u001b[0m\u001b[1m)\u001b[0m\u001b[1m)\u001b[0m\u001b[1m]\u001b[0m\u001b[1m)\u001b[0m,\n",
       "    \u001b[1;35mRealDictRow\u001b[0m\u001b[1m(\u001b[0m\u001b[1m[\u001b[0m\u001b[1m(\u001b[0m\u001b[32m'rule'\u001b[0m, \u001b[32m'Lone Models'\u001b[0m\u001b[1m)\u001b[0m, \u001b[1m(\u001b[0m\u001b[32m'rank'\u001b[0m, \u001b[1;35mDecimal\u001b[0m\u001b[1m(\u001b[0m\u001b[32m'0.01298701298701298701'\u001b[0m\u001b[1m)\u001b[0m\u001b[1m)\u001b[0m\u001b[1m]\u001b[0m\u001b[1m)\u001b[0m,\n",
       "    \u001b[1;35mRealDictRow\u001b[0m\u001b[1m(\u001b[0m\u001b[1m[\u001b[0m\u001b[1m(\u001b[0m\u001b[32m'rule'\u001b[0m, \u001b[32m'Impetuous'\u001b[0m\u001b[1m)\u001b[0m, \u001b[1m(\u001b[0m\u001b[32m'rank'\u001b[0m, \u001b[1;35mDecimal\u001b[0m\u001b[1m(\u001b[0m\u001b[32m'0.01282051282051282051'\u001b[0m\u001b[1m)\u001b[0m\u001b[1m)\u001b[0m\u001b[1m]\u001b[0m\u001b[1m)\u001b[0m,\n",
       "    \u001b[1;35mRealDictRow\u001b[0m\u001b[1m(\u001b[0m\u001b[1m[\u001b[0m\u001b[1m(\u001b[0m\u001b[32m'rule'\u001b[0m, \u001b[32m'Spirit Leech'\u001b[0m\u001b[1m)\u001b[0m, \u001b[1m(\u001b[0m\u001b[32m'rank'\u001b[0m, \u001b[1;35mDecimal\u001b[0m\u001b[1m(\u001b[0m\u001b[32m'0.01265822784810126582'\u001b[0m\u001b[1m)\u001b[0m\u001b[1m)\u001b[0m\u001b[1m]\u001b[0m\u001b[1m)\u001b[0m,\n",
       "    \u001b[1;35mRealDictRow\u001b[0m\u001b[1m(\u001b[0m\u001b[1m[\u001b[0m\u001b[1m(\u001b[0m\u001b[32m'rule'\u001b[0m, \u001b[32m'Barding'\u001b[0m\u001b[1m)\u001b[0m, \u001b[1m(\u001b[0m\u001b[32m'rank'\u001b[0m, \u001b[1;35mDecimal\u001b[0m\u001b[1m(\u001b[0m\u001b[32m'0.01250000000000000000'\u001b[0m\u001b[1m)\u001b[0m\u001b[1m)\u001b[0m\u001b[1m]\u001b[0m\u001b[1m)\u001b[0m\n",
       "\u001b[1m]\u001b[0m\n"
      ]
     },
     "metadata": {},
     "output_type": "display_data"
    }
   ],
   "source": [
    "prompt = \"asrai\"\n",
    "cur = conn.cursor(cursor_factory=RealDictCursor)\n",
    "embedding = np.array(ollama.embeddings(model=\"mxbai-embed-large\", prompt=prompt).get(\"embedding\"))\n",
    "\n",
    "query = \"\"\"\n",
    "WITH semantic_search AS (\n",
    "    SELECT link_number, rule_name, RANK () OVER (ORDER BY embedding <=> %(embedding)s) AS rank\n",
    "    FROM rules\n",
    "    ORDER BY embedding <> %(embedding)s\n",
    "    LIMIT 20\n",
    "),\n",
    "keyword_search AS (\n",
    "    SELECT link_number, rule_name, RANK () OVER (ORDER BY ts_rank_cd(to_tsvector('english', rule_description), query) DESC) \n",
    "    FROM rules, plainto_tsquery('english', %(prompt)s) query \n",
    "    WHERE to_tsvector('english', rule_description) @@ query\n",
    "    ORDER BY ts_rank_cd(to_tsvector('english', rule_description), query) \n",
    "    DESC \n",
    "    LIMIT 20\n",
    ")\n",
    "\n",
    "SELECT\n",
    "    COALESCE (semantic_search.rule_name, keyword_search.rule_name) AS rule, \n",
    "    COALESCE (1.0 / (%(k)s + semantic_search.rank), 0.0) + COALESCE(1.0 / (%(k)s + keyword_search.rank), 0.0) AS rank\n",
    "FROM semantic_search\n",
    "FULL OUTER JOIN keyword_search ON semantic_search.link_number = keyword_search.link_number\n",
    "ORDER BY rank \n",
    "DESC\n",
    "LIMIT 20\n",
    "\"\"\"\n",
    "\n",
    "\n",
    "cur.execute(\n",
    "    query, \n",
    "    {\"prompt\": prompt, \"embedding\": embedding, \"k\": 60}\n",
    "    )\n",
    "results=cur.fetchall()\n",
    "print(results)"
   ]
  },
  {
   "cell_type": "code",
   "execution_count": 122,
   "metadata": {},
   "outputs": [],
   "source": [
    "def ragtime(prompt: str) -> list[dict]:\n",
    "    cur = conn.cursor(cursor_factory=RealDictCursor)\n",
    "    embedding = np.array(ollama.embeddings(model=\"mxbai-embed-large\", prompt=prompt).get(\"embedding\"))\n",
    "\n",
    "    query = \"\"\"\n",
    "    WITH semantic_search AS (\n",
    "        SELECT link_number, RANK () OVER (ORDER BY embedding <=> %(embedding)s) AS rank\n",
    "        FROM rules\n",
    "        ORDER BY embedding <> %(embedding)s\n",
    "        LIMIT 20\n",
    "    ),\n",
    "    keyword_search AS (\n",
    "        SELECT link_number, RANK () OVER (ORDER BY ts_rank_cd(to_tsvector('english', rule_description), query) DESC) \n",
    "        FROM rules, plainto_tsquery('english', %(prompt)s) query \n",
    "        WHERE to_tsvector('english', rule_description) @@ query\n",
    "        ORDER BY ts_rank_cd(to_tsvector('english', rule_description), query) \n",
    "        DESC \n",
    "        LIMIT 20\n",
    "    )\n",
    "\n",
    "    SELECT\n",
    "        COALESCE (semantic_search.link_number, keyword_search.link_number) AS link_number, \n",
    "        COALESCE (1.0 / (%(k)s + semantic_search.rank), 0.0) + COALESCE(1.0 / (%(k)s + keyword_search.rank), 0.0) AS rank\n",
    "    FROM semantic_search\n",
    "    FULL OUTER JOIN keyword_search ON semantic_search.link_number = keyword_search.link_number\n",
    "    ORDER BY rank \n",
    "    DESC\n",
    "    LIMIT 5\n",
    "    \"\"\"\n",
    "\n",
    "\n",
    "    cur.execute(\n",
    "        query, \n",
    "        {\n",
    "            \"prompt\": prompt, \n",
    "            \"embedding\": embedding, \n",
    "            \"k\": 60 # https://jkatz05.com/post/postgres/hybrid-search-postgres-pgvector/\n",
    "        }\n",
    "    )\n",
    "    results=cur.fetchall()\n",
    "\n",
    "\n",
    "    rules = [result.get(\"link_number\") for result in results]\n",
    "    # print(rules)\n",
    "    cur.execute(\"SELECT rule_name, link, rulebook_page, rule_description FROM rules WHERE link_number = ANY(%s)\", (rules,))\n",
    "    results= cur.fetchall()\n",
    "\n",
    "    return [dict(result) for result in results]\n",
    "    "
   ]
  },
  {
   "cell_type": "markdown",
   "metadata": {},
   "source": [
    "# Giving shape to the RAG"
   ]
  },
  {
   "cell_type": "code",
   "execution_count": 46,
   "metadata": {},
   "outputs": [],
   "source": [
    "prompt = \"can you explain me the veteran rule and provide me an example\""
   ]
  },
  {
   "cell_type": "code",
   "execution_count": 123,
   "metadata": {},
   "outputs": [],
   "source": [
    "results= ragtime(prompt)\n",
    "formatted_results = [f'##{result.get(\"rule_name\")}\\n\\n{result.get(\"rule_description\")}\\n\\nRulebook page:{result.get(\"rulebook_page\")}\\n\\n Reference link:[{result.get(\"rule_name\")}]({result.get(\"link\")})' for result in results]"
   ]
  },
  {
   "cell_type": "code",
   "execution_count": 124,
   "metadata": {},
   "outputs": [
    {
     "data": {
      "text/html": [
       "<pre style=\"white-space:pre;overflow-x:auto;line-height:normal;font-family:Menlo,'DejaVu Sans Mono',consolas,'Courier New',monospace\"><span style=\"font-weight: bold\">[</span>\n",
       "    <span style=\"color: #008000; text-decoration-color: #008000\">'##Initiative (I)\\n\\nThis indicates how fast a model can react. In combat, Initiative dictates the order in </span>\n",
       "<span style=\"color: #008000; text-decoration-color: #008000\">which models fight.\\n\\nRulebook page:Rulebook, p. 96\\n\\n Reference link:[Initiative </span>\n",
       "<span style=\"color: #008000; text-decoration-color: #008000\">(I)](https://tow.whfb.app/model-profiles/initiative)'</span>,\n",
       "    <span style=\"color: #008000; text-decoration-color: #008000\">'##Killing Blow\\n\\nThe most skilled of warriors can slay their enemies with a single deadly blow.The most </span>\n",
       "<span style=\"color: #008000; text-decoration-color: #008000\">skilled of warriors can slay their enemies with a single deadly blow.\\n\\nRulebook page:Rulebook, p. 172\\n\\n </span>\n",
       "<span style=\"color: #008000; text-decoration-color: #008000\">Reference link:[Killing Blow](https://tow.whfb.app/special-rules/killing-blow)'</span>,\n",
       "    <span style=\"color: #008000; text-decoration-color: #008000\">'##Monster Slayer\\n\\nLegends tell of warriors so mighty they can slay terrible monsters with but a single </span>\n",
       "<span style=\"color: #008000; text-decoration-color: #008000\">blow!Legends tell of warriors so mighty they can slay terrible monsters with but a single blow!\\n\\nRulebook </span>\n",
       "<span style=\"color: #008000; text-decoration-color: #008000\">page:Rulebook, p. 173\\n\\n Reference link:[Monster Slayer](https://tow.whfb.app/special-rules/monster-slayer)'</span>,\n",
       "    <span style=\"color: #008000; text-decoration-color: #008000\">'##Walk Between Worlds\\n\\nThe High Mage causes their allies to drift in and out of reality, enabling them to </span>\n",
       "<span style=\"color: #008000; text-decoration-color: #008000\">pass through terrain as if it was not there. Until your next Start of Turn sub-phase, the caster and any unit they </span>\n",
       "<span style=\"color: #008000; text-decoration-color: #008000\">have joined gain the Ethereal and Reserve Move special rules. Type:Conveyance, Casting Value:10+, </span>\n",
       "<span style=\"color: #008000; text-decoration-color: #008000\">Range:Self\\n\\nRulebook page:Rulebook, p. 329\\n\\n Reference link:[Walk Between </span>\n",
       "<span style=\"color: #008000; text-decoration-color: #008000\">Worlds](https://tow.whfb.app/spell/walk-between-worlds)'</span>,\n",
       "    <span style=\"color: #008000; text-decoration-color: #008000\">'##Unquiet Spirits\\n\\nEvil spirits gather around the enemy, their spectral talons creeping beneath armour to </span>\n",
       "<span style=\"color: #008000; text-decoration-color: #008000\">tear at flesh. The target enemy unit suffers 3D6 Strength 2 hits, with no armour save permitted (Ward and </span>\n",
       "<span style=\"color: #008000; text-decoration-color: #008000\">Regeneration saves can be attempted as normal). Type:Magic Missile, Casting Value:8+, Range:15 inches\\n\\nRulebook </span>\n",
       "<span style=\"color: #008000; text-decoration-color: #008000\">page:Rulebook, p. 333\\n\\n Reference link:[Unquiet Spirits](https://tow.whfb.app/spell/unquiet-spirits)'</span>\n",
       "<span style=\"font-weight: bold\">]</span>\n",
       "</pre>\n"
      ],
      "text/plain": [
       "\u001b[1m[\u001b[0m\n",
       "    \u001b[32m'##Initiative \u001b[0m\u001b[32m(\u001b[0m\u001b[32mI\u001b[0m\u001b[32m)\u001b[0m\u001b[32m\\n\\nThis indicates how fast a model can react. In combat, Initiative dictates the order in \u001b[0m\n",
       "\u001b[32mwhich models fight.\\n\\nRulebook page:Rulebook, p. 96\\n\\n Reference link:\u001b[0m\u001b[32m[\u001b[0m\u001b[32mInitiative \u001b[0m\n",
       "\u001b[32m(\u001b[0m\u001b[32mI\u001b[0m\u001b[32m)\u001b[0m\u001b[32m]\u001b[0m\u001b[32m(\u001b[0m\u001b[32mhttps://tow.whfb.app/model-profiles/initiative\u001b[0m\u001b[32m)\u001b[0m\u001b[32m'\u001b[0m,\n",
       "    \u001b[32m'##Killing Blow\\n\\nThe most skilled of warriors can slay their enemies with a single deadly blow.The most \u001b[0m\n",
       "\u001b[32mskilled of warriors can slay their enemies with a single deadly blow.\\n\\nRulebook page:Rulebook, p. 172\\n\\n \u001b[0m\n",
       "\u001b[32mReference link:\u001b[0m\u001b[32m[\u001b[0m\u001b[32mKilling Blow\u001b[0m\u001b[32m]\u001b[0m\u001b[32m(\u001b[0m\u001b[32mhttps://tow.whfb.app/special-rules/killing-blow\u001b[0m\u001b[32m)\u001b[0m\u001b[32m'\u001b[0m,\n",
       "    \u001b[32m'##Monster Slayer\\n\\nLegends tell of warriors so mighty they can slay terrible monsters with but a single \u001b[0m\n",
       "\u001b[32mblow!Legends tell of warriors so mighty they can slay terrible monsters with but a single blow!\\n\\nRulebook \u001b[0m\n",
       "\u001b[32mpage:Rulebook, p. 173\\n\\n Reference link:\u001b[0m\u001b[32m[\u001b[0m\u001b[32mMonster Slayer\u001b[0m\u001b[32m]\u001b[0m\u001b[32m(\u001b[0m\u001b[32mhttps://tow.whfb.app/special-rules/monster-slayer\u001b[0m\u001b[32m)\u001b[0m\u001b[32m'\u001b[0m,\n",
       "    \u001b[32m'##Walk Between Worlds\\n\\nThe High Mage causes their allies to drift in and out of reality, enabling them to \u001b[0m\n",
       "\u001b[32mpass through terrain as if it was not there. Until your next Start of Turn sub-phase, the caster and any unit they \u001b[0m\n",
       "\u001b[32mhave joined gain the Ethereal and Reserve Move special rules. Type:Conveyance, Casting Value:10+, \u001b[0m\n",
       "\u001b[32mRange:Self\\n\\nRulebook page:Rulebook, p. 329\\n\\n Reference link:\u001b[0m\u001b[32m[\u001b[0m\u001b[32mWalk Between \u001b[0m\n",
       "\u001b[32mWorlds\u001b[0m\u001b[32m]\u001b[0m\u001b[32m(\u001b[0m\u001b[32mhttps://tow.whfb.app/spell/walk-between-worlds\u001b[0m\u001b[32m)\u001b[0m\u001b[32m'\u001b[0m,\n",
       "    \u001b[32m'##Unquiet Spirits\\n\\nEvil spirits gather around the enemy, their spectral talons creeping beneath armour to \u001b[0m\n",
       "\u001b[32mtear at flesh. The target enemy unit suffers 3D6 Strength 2 hits, with no armour save permitted \u001b[0m\u001b[32m(\u001b[0m\u001b[32mWard and \u001b[0m\n",
       "\u001b[32mRegeneration saves can be attempted as normal\u001b[0m\u001b[32m)\u001b[0m\u001b[32m. Type:Magic Missile, Casting Value:8+, Range:15 inches\\n\\nRulebook \u001b[0m\n",
       "\u001b[32mpage:Rulebook, p. 333\\n\\n Reference link:\u001b[0m\u001b[32m[\u001b[0m\u001b[32mUnquiet Spirits\u001b[0m\u001b[32m]\u001b[0m\u001b[32m(\u001b[0m\u001b[32mhttps://tow.whfb.app/spell/unquiet-spirits\u001b[0m\u001b[32m)\u001b[0m\u001b[32m'\u001b[0m\n",
       "\u001b[1m]\u001b[0m\n"
      ]
     },
     "metadata": {},
     "output_type": "display_data"
    }
   ],
   "source": [
    "print(formatted_results)"
   ]
  },
  {
   "cell_type": "code",
   "execution_count": 54,
   "metadata": {},
   "outputs": [],
   "source": [
    "system_message = (\n",
    "    \"You must answer questions only according to sources.\"\n",
    "    \"Say you dont know if you cant find answer in sources.\"\n",
    "    \"Provide an answer within the scope of the rules of the game called the old world.\"\n",
    "    \"Cite the source inside square brackets.\"\n",
    "    \"The sources should contain the reference link and the rulebook page.\"\n",
    "    \"Place the sources at the end as list of markdowns. An example of source: Rulebook, p. 209\\n\\n Reference link:[Too Many Characters](https://tow.whfb.app/characters/too-many-characters)\"\n",
    "    \"The title of each rule will be a markdown heading.\"\n",
    ")"
   ]
  },
  {
   "cell_type": "code",
   "execution_count": 55,
   "metadata": {},
   "outputs": [],
   "source": [
    "\n",
    "client = openai.OpenAI(\n",
    "    base_url = ollama_url,\n",
    "    api_key='ollama', # required, but unused\n",
    ")\n",
    "\n",
    "response = client.chat.completions.create(\n",
    "  model=gpt_model,\n",
    "  messages=[\n",
    "    {\"role\": \"system\", \"content\": system_message},\n",
    "    {\"role\": \"user\", \"content\": f\"{prompt}\\n\\n Sources:\\n\\n {formatted_results}\"},\n",
    "  ],\n",
    "  temperature=0.3,\n",
    "  top_p=1.0\n",
    ")\n"
   ]
  },
  {
   "cell_type": "code",
   "execution_count": 56,
   "metadata": {},
   "outputs": [
    {
     "data": {
      "text/html": [
       "<pre style=\"white-space:pre;overflow-x:auto;line-height:normal;font-family:Menlo,'DejaVu Sans Mono',consolas,'Courier New',monospace\">**Veteran Rule Explanation**\n",
       "\n",
       "The Veteran rule is a special rule that applies to veteran warriors in Warhammer Fantasy Battle. According to the \n",
       "rulebook <span style=\"font-weight: bold\">[</span>Rulebook, p. <span style=\"color: #008080; text-decoration-color: #008080; font-weight: bold\">180</span><span style=\"font-weight: bold\">]</span>, veteran warriors have seen and done it all, and it takes a lot to unsettle them.\n",
       "\n",
       "In essence, this rule makes veteran warriors more resilient and resistant to effects that would normally affect \n",
       "regular units. The exact details of how this rule works can vary depending on the specific unit and army being \n",
       "used.\n",
       "\n",
       "**Example**\n",
       "\n",
       "Let's say we have a veteran warrior in a unit of <span style=\"color: #008080; text-decoration-color: #008080; font-weight: bold\">10</span> models, with <span style=\"color: #008080; text-decoration-color: #008080; font-weight: bold\">2</span> characters and <span style=\"color: #008080; text-decoration-color: #008080; font-weight: bold\">8</span> rank-and-file models. In \n",
       "combat, one of the characters is hit and killed by an enemy attack.\n",
       "\n",
       "According to the Excess Casualties rule <span style=\"font-weight: bold\">[</span>Rulebook, p. <span style=\"color: #008080; text-decoration-color: #008080; font-weight: bold\">150</span><span style=\"font-weight: bold\">]</span>, since there are more casualties than models in the \n",
       "fighting rank, one character will <span style=\"color: #008000; text-decoration-color: #008000\">\"retire\"</span> from combat. However, because this unit has a Veteran rule, the retired \n",
       "character does not confer any negative effects on the remaining characters. Instead, they simply move through the \n",
       "ranks to take up a position away from the fighting rank.\n",
       "\n",
       "In this case, the retired character moves down the ranks and becomes part of the rank-and-file models, but still \n",
       "remains in the unit's army. The remaining <span style=\"color: #008080; text-decoration-color: #008080; font-weight: bold\">2</span> characters continue to fight as normal.\n",
       "\n",
       "**Sources**\n",
       "\n",
       "* <span style=\"font-weight: bold\">[</span>Rulebook, p. <span style=\"color: #008080; text-decoration-color: #008080; font-weight: bold\">150</span><span style=\"font-weight: bold\">](</span><span style=\"color: #0000ff; text-decoration-color: #0000ff; text-decoration: underline\">https://tow.whfb.app/the-combat-phase/excess-casualties)</span>\n",
       "* <span style=\"font-weight: bold\">[</span>Rulebook, p. <span style=\"color: #008080; text-decoration-color: #008080; font-weight: bold\">180</span><span style=\"font-weight: bold\">](</span><span style=\"color: #0000ff; text-decoration-color: #0000ff; text-decoration: underline\">https://tow.whfb.app/special-rules/veteran)</span>\n",
       "* <span style=\"font-weight: bold\">[</span>Rulebook, p. <span style=\"color: #008080; text-decoration-color: #008080; font-weight: bold\">209</span><span style=\"font-weight: bold\">](</span><span style=\"color: #0000ff; text-decoration-color: #0000ff; text-decoration: underline\">https://tow.whfb.app/characters/too-many-characters)</span>\n",
       "</pre>\n"
      ],
      "text/plain": [
       "**Veteran Rule Explanation**\n",
       "\n",
       "The Veteran rule is a special rule that applies to veteran warriors in Warhammer Fantasy Battle. According to the \n",
       "rulebook \u001b[1m[\u001b[0mRulebook, p. \u001b[1;36m180\u001b[0m\u001b[1m]\u001b[0m, veteran warriors have seen and done it all, and it takes a lot to unsettle them.\n",
       "\n",
       "In essence, this rule makes veteran warriors more resilient and resistant to effects that would normally affect \n",
       "regular units. The exact details of how this rule works can vary depending on the specific unit and army being \n",
       "used.\n",
       "\n",
       "**Example**\n",
       "\n",
       "Let's say we have a veteran warrior in a unit of \u001b[1;36m10\u001b[0m models, with \u001b[1;36m2\u001b[0m characters and \u001b[1;36m8\u001b[0m rank-and-file models. In \n",
       "combat, one of the characters is hit and killed by an enemy attack.\n",
       "\n",
       "According to the Excess Casualties rule \u001b[1m[\u001b[0mRulebook, p. \u001b[1;36m150\u001b[0m\u001b[1m]\u001b[0m, since there are more casualties than models in the \n",
       "fighting rank, one character will \u001b[32m\"retire\"\u001b[0m from combat. However, because this unit has a Veteran rule, the retired \n",
       "character does not confer any negative effects on the remaining characters. Instead, they simply move through the \n",
       "ranks to take up a position away from the fighting rank.\n",
       "\n",
       "In this case, the retired character moves down the ranks and becomes part of the rank-and-file models, but still \n",
       "remains in the unit's army. The remaining \u001b[1;36m2\u001b[0m characters continue to fight as normal.\n",
       "\n",
       "**Sources**\n",
       "\n",
       "* \u001b[1m[\u001b[0mRulebook, p. \u001b[1;36m150\u001b[0m\u001b[1m]\u001b[0m\u001b[1m(\u001b[0m\u001b[4;94mhttps://tow.whfb.app/the-combat-phase/excess-casualties\u001b[0m\u001b[4;94m)\u001b[0m\n",
       "* \u001b[1m[\u001b[0mRulebook, p. \u001b[1;36m180\u001b[0m\u001b[1m]\u001b[0m\u001b[1m(\u001b[0m\u001b[4;94mhttps://tow.whfb.app/special-rules/veteran\u001b[0m\u001b[4;94m)\u001b[0m\n",
       "* \u001b[1m[\u001b[0mRulebook, p. \u001b[1;36m209\u001b[0m\u001b[1m]\u001b[0m\u001b[1m(\u001b[0m\u001b[4;94mhttps://tow.whfb.app/characters/too-many-characters\u001b[0m\u001b[4;94m)\u001b[0m\n"
      ]
     },
     "metadata": {},
     "output_type": "display_data"
    }
   ],
   "source": [
    "print(response.choices[0].message.content)"
   ]
  },
  {
   "cell_type": "code",
   "execution_count": 92,
   "metadata": {},
   "outputs": [],
   "source": [
    "def add_context(prompt: str)-> list[dict[str, str]]:\n",
    "    system_message = (\n",
    "    \"You must answer questions only according to sources.\"\n",
    "    \"Say you dont know if you cant find answer in sources.\"\n",
    "    \"Respond as if you are an expert and within the scope of the rules of the game called the old world.\"\n",
    "    \"If there isn't enough information below, say you don't know.\"\n",
    "    \"Always include the references for each source you use in the response.\"\n",
    "    \"Use square brackets to reference the source, for example [52].\"\n",
    "    \"Don't combine citations, list each product separately, for example [27][51].\"\n",
    "    # \"Place the source references at the end as list references with rulebook page and reference link.\"\n",
    "    \"The source references will be always similar to the next example: [1] Rulebook, p. 209\\n\\n Link:https://tow.whfb.app/characters/too-many-characters\"\n",
    "    \"Provide the answer in markdown format with headers\"\n",
    "    # \"Use emojis when you consider that it will make it more interesting\"\n",
    ")\n",
    "\n",
    "    \n",
    "    results= ragtime(prompt)\n",
    "    formatted_results = [f'##{result.get(\"rule_name\")}\\n\\n{result.get(\"rule_description\")}\\n\\nRulebook page:{result.get(\"rulebook_page\")}\\n\\n Reference link:[{result.get(\"rule_name\")}]({result.get(\"link\")})' for result in results]\n",
    "\n",
    "    return [\n",
    "        {\"role\": \"system\", \"content\": system_message},\n",
    "        {\"role\": \"user\", \"content\": f\"In the context of warhammer the old world, provide me an answer to this: {prompt}\\n\\n using these sources:\\n\\n {formatted_results}\"},\n",
    "    ]"
   ]
  },
  {
   "cell_type": "code",
   "execution_count": 94,
   "metadata": {},
   "outputs": [
    {
     "data": {
      "text/markdown": [
       "**Turn Phases in Warhammer the Old World**\n",
       "=============================================\n",
       "\n",
       "According to the Warhammer: The Old World rulebook, a player's turn is divided into four phases:\n",
       "\n",
       "### 1. Strategy Phase\n",
       "[The Strategy Phase Sequence](https://tow.whfb.app/the-strategy-phase/the-strategy-phase-sequence)\n",
       "\n",
       "* Start of Turn\n",
       "* Command\n",
       "* Conjuration (Enchantment or Hex spells)\n",
       "* Rally Fleeing Troops\n",
       "\n",
       "### 2. Movement Phase\n",
       "[The Turn Sequence](https://tow.whfb.app/the-turn-sequence)\n",
       "\n",
       "* Declaration of Charges and Charge Reactions\n",
       "* Movement of Charging Units\n",
       "* Compulsory Movement\n",
       "* Conveyance Spells\n",
       "\n",
       "### 3. Shooting Phase\n",
       "[The Turn Sequence](https://tow.whfb.app/the-turn-sequence)\n",
       "\n",
       "* Shooting with Missile Weapons, War Machines, and Magic Missiles\n",
       "* Casting Magical Vortex Spells\n",
       "\n",
       "### 4. Combat Phase\n",
       "[The Turn Sequence](https://tow.whfb.app/the-turn-sequence)\n",
       "\n",
       "* Units fight in Hand-to-Hand Melee\n",
       "* Wizards cast Assailment Spells to fend off attackers\n",
       "* Resolution of Combats\n",
       "* End of Turn\n",
       "\n",
       "Note that the order of phases is not explicitly stated as a sequence, but rather each phase has its own set of sub-phases and steps."
      ],
      "text/plain": [
       "<IPython.core.display.Markdown object>"
      ]
     },
     "metadata": {},
     "output_type": "display_data"
    }
   ],
   "source": [
    "prompt = \"what is the order of phases in warhammer the old world during a turn in the battle?\"\n",
    "\n",
    "response = client.chat.completions.create(\n",
    "  model=gpt_model,\n",
    "  messages=add_context(prompt),\n",
    "  temperature=0.3,\n",
    "  top_p=1.0\n",
    ")\n",
    "display(Markdown(response.choices[0].message.content))"
   ]
  },
  {
   "cell_type": "code",
   "execution_count": 98,
   "metadata": {},
   "outputs": [
    {
     "data": {
      "text/markdown": [
       "**Base Size in Warhammer: The Old World**\n",
       "=====================================\n",
       "\n",
       "According to the Rulebook, all models used in a game of Warhammer: The Old World should be mounted upon a square or rectangular base. The dimensions of which are given here in millimeters (mm).\n",
       "\n",
       "### Base Sizes\n",
       "----------------\n",
       "\n",
       "The following base sizes are allowed in the game:\n",
       "\n",
       "* Square bases with the following dimensions:\n",
       "\t+ 20x20 mm [Rulebook, p. 98]\n",
       "\t+ 30x30 mm [Rulebook, p. 98]\n",
       "\t+ 40x40 mm [Rulebook, p. 98]\n",
       "\t+ 50x50 mm [Rulebook, p. 98]\n",
       "\t+ 60x60 mm [Rulebook, p. 98]\n",
       "* Rectangular bases with the following dimensions:\n",
       "\t+ 20x30 mm [Rulebook, p. 98]\n",
       "\t+ 30x40 mm [Rulebook, p. 98]\n",
       "\n",
       "Note that these are the recommended base sizes, but it's worth noting that some players may have older models with varying base sizes.\n",
       "\n",
       "### Reference Links\n",
       "-------------------\n",
       "\n",
       "* [Model Profiles](https://tow.whfb.app/model-profiles)\n",
       "* [Base Size](https://tow.whfb.app/model-profiles/base-size)\n",
       "* [Rulebook page: Rulebook, p. 96](https://tow.whfb.app/characters/too-many-characters#rulebook-p-96)\n",
       "* [Rulebook page: Rulebook, p. 98](https://tow.whfb.app/characters/too-many-characters#rulebook-p-98)\n",
       "* [Rulebook page: Rulebook, p. 276](https://tow.whfb.app/warhammer-armies/recommended-size-of-game)\n",
       "* [Rulebook page: Rulebook, p. 285](https://tow.whfb.app/warhammer-battles/size-of-battlefield)"
      ],
      "text/plain": [
       "<IPython.core.display.Markdown object>"
      ]
     },
     "metadata": {},
     "output_type": "display_data"
    }
   ],
   "source": [
    "prompt = \"which miniatures base sizes are allowed in the game?\"\n",
    "\n",
    "response = client.chat.completions.create(\n",
    "  model=gpt_model,\n",
    "  messages=add_context(prompt),\n",
    "  temperature=0.3,\n",
    "  top_p=1.0,\n",
    ")\n",
    "display(Markdown(response.choices[0].message.content))"
   ]
  },
  {
   "cell_type": "code",
   "execution_count": 99,
   "metadata": {},
   "outputs": [
    {
     "data": {
      "text/markdown": [
       "**Most Powerful Monster in Warhammer the Old World**\n",
       "=============================================\n",
       "\n",
       "Determining the most powerful monster in Warhammer the Old World is a subjective task, as it depends on various factors such as the player's army composition and playstyle. However, based on the provided sources, we can identify some of the most formidable monsters in the game.\n",
       "\n",
       "**Behemoths: The Largest and Most Powerful**\n",
       "-----------------------------------------\n",
       "\n",
       "According to the Rulebook [1], Behemoths are the largest beings in the Warhammer world, including mighty Dragons, Greater Daemons of Chaos, towering Giants, and lumbering constructs of science and sorcery. These creatures are categorized into two sub-categories:\n",
       "\n",
       "* **Monstrous Creatures**: These include fearsome beasts such as giant spiders, wolves, and bears.\n",
       "* **Behemoths**: This category includes the largest and most powerful creatures, including Dragons, Greater Daemons, Giants, and constructs.\n",
       "\n",
       "**Notable Behemoths**\n",
       "-------------------\n",
       "\n",
       "Some notable Behemoths mentioned in the sources include:\n",
       "\n",
       "* **Dragons**: These legendary creatures are known for their immense strength and power.\n",
       "* **Greater Daemons of Chaos**: As servants of the Dark Gods, these daemons are feared throughout the Warhammer world for their malevolent powers.\n",
       "* **Giants**: Towering over normal humans, Giants are formidable opponents on the battlefield.\n",
       "\n",
       "**Conclusion**\n",
       "----------\n",
       "\n",
       "While it's difficult to pinpoint a single most powerful monster in Warhammer the Old World, Behemoths are undoubtedly the largest and most fearsome creatures in the game. Dragons, Greater Daemons of Chaos, and Giants are among the most notable Behemoths, each with their unique abilities and strengths.\n",
       "\n",
       "**References**\n",
       "--------------\n",
       "\n",
       "[1] Rulebook, p. 196\n",
       "[52] [Behemoths](https://tow.whfb.app/troop-types-in-detail/behemoths)"
      ],
      "text/plain": [
       "<IPython.core.display.Markdown object>"
      ]
     },
     "metadata": {},
     "output_type": "display_data"
    }
   ],
   "source": [
    "prompt = \"what is the most powerful monster of the game?\"\n",
    "\n",
    "response = client.chat.completions.create(\n",
    "  model=gpt_model,\n",
    "  messages=add_context(prompt),\n",
    "  temperature=0.3,\n",
    "  top_p=1.0,\n",
    ")\n",
    "display(Markdown(response.choices[0].message.content))"
   ]
  },
  {
   "cell_type": "code",
   "execution_count": 100,
   "metadata": {},
   "outputs": [
    {
     "data": {
      "text/markdown": [
       "**Magic Armour in Warhammer The Old World**\n",
       "\n",
       "In the context of Warhammer The Old World, magic armour provides additional protection to a model's vital areas, but its cost is significant. According to the Rulebook [1], a model can never have an armour value better than 2+, and any bonuses that would improve a model's armour further have no effect.\n",
       "\n",
       "**Most Cost-Effective Magic Armour**\n",
       "\n",
       "Among the available magic armours, **Armour of Meteoric Iron** is the most cost-effective option. It costs 20 points [4] and provides its wearer with an armour value of 5+, which cannot be improved in any way. This makes it a valuable investment for models that need high levels of protection.\n",
       "\n",
       "**Other Notable Magic Armours**\n",
       "\n",
       "* **Armour of Destiny**: This heavy armour costs 70 points [3] and provides its wearer with a 4+ Ward save against any wounds suffered.\n",
       "* **Bedazzling Helm**: This helm costs 60 points [2] and improves the wearer's armour value by 1 (to a maximum of 2+) and causes enemies to suffer a -1 modifier to their rolls to hit.\n",
       "\n",
       "**Comparison**\n",
       "\n",
       "| Magic Armour | Cost | Armour Value |\n",
       "| --- | --- | --- |\n",
       "| Armour of Meteoric Iron | 20 points | 5+ |\n",
       "| Armour of Destiny | 70 points | 4+ (Ward save) |\n",
       "| Bedazzling Helm | 60 points | 2+ (+1 bonus) |\n",
       "\n",
       "Note: The armour values listed are the maximum possible values for each armour, taking into account any bonuses or special rules.\n",
       "\n",
       "References:\n",
       "\n",
       "[1] Rulebook, p. 220\n",
       "[2] [Light Armour](https://tow.whfb.app/weapons-of-war/light-armour)\n",
       "[3] [Armour of Destiny](https://tow.whfb.app/magic-items/armour-of-destiny)\n",
       "[4] [Magic Armour](https://tow.whfb.app/magic-items/magic-armour)"
      ],
      "text/plain": [
       "<IPython.core.display.Markdown object>"
      ]
     },
     "metadata": {},
     "output_type": "display_data"
    }
   ],
   "source": [
    "prompt = \"what is the magic armour that provides more benefit given its cost?\"\n",
    "\n",
    "response = client.chat.completions.create(\n",
    "  model=gpt_model,\n",
    "  messages=add_context(prompt),\n",
    "  temperature=0.3,\n",
    "  top_p=1.0,\n",
    ")\n",
    "display(Markdown(response.choices[0].message.content))"
   ]
  },
  {
   "cell_type": "code",
   "execution_count": null,
   "metadata": {},
   "outputs": [],
   "source": []
  }
 ],
 "metadata": {
  "kernelspec": {
   "display_name": "pgvector-playground-3pTo8nw1-py3.12",
   "language": "python",
   "name": "python3"
  },
  "language_info": {
   "codemirror_mode": {
    "name": "ipython",
    "version": 3
   },
   "file_extension": ".py",
   "mimetype": "text/x-python",
   "name": "python",
   "nbconvert_exporter": "python",
   "pygments_lexer": "ipython3",
   "version": "3.11.8"
  }
 },
 "nbformat": 4,
 "nbformat_minor": 2
}
