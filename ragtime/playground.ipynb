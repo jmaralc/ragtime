{
 "cells": [
  {
   "cell_type": "code",
   "execution_count": 1,
   "metadata": {},
   "outputs": [],
   "source": [
    "import csv\n",
    "from bs4 import BeautifulSoup\n",
    "import requests\n",
    "import ollama\n",
    "import openai\n",
    "import psycopg2\n",
    "\n",
    "from pgvector.psycopg2 import register_vector\n",
    "from dotenv import load_dotenv\n",
    "import os\n",
    "import numpy as np\n",
    "from rich.jupyter import print\n",
    "from psycopg2.extras import RealDictCursor"
   ]
  },
  {
   "cell_type": "markdown",
   "metadata": {},
   "source": [
    "## First steps"
   ]
  },
  {
   "cell_type": "code",
   "execution_count": 2,
   "metadata": {},
   "outputs": [
    {
     "data": {
      "text/plain": [
       "'Martinez.\\n\\n(Note: In Spanish, the rule is to list surnames in order of frequency or importance. If both surnames have equal importance, they can be listed in alphabetical order. However, if one surname is more common than the other, it is typically listed first.)\\n\\nBut, considering that \"Martinez\" is a very common surname, I\\'m going to take an educated guess and say that... (drum roll)... Javier Martinez is probably from Spain or a Spanish-speaking country where the rule of listing surnames in order of importance might apply.\\n\\nSo, my answer is: Martínez.'"
      ]
     },
     "execution_count": 2,
     "metadata": {},
     "output_type": "execute_result"
    }
   ],
   "source": [
    "output = ollama.generate(\n",
    "  model=\"llama3.1\",\n",
    "  prompt=f\"What is the second family name of Javier Martinez according to spanish rule of family names? you are force to provide an answer and provide a single word answer\"\n",
    ")\n",
    "output.get(\"response\")"
   ]
  },
  {
   "cell_type": "code",
   "execution_count": 6,
   "metadata": {},
   "outputs": [
    {
     "data": {
      "text/plain": [
       "'Vila'"
      ]
     },
     "execution_count": 6,
     "metadata": {},
     "output_type": "execute_result"
    }
   ],
   "source": [
    "data = \"Virginia Alcantara Vila is the mother of Javier Martinez. Both are spaniards\"\n",
    "\n",
    "prompt= \"What is the mother's family name of Javier Martinez (a fiction character) according to spanish rule of family names? you are force to provide an answer and provide a single word answer\"\n",
    "\n",
    "output = ollama.generate(\n",
    "  model=\"llama3.1\",\n",
    "  prompt=f\"Using this data: {data}. Respond to this prompt: {prompt}\",\n",
    ")\n",
    "output.get(\"response\")"
   ]
  },
  {
   "cell_type": "markdown",
   "metadata": {},
   "source": [
    "# Data Extraction"
   ]
  },
  {
   "cell_type": "code",
   "execution_count": null,
   "metadata": {},
   "outputs": [],
   "source": [
    "\n",
    "url=\"https://tow.whfb.app\"\n",
    "\n",
    "html_content = requests.get(url).text\n",
    "\n",
    "\n",
    "soup = BeautifulSoup(html_content)\n",
    "\n",
    "soup.findAll(\"a\")\n",
    "links = soup.findAll(\"a\")\n",
    "\n",
    "with open(f\"old_world_rules3.csv\", 'w', newline='') as out_file:\n",
    "    headers = [\n",
    "        \"rule_name\", \n",
    "        \"link_number\",\n",
    "        \"link\",\n",
    "        \"rulebook_page\",\n",
    "        \"rule_description\"\n",
    "    ]\n",
    "    writer = csv.DictWriter(out_file, headers)\n",
    "    writer.writeheader()\n",
    "    total_links = len(links)\n",
    "    \n",
    "    id = 0\n",
    "    for number, link in enumerate(links):\n",
    "        try:\n",
    "            # if number == 20: \n",
    "            #     break\n",
    "            l = url + link.get(\"href\")\n",
    "\n",
    "            print(f\"Processing {number} out of {total_links}\")\n",
    "            html_content = requests.get(l).text\n",
    "\n",
    "\n",
    "            # Parse the html content\n",
    "            subsoup = BeautifulSoup(html_content)\n",
    "            rule_name = subsoup.find(\"h1\", attrs={\"class\": \"page-title\"}).text.removesuffix(\"URL Copied!\")\n",
    "            rulebook_page = subsoup.find(\"li\", attrs={\"class\": \"page-reference\"}).text\n",
    "            rule_description = \"\"\n",
    "\n",
    "            if subsoup.find(\"article\", attrs={\"class\": \"article--rich-text\"}):\n",
    "                rule_description = subsoup.find(\"article\", attrs={\"class\": \"article--rich-text\"}).text\n",
    "            \n",
    "            if subsoup.find(\"article\", attrs={\"class\": \"article--rich-text section-intro\"}):\n",
    "                rule_description += subsoup.find(\"article\", attrs={\"class\": \"article--rich-text section-intro\"}).text\n",
    "            \n",
    "            row = {\n",
    "                \"rule_name\": rule_name,\n",
    "                \"link_number\": str(id),\n",
    "                \"link\": l,\n",
    "                \"rulebook_page\": rulebook_page,\n",
    "                \"rule_description\": rule_description\n",
    "                }\n",
    "\n",
    "            writer.writerow(row)\n",
    "            id += 1\n",
    "\n",
    "            spells = subsoup.find(\"div\", attrs={\"class\": \"spell-list\"}).findAll(\"a\")\n",
    "            spells = [ spell for spell in spells if \"/spell\" in spell.get(\"href\")]\n",
    "            # print(spells)\n",
    "            if spells:\n",
    "                for spell in spells:\n",
    "                    print(spell)\n",
    "                    spell_link = url + spell.get(\"href\")\n",
    "\n",
    "                    html_content = requests.get(spell_link).text \n",
    "                    spell = BeautifulSoup(html_content)\n",
    "                    \n",
    "                    spell_name = spell.find(\"h1\", attrs={\"class\": \"page-title\"}).text.removesuffix(\"URL Copied!\")\n",
    "                    spell_rulebook_page = spell.find(\"li\", attrs={\"class\": \"page-reference\"}).text\n",
    "\n",
    "                    descriptions = spell.findAll(\"article\", attrs={\"class\": \"article--rich-text\"})\n",
    "                    spell_description = descriptions[0].text\n",
    "                    \n",
    "                    spell_info = [el.text for el in descriptions[1].findAll(\"p\") if el.text]\n",
    "                    # print(spell_info)\n",
    "                    spell_description += \" \" + spell_info.pop()\n",
    "                    # print(spell_info)\n",
    "                    for info in range(0,len(spell_info),2):\n",
    "                        spell_description += f\" {spell_info[info]}:{spell_info[info+1].replace('\"', \" inches\")},\"\n",
    "                    \n",
    "                    spell_description = spell_description.removesuffix(\",\")\n",
    "                    row = {\n",
    "                        \"rule_name\": spell_name,\n",
    "                        \"link_number\": str(id),\n",
    "                        \"link\": spell_link,\n",
    "                        \"rulebook_page\": spell_rulebook_page,\n",
    "                        \"rule_description\": spell_description\n",
    "                        }\n",
    "\n",
    "                    writer.writerow(row)\n",
    "                    id += 1\n",
    "\n",
    "        except Exception as e:\n",
    "            print(e)\n",
    "            continue"
   ]
  },
  {
   "cell_type": "markdown",
   "metadata": {},
   "source": [
    "# Database initialization"
   ]
  },
  {
   "cell_type": "code",
   "execution_count": 2,
   "metadata": {},
   "outputs": [
    {
     "ename": "OperationalError",
     "evalue": "connection to server at \"localhost\" (::1), port 5432 failed: Connection refused\n\tIs the server running on that host and accepting TCP/IP connections?\nconnection to server at \"localhost\" (127.0.0.1), port 5432 failed: Connection refused\n\tIs the server running on that host and accepting TCP/IP connections?\n",
     "output_type": "error",
     "traceback": [
      "\u001b[0;31m---------------------------------------------------------------------------\u001b[0m",
      "\u001b[0;31mOperationalError\u001b[0m                          Traceback (most recent call last)",
      "Cell \u001b[0;32mIn[2], line 12\u001b[0m\n\u001b[1;32m      9\u001b[0m \u001b[38;5;28;01mif\u001b[39;00m DBHOST \u001b[38;5;241m!=\u001b[39m \u001b[38;5;124m\"\u001b[39m\u001b[38;5;124mlocalhost\u001b[39m\u001b[38;5;124m\"\u001b[39m:\n\u001b[1;32m     10\u001b[0m     DBSSL \u001b[38;5;241m=\u001b[39m \u001b[38;5;124m\"\u001b[39m\u001b[38;5;124mrequire\u001b[39m\u001b[38;5;124m\"\u001b[39m\n\u001b[0;32m---> 12\u001b[0m conn \u001b[38;5;241m=\u001b[39m \u001b[43mpsycopg2\u001b[49m\u001b[38;5;241;43m.\u001b[39;49m\u001b[43m \u001b[49m\u001b[43mconnect\u001b[49m\u001b[43m \u001b[49m\u001b[43m(\u001b[49m\u001b[43mdatabase\u001b[49m\u001b[38;5;241;43m=\u001b[39;49m\u001b[43mDBNAME\u001b[49m\u001b[43m,\u001b[49m\u001b[43m \u001b[49m\u001b[43muser\u001b[49m\u001b[38;5;241;43m=\u001b[39;49m\u001b[43mDBUSER\u001b[49m\u001b[43m,\u001b[49m\u001b[43m \u001b[49m\u001b[43mpassword\u001b[49m\u001b[38;5;241;43m=\u001b[39;49m\u001b[43mDBPASS\u001b[49m\u001b[43m,\u001b[49m\u001b[43m \u001b[49m\u001b[43mhost\u001b[49m\u001b[38;5;241;43m=\u001b[39;49m\u001b[43mDBHOST\u001b[49m\u001b[43m,\u001b[49m\u001b[43m \u001b[49m\u001b[43msslmode\u001b[49m\u001b[38;5;241;43m=\u001b[39;49m\u001b[43mDBSSL\u001b[49m\u001b[43m)\u001b[49m\n\u001b[1;32m     13\u001b[0m conn\u001b[38;5;241m.\u001b[39mautocommit \u001b[38;5;241m=\u001b[39m \u001b[38;5;28;01mTrue\u001b[39;00m\n\u001b[1;32m     14\u001b[0m cur \u001b[38;5;241m=\u001b[39m conn\u001b[38;5;241m.\u001b[39mcursor(cursor_factory\u001b[38;5;241m=\u001b[39mpsycopg2\u001b[38;5;241m.\u001b[39mextras\u001b[38;5;241m.\u001b[39mRealDictCursor)\n",
      "File \u001b[0;32m~/Library/Caches/pypoetry/virtualenvs/pgvector-playground-3pTo8nw1-py3.12/lib/python3.12/site-packages/psycopg2/__init__.py:122\u001b[0m, in \u001b[0;36mconnect\u001b[0;34m(dsn, connection_factory, cursor_factory, **kwargs)\u001b[0m\n\u001b[1;32m    119\u001b[0m     kwasync[\u001b[38;5;124m'\u001b[39m\u001b[38;5;124masync_\u001b[39m\u001b[38;5;124m'\u001b[39m] \u001b[38;5;241m=\u001b[39m kwargs\u001b[38;5;241m.\u001b[39mpop(\u001b[38;5;124m'\u001b[39m\u001b[38;5;124masync_\u001b[39m\u001b[38;5;124m'\u001b[39m)\n\u001b[1;32m    121\u001b[0m dsn \u001b[38;5;241m=\u001b[39m _ext\u001b[38;5;241m.\u001b[39mmake_dsn(dsn, \u001b[38;5;241m*\u001b[39m\u001b[38;5;241m*\u001b[39mkwargs)\n\u001b[0;32m--> 122\u001b[0m conn \u001b[38;5;241m=\u001b[39m \u001b[43m_connect\u001b[49m\u001b[43m(\u001b[49m\u001b[43mdsn\u001b[49m\u001b[43m,\u001b[49m\u001b[43m \u001b[49m\u001b[43mconnection_factory\u001b[49m\u001b[38;5;241;43m=\u001b[39;49m\u001b[43mconnection_factory\u001b[49m\u001b[43m,\u001b[49m\u001b[43m \u001b[49m\u001b[38;5;241;43m*\u001b[39;49m\u001b[38;5;241;43m*\u001b[39;49m\u001b[43mkwasync\u001b[49m\u001b[43m)\u001b[49m\n\u001b[1;32m    123\u001b[0m \u001b[38;5;28;01mif\u001b[39;00m cursor_factory \u001b[38;5;129;01mis\u001b[39;00m \u001b[38;5;129;01mnot\u001b[39;00m \u001b[38;5;28;01mNone\u001b[39;00m:\n\u001b[1;32m    124\u001b[0m     conn\u001b[38;5;241m.\u001b[39mcursor_factory \u001b[38;5;241m=\u001b[39m cursor_factory\n",
      "\u001b[0;31mOperationalError\u001b[0m: connection to server at \"localhost\" (::1), port 5432 failed: Connection refused\n\tIs the server running on that host and accepting TCP/IP connections?\nconnection to server at \"localhost\" (127.0.0.1), port 5432 failed: Connection refused\n\tIs the server running on that host and accepting TCP/IP connections?\n"
     ]
    }
   ],
   "source": [
    "# Set up Postgres\n",
    "load_dotenv(override=True)\n",
    "DBUSER = os.environ [\"DBUSER\"]\n",
    "DBPASS = os.environ[\"DBPASS\"]\n",
    "DBHOST = os.environ[\"DBHOST\"]\n",
    "DBNAME = os.environ [\"DBNAME\" ]\n",
    "# Use SSL if not connecting to localhost\n",
    "DBSSL = \"disable\"\n",
    "if DBHOST != \"localhost\":\n",
    "    DBSSL = \"require\"\n",
    "    \n",
    "conn = psycopg2. connect (database=DBNAME, user=DBUSER, password=DBPASS, host=DBHOST, sslmode=DBSSL)\n",
    "conn.autocommit = True\n",
    "cur = conn.cursor(cursor_factory=psycopg2.extras.RealDictCursor)"
   ]
  },
  {
   "cell_type": "markdown",
   "metadata": {},
   "source": [
    "# Embeddings generation"
   ]
  },
  {
   "cell_type": "code",
   "execution_count": 5,
   "metadata": {},
   "outputs": [],
   "source": [
    "# Set up Github models\n",
    "endpoint = \"https://models.inference.ai.azure.com\"\n",
    "model_name = \"text-embedding-3-small\""
   ]
  },
  {
   "cell_type": "markdown",
   "metadata": {},
   "source": [
    "Generating the table that will contain the embeddings"
   ]
  },
  {
   "cell_type": "code",
   "execution_count": 10,
   "metadata": {},
   "outputs": [],
   "source": [
    "EMBEDDINGS_SIZE = 1024\n",
    "\n",
    "cur.execute(\"CREATE EXTENSION IF NOT EXISTS vector\")\n",
    "cur.execute(\"DROP TABLE IF EXISTS rules\")\n",
    "cur.execute(f\"\"\"CREATE TABLE rules (\n",
    "            link_number int PRIMARY KEY,\n",
    "            rule_name varchar,\n",
    "            link varchar,\n",
    "            rulebook_page varchar,\n",
    "            rule_description varchar,\n",
    "            embedding vector({EMBEDDINGS_SIZE})\n",
    "            );\"\"\")\n",
    "register_vector(conn)\n",
    "\n",
    "cur.execute(\"CREATE INDEX ON rules USING hnsw (embedding vector_cosine_ops)\")\n",
    "\n"
   ]
  },
  {
   "cell_type": "markdown",
   "metadata": {},
   "source": [
    "Reading rules from our disk and load them into memory:"
   ]
  },
  {
   "cell_type": "code",
   "execution_count": 11,
   "metadata": {},
   "outputs": [],
   "source": [
    "with open(f\"old_world_rules3.csv\", 'r', newline='') as csvfile:\n",
    "    rules = csv.DictReader(csvfile, delimiter=',')\n",
    "\n",
    "\n",
    "    # Iterating the rules\n",
    "    for rule in rules:\n",
    "        link_number = rule.get(\"link_number\")\n",
    "        rule_name = rule[\"rule_name\"]\n",
    "        link = rule[\"link\"]\n",
    "        rulebook_page = rule[\"rulebook_page\"]\n",
    "        rule_description = rule[\"rule_description\"]\n",
    "\n",
    "        embedding = ollama.embeddings(\n",
    "            model=\"mxbai-embed-large\", \n",
    "            prompt=f\"Rule: {rule_name}. Rule Description: {rule_description}\"\n",
    "            )\n",
    "        # print(f\"{link_number}, {rule_name}, {link}, {rulebook_page}, {rule_description}, {embedding.get(\"embedding\")}\")\n",
    "        cur.execute(\n",
    "            \"INSERT INTO rules (link_number, rule_name, link, rulebook_page, rule_description, embedding) VALUES (%s,%s,%s,%s,%s,%s)\", \n",
    "            (link_number, rule_name, link, rulebook_page, rule_description, embedding.get(\"embedding\"),)\n",
    "            )\n",
    "        \n"
   ]
  },
  {
   "cell_type": "markdown",
   "metadata": {},
   "source": [
    "# Comparison with embeddings using vector search"
   ]
  },
  {
   "cell_type": "code",
   "execution_count": 73,
   "metadata": {},
   "outputs": [
    {
     "data": {
      "text/html": [
       "<pre style=\"white-space:pre;overflow-x:auto;line-height:normal;font-family:Menlo,'DejaVu Sans Mono',consolas,'Courier New',monospace\"><span style=\"font-weight: bold\">[</span>\n",
       "    <span style=\"color: #800080; text-decoration-color: #800080; font-weight: bold\">RealDictRow</span><span style=\"font-weight: bold\">({</span><span style=\"color: #008000; text-decoration-color: #008000\">'rule_name'</span>: <span style=\"color: #008000; text-decoration-color: #008000\">'The Charge Move'</span>, <span style=\"color: #008000; text-decoration-color: #008000\">'distance'</span>: <span style=\"color: #008080; text-decoration-color: #008080; font-weight: bold\">13.069721762651453</span><span style=\"font-weight: bold\">})</span>,\n",
       "    <span style=\"color: #800080; text-decoration-color: #800080; font-weight: bold\">RealDictRow</span><span style=\"font-weight: bold\">({</span><span style=\"color: #008000; text-decoration-color: #008000\">'rule_name'</span>: <span style=\"color: #008000; text-decoration-color: #008000\">'The Charge Move (Intro)'</span>, <span style=\"color: #008000; text-decoration-color: #008000\">'distance'</span>: <span style=\"color: #008080; text-decoration-color: #008080; font-weight: bold\">13.238372307152169</span><span style=\"font-weight: bold\">})</span>,\n",
       "    <span style=\"color: #800080; text-decoration-color: #800080; font-weight: bold\">RealDictRow</span><span style=\"font-weight: bold\">({</span><span style=\"color: #008000; text-decoration-color: #008000\">'rule_name'</span>: <span style=\"color: #008000; text-decoration-color: #008000\">'Declare Charges &amp; Charge Reactions'</span>, <span style=\"color: #008000; text-decoration-color: #008000\">'distance'</span>: <span style=\"color: #008080; text-decoration-color: #008080; font-weight: bold\">13.890500869453804</span><span style=\"font-weight: bold\">})</span>,\n",
       "    <span style=\"color: #800080; text-decoration-color: #800080; font-weight: bold\">RealDictRow</span><span style=\"font-weight: bold\">({</span><span style=\"color: #008000; text-decoration-color: #008000\">'rule_name'</span>: <span style=\"color: #008000; text-decoration-color: #008000\">'Charging More than One Unit'</span>, <span style=\"color: #008000; text-decoration-color: #008000\">'distance'</span>: <span style=\"color: #008080; text-decoration-color: #008080; font-weight: bold\">13.989492560475858</span><span style=\"font-weight: bold\">})</span>,\n",
       "    <span style=\"color: #800080; text-decoration-color: #800080; font-weight: bold\">RealDictRow</span><span style=\"font-weight: bold\">({</span><span style=\"color: #008000; text-decoration-color: #008000\">'rule_name'</span>: <span style=\"color: #008000; text-decoration-color: #008000\">'Accidental Contact During a Charge'</span>, <span style=\"color: #008000; text-decoration-color: #008000\">'distance'</span>: <span style=\"color: #008080; text-decoration-color: #008080; font-weight: bold\">14.089885985520285</span><span style=\"font-weight: bold\">})</span>,\n",
       "    <span style=\"color: #800080; text-decoration-color: #800080; font-weight: bold\">RealDictRow</span><span style=\"font-weight: bold\">({</span><span style=\"color: #008000; text-decoration-color: #008000\">'rule_name'</span>: <span style=\"color: #008000; text-decoration-color: #008000\">'Charging Through Terrain'</span>, <span style=\"color: #008000; text-decoration-color: #008000\">'distance'</span>: <span style=\"color: #008080; text-decoration-color: #008080; font-weight: bold\">14.110138493323914</span><span style=\"font-weight: bold\">})</span>,\n",
       "    <span style=\"color: #800080; text-decoration-color: #800080; font-weight: bold\">RealDictRow</span><span style=\"font-weight: bold\">({</span><span style=\"color: #008000; text-decoration-color: #008000\">'rule_name'</span>: <span style=\"color: #008000; text-decoration-color: #008000\">'Manoeuvring During a Charge'</span>, <span style=\"color: #008000; text-decoration-color: #008000\">'distance'</span>: <span style=\"color: #008080; text-decoration-color: #008080; font-weight: bold\">14.145107844330292</span><span style=\"font-weight: bold\">})</span>,\n",
       "    <span style=\"color: #800080; text-decoration-color: #800080; font-weight: bold\">RealDictRow</span><span style=\"font-weight: bold\">({</span><span style=\"color: #008000; text-decoration-color: #008000\">'rule_name'</span>: <span style=\"color: #008000; text-decoration-color: #008000\">'Unable to Align'</span>, <span style=\"color: #008000; text-decoration-color: #008000\">'distance'</span>: <span style=\"color: #008080; text-decoration-color: #008080; font-weight: bold\">14.164234326557056</span><span style=\"font-weight: bold\">})</span>,\n",
       "    <span style=\"color: #800080; text-decoration-color: #800080; font-weight: bold\">RealDictRow</span><span style=\"font-weight: bold\">({</span><span style=\"color: #008000; text-decoration-color: #008000\">'rule_name'</span>: <span style=\"color: #008000; text-decoration-color: #008000\">'Charge Reactions &amp; Multiple Charging Units'</span>, <span style=\"color: #008000; text-decoration-color: #008000\">'distance'</span>: <span style=\"color: #008080; text-decoration-color: #008080; font-weight: bold\">14.221697088984152</span><span style=\"font-weight: bold\">})</span>,\n",
       "    <span style=\"color: #800080; text-decoration-color: #800080; font-weight: bold\">RealDictRow</span><span style=\"font-weight: bold\">({</span><span style=\"color: #008000; text-decoration-color: #008000\">'rule_name'</span>: <span style=\"color: #008000; text-decoration-color: #008000\">'Multiple Charge Targets'</span>, <span style=\"color: #008000; text-decoration-color: #008000\">'distance'</span>: <span style=\"color: #008080; text-decoration-color: #008080; font-weight: bold\">14.425002200227302</span><span style=\"font-weight: bold\">})</span>,\n",
       "    <span style=\"color: #800080; text-decoration-color: #800080; font-weight: bold\">RealDictRow</span><span style=\"font-weight: bold\">({</span><span style=\"color: #008000; text-decoration-color: #008000\">'rule_name'</span>: <span style=\"color: #008000; text-decoration-color: #008000\">'Multiple Charging Units'</span>, <span style=\"color: #008000; text-decoration-color: #008000\">'distance'</span>: <span style=\"color: #008080; text-decoration-color: #008080; font-weight: bold\">14.453441719502747</span><span style=\"font-weight: bold\">})</span>,\n",
       "    <span style=\"color: #800080; text-decoration-color: #800080; font-weight: bold\">RealDictRow</span><span style=\"font-weight: bold\">({</span><span style=\"color: #008000; text-decoration-color: #008000\">'rule_name'</span>: <span style=\"color: #008000; text-decoration-color: #008000\">'Aligning to the Enemy'</span>, <span style=\"color: #008000; text-decoration-color: #008000\">'distance'</span>: <span style=\"color: #008080; text-decoration-color: #008080; font-weight: bold\">14.47902820255661</span><span style=\"font-weight: bold\">})</span>,\n",
       "    <span style=\"color: #800080; text-decoration-color: #800080; font-weight: bold\">RealDictRow</span><span style=\"font-weight: bold\">({</span><span style=\"color: #008000; text-decoration-color: #008000\">'rule_name'</span>: <span style=\"color: #008000; text-decoration-color: #008000\">'Running Down the Foe'</span>, <span style=\"color: #008000; text-decoration-color: #008000\">'distance'</span>: <span style=\"color: #008080; text-decoration-color: #008080; font-weight: bold\">14.548411614935086</span><span style=\"font-weight: bold\">})</span>,\n",
       "    <span style=\"color: #800080; text-decoration-color: #800080; font-weight: bold\">RealDictRow</span><span style=\"font-weight: bold\">({</span><span style=\"color: #008000; text-decoration-color: #008000\">'rule_name'</span>: <span style=\"color: #008000; text-decoration-color: #008000\">'Halting a Charge'</span>, <span style=\"color: #008000; text-decoration-color: #008000\">'distance'</span>: <span style=\"color: #008080; text-decoration-color: #008080; font-weight: bold\">14.60165707316216</span><span style=\"font-weight: bold\">})</span>,\n",
       "    <span style=\"color: #800080; text-decoration-color: #800080; font-weight: bold\">RealDictRow</span><span style=\"font-weight: bold\">({</span><span style=\"color: #008000; text-decoration-color: #008000\">'rule_name'</span>: <span style=\"color: #008000; text-decoration-color: #008000\">'Charging Units'</span>, <span style=\"color: #008000; text-decoration-color: #008000\">'distance'</span>: <span style=\"color: #008080; text-decoration-color: #008080; font-weight: bold\">14.731387016426334</span><span style=\"font-weight: bold\">})</span>,\n",
       "    <span style=\"color: #800080; text-decoration-color: #800080; font-weight: bold\">RealDictRow</span><span style=\"font-weight: bold\">({</span><span style=\"color: #008000; text-decoration-color: #008000\">'rule_name'</span>: <span style=\"color: #008000; text-decoration-color: #008000\">'Unusual Situations (Charging)'</span>, <span style=\"color: #008000; text-decoration-color: #008000\">'distance'</span>: <span style=\"color: #008080; text-decoration-color: #008080; font-weight: bold\">14.738603747631167</span><span style=\"font-weight: bold\">})</span>,\n",
       "    <span style=\"color: #800080; text-decoration-color: #800080; font-weight: bold\">RealDictRow</span><span style=\"font-weight: bold\">({</span><span style=\"color: #008000; text-decoration-color: #008000\">'rule_name'</span>: <span style=\"color: #008000; text-decoration-color: #008000\">'Resolving Uncertainties'</span>, <span style=\"color: #008000; text-decoration-color: #008000\">'distance'</span>: <span style=\"color: #008080; text-decoration-color: #008080; font-weight: bold\">14.759284766424363</span><span style=\"font-weight: bold\">})</span>,\n",
       "    <span style=\"color: #800080; text-decoration-color: #800080; font-weight: bold\">RealDictRow</span><span style=\"font-weight: bold\">({</span><span style=\"color: #008000; text-decoration-color: #008000\">'rule_name'</span>: <span style=\"color: #008000; text-decoration-color: #008000\">'Disordered Charges'</span>, <span style=\"color: #008000; text-decoration-color: #008000\">'distance'</span>: <span style=\"color: #008080; text-decoration-color: #008080; font-weight: bold\">14.833527524441358</span><span style=\"font-weight: bold\">})</span>,\n",
       "    <span style=\"color: #800080; text-decoration-color: #800080; font-weight: bold\">RealDictRow</span><span style=\"font-weight: bold\">({</span><span style=\"color: #008000; text-decoration-color: #008000\">'rule_name'</span>: <span style=\"color: #008000; text-decoration-color: #008000\">'Who Can Charge?'</span>, <span style=\"color: #008000; text-decoration-color: #008000\">'distance'</span>: <span style=\"color: #008080; text-decoration-color: #008080; font-weight: bold\">14.845497430039604</span><span style=\"font-weight: bold\">})</span>,\n",
       "    <span style=\"color: #800080; text-decoration-color: #800080; font-weight: bold\">RealDictRow</span><span style=\"font-weight: bold\">({</span><span style=\"color: #008000; text-decoration-color: #008000\">'rule_name'</span>: <span style=\"color: #008000; text-decoration-color: #008000\">'Flank &amp; Rear Charges'</span>, <span style=\"color: #008000; text-decoration-color: #008000\">'distance'</span>: <span style=\"color: #008080; text-decoration-color: #008080; font-weight: bold\">14.8855414984852</span><span style=\"font-weight: bold\">})</span>\n",
       "<span style=\"font-weight: bold\">]</span>\n",
       "</pre>\n"
      ],
      "text/plain": [
       "\u001b[1m[\u001b[0m\n",
       "    \u001b[1;35mRealDictRow\u001b[0m\u001b[1m(\u001b[0m\u001b[1m{\u001b[0m\u001b[32m'rule_name'\u001b[0m: \u001b[32m'The Charge Move'\u001b[0m, \u001b[32m'distance'\u001b[0m: \u001b[1;36m13.069721762651453\u001b[0m\u001b[1m}\u001b[0m\u001b[1m)\u001b[0m,\n",
       "    \u001b[1;35mRealDictRow\u001b[0m\u001b[1m(\u001b[0m\u001b[1m{\u001b[0m\u001b[32m'rule_name'\u001b[0m: \u001b[32m'The Charge Move \u001b[0m\u001b[32m(\u001b[0m\u001b[32mIntro\u001b[0m\u001b[32m)\u001b[0m\u001b[32m'\u001b[0m, \u001b[32m'distance'\u001b[0m: \u001b[1;36m13.238372307152169\u001b[0m\u001b[1m}\u001b[0m\u001b[1m)\u001b[0m,\n",
       "    \u001b[1;35mRealDictRow\u001b[0m\u001b[1m(\u001b[0m\u001b[1m{\u001b[0m\u001b[32m'rule_name'\u001b[0m: \u001b[32m'Declare Charges & Charge Reactions'\u001b[0m, \u001b[32m'distance'\u001b[0m: \u001b[1;36m13.890500869453804\u001b[0m\u001b[1m}\u001b[0m\u001b[1m)\u001b[0m,\n",
       "    \u001b[1;35mRealDictRow\u001b[0m\u001b[1m(\u001b[0m\u001b[1m{\u001b[0m\u001b[32m'rule_name'\u001b[0m: \u001b[32m'Charging More than One Unit'\u001b[0m, \u001b[32m'distance'\u001b[0m: \u001b[1;36m13.989492560475858\u001b[0m\u001b[1m}\u001b[0m\u001b[1m)\u001b[0m,\n",
       "    \u001b[1;35mRealDictRow\u001b[0m\u001b[1m(\u001b[0m\u001b[1m{\u001b[0m\u001b[32m'rule_name'\u001b[0m: \u001b[32m'Accidental Contact During a Charge'\u001b[0m, \u001b[32m'distance'\u001b[0m: \u001b[1;36m14.089885985520285\u001b[0m\u001b[1m}\u001b[0m\u001b[1m)\u001b[0m,\n",
       "    \u001b[1;35mRealDictRow\u001b[0m\u001b[1m(\u001b[0m\u001b[1m{\u001b[0m\u001b[32m'rule_name'\u001b[0m: \u001b[32m'Charging Through Terrain'\u001b[0m, \u001b[32m'distance'\u001b[0m: \u001b[1;36m14.110138493323914\u001b[0m\u001b[1m}\u001b[0m\u001b[1m)\u001b[0m,\n",
       "    \u001b[1;35mRealDictRow\u001b[0m\u001b[1m(\u001b[0m\u001b[1m{\u001b[0m\u001b[32m'rule_name'\u001b[0m: \u001b[32m'Manoeuvring During a Charge'\u001b[0m, \u001b[32m'distance'\u001b[0m: \u001b[1;36m14.145107844330292\u001b[0m\u001b[1m}\u001b[0m\u001b[1m)\u001b[0m,\n",
       "    \u001b[1;35mRealDictRow\u001b[0m\u001b[1m(\u001b[0m\u001b[1m{\u001b[0m\u001b[32m'rule_name'\u001b[0m: \u001b[32m'Unable to Align'\u001b[0m, \u001b[32m'distance'\u001b[0m: \u001b[1;36m14.164234326557056\u001b[0m\u001b[1m}\u001b[0m\u001b[1m)\u001b[0m,\n",
       "    \u001b[1;35mRealDictRow\u001b[0m\u001b[1m(\u001b[0m\u001b[1m{\u001b[0m\u001b[32m'rule_name'\u001b[0m: \u001b[32m'Charge Reactions & Multiple Charging Units'\u001b[0m, \u001b[32m'distance'\u001b[0m: \u001b[1;36m14.221697088984152\u001b[0m\u001b[1m}\u001b[0m\u001b[1m)\u001b[0m,\n",
       "    \u001b[1;35mRealDictRow\u001b[0m\u001b[1m(\u001b[0m\u001b[1m{\u001b[0m\u001b[32m'rule_name'\u001b[0m: \u001b[32m'Multiple Charge Targets'\u001b[0m, \u001b[32m'distance'\u001b[0m: \u001b[1;36m14.425002200227302\u001b[0m\u001b[1m}\u001b[0m\u001b[1m)\u001b[0m,\n",
       "    \u001b[1;35mRealDictRow\u001b[0m\u001b[1m(\u001b[0m\u001b[1m{\u001b[0m\u001b[32m'rule_name'\u001b[0m: \u001b[32m'Multiple Charging Units'\u001b[0m, \u001b[32m'distance'\u001b[0m: \u001b[1;36m14.453441719502747\u001b[0m\u001b[1m}\u001b[0m\u001b[1m)\u001b[0m,\n",
       "    \u001b[1;35mRealDictRow\u001b[0m\u001b[1m(\u001b[0m\u001b[1m{\u001b[0m\u001b[32m'rule_name'\u001b[0m: \u001b[32m'Aligning to the Enemy'\u001b[0m, \u001b[32m'distance'\u001b[0m: \u001b[1;36m14.47902820255661\u001b[0m\u001b[1m}\u001b[0m\u001b[1m)\u001b[0m,\n",
       "    \u001b[1;35mRealDictRow\u001b[0m\u001b[1m(\u001b[0m\u001b[1m{\u001b[0m\u001b[32m'rule_name'\u001b[0m: \u001b[32m'Running Down the Foe'\u001b[0m, \u001b[32m'distance'\u001b[0m: \u001b[1;36m14.548411614935086\u001b[0m\u001b[1m}\u001b[0m\u001b[1m)\u001b[0m,\n",
       "    \u001b[1;35mRealDictRow\u001b[0m\u001b[1m(\u001b[0m\u001b[1m{\u001b[0m\u001b[32m'rule_name'\u001b[0m: \u001b[32m'Halting a Charge'\u001b[0m, \u001b[32m'distance'\u001b[0m: \u001b[1;36m14.60165707316216\u001b[0m\u001b[1m}\u001b[0m\u001b[1m)\u001b[0m,\n",
       "    \u001b[1;35mRealDictRow\u001b[0m\u001b[1m(\u001b[0m\u001b[1m{\u001b[0m\u001b[32m'rule_name'\u001b[0m: \u001b[32m'Charging Units'\u001b[0m, \u001b[32m'distance'\u001b[0m: \u001b[1;36m14.731387016426334\u001b[0m\u001b[1m}\u001b[0m\u001b[1m)\u001b[0m,\n",
       "    \u001b[1;35mRealDictRow\u001b[0m\u001b[1m(\u001b[0m\u001b[1m{\u001b[0m\u001b[32m'rule_name'\u001b[0m: \u001b[32m'Unusual Situations \u001b[0m\u001b[32m(\u001b[0m\u001b[32mCharging\u001b[0m\u001b[32m)\u001b[0m\u001b[32m'\u001b[0m, \u001b[32m'distance'\u001b[0m: \u001b[1;36m14.738603747631167\u001b[0m\u001b[1m}\u001b[0m\u001b[1m)\u001b[0m,\n",
       "    \u001b[1;35mRealDictRow\u001b[0m\u001b[1m(\u001b[0m\u001b[1m{\u001b[0m\u001b[32m'rule_name'\u001b[0m: \u001b[32m'Resolving Uncertainties'\u001b[0m, \u001b[32m'distance'\u001b[0m: \u001b[1;36m14.759284766424363\u001b[0m\u001b[1m}\u001b[0m\u001b[1m)\u001b[0m,\n",
       "    \u001b[1;35mRealDictRow\u001b[0m\u001b[1m(\u001b[0m\u001b[1m{\u001b[0m\u001b[32m'rule_name'\u001b[0m: \u001b[32m'Disordered Charges'\u001b[0m, \u001b[32m'distance'\u001b[0m: \u001b[1;36m14.833527524441358\u001b[0m\u001b[1m}\u001b[0m\u001b[1m)\u001b[0m,\n",
       "    \u001b[1;35mRealDictRow\u001b[0m\u001b[1m(\u001b[0m\u001b[1m{\u001b[0m\u001b[32m'rule_name'\u001b[0m: \u001b[32m'Who Can Charge?'\u001b[0m, \u001b[32m'distance'\u001b[0m: \u001b[1;36m14.845497430039604\u001b[0m\u001b[1m}\u001b[0m\u001b[1m)\u001b[0m,\n",
       "    \u001b[1;35mRealDictRow\u001b[0m\u001b[1m(\u001b[0m\u001b[1m{\u001b[0m\u001b[32m'rule_name'\u001b[0m: \u001b[32m'Flank & Rear Charges'\u001b[0m, \u001b[32m'distance'\u001b[0m: \u001b[1;36m14.8855414984852\u001b[0m\u001b[1m}\u001b[0m\u001b[1m)\u001b[0m\n",
       "\u001b[1m]\u001b[0m\n"
      ]
     },
     "metadata": {},
     "output_type": "display_data"
    }
   ],
   "source": [
    "query = \"SELECT rule_name, embedding <-> %s as distance FROM rules ORDER BY distance LIMIT 20\"\n",
    "\n",
    "prompt = \"how to charge a unit?\"\n",
    "cur = conn.cursor(cursor_factory=RealDictCursor)\n",
    "embedding = np.array(ollama.embeddings(model=\"mxbai-embed-large\", prompt=prompt).get(\"embedding\"))\n",
    "cur.execute(query, (embedding,))\n",
    "results=cur.fetchall()\n",
    "print(results)\n"
   ]
  },
  {
   "cell_type": "code",
   "execution_count": 118,
   "metadata": {},
   "outputs": [
    {
     "data": {
      "text/html": [
       "<pre style=\"white-space:pre;overflow-x:auto;line-height:normal;font-family:Menlo,'DejaVu Sans Mono',consolas,'Courier New',monospace\"><span style=\"font-weight: bold\">[</span>\n",
       "    <span style=\"color: #800080; text-decoration-color: #800080; font-weight: bold\">RealDictRow</span><span style=\"font-weight: bold\">({</span><span style=\"color: #008000; text-decoration-color: #008000\">'rule_name'</span>: <span style=\"color: #008000; text-decoration-color: #008000\">'Corporeal Unmaking'</span>, <span style=\"color: #008000; text-decoration-color: #008000\">'distance'</span>: <span style=\"color: #008080; text-decoration-color: #008080; font-weight: bold\">17.289837378139218</span><span style=\"font-weight: bold\">})</span>,\n",
       "    <span style=\"color: #800080; text-decoration-color: #800080; font-weight: bold\">RealDictRow</span><span style=\"font-weight: bold\">({</span><span style=\"color: #008000; text-decoration-color: #008000\">'rule_name'</span>: <span style=\"color: #008000; text-decoration-color: #008000\">'Barding'</span>, <span style=\"color: #008000; text-decoration-color: #008000\">'distance'</span>: <span style=\"color: #008080; text-decoration-color: #008080; font-weight: bold\">17.346115583325222</span><span style=\"font-weight: bold\">})</span>,\n",
       "    <span style=\"color: #800080; text-decoration-color: #800080; font-weight: bold\">RealDictRow</span><span style=\"font-weight: bold\">({</span><span style=\"color: #008000; text-decoration-color: #008000\">'rule_name'</span>: <span style=\"color: #008000; text-decoration-color: #008000\">'Morning Star'</span>, <span style=\"color: #008000; text-decoration-color: #008000\">'distance'</span>: <span style=\"color: #008080; text-decoration-color: #008080; font-weight: bold\">17.366536446130116</span><span style=\"font-weight: bold\">})</span>,\n",
       "    <span style=\"color: #800080; text-decoration-color: #800080; font-weight: bold\">RealDictRow</span><span style=\"font-weight: bold\">({</span><span style=\"color: #008000; text-decoration-color: #008000\">'rule_name'</span>: <span style=\"color: #008000; text-decoration-color: #008000\">'Unquiet Spirits'</span>, <span style=\"color: #008000; text-decoration-color: #008000\">'distance'</span>: <span style=\"color: #008080; text-decoration-color: #008080; font-weight: bold\">17.40040542305606</span><span style=\"font-weight: bold\">})</span>,\n",
       "    <span style=\"color: #800080; text-decoration-color: #800080; font-weight: bold\">RealDictRow</span><span style=\"font-weight: bold\">({</span><span style=\"color: #008000; text-decoration-color: #008000\">'rule_name'</span>: <span style=\"color: #008000; text-decoration-color: #008000\">'Resolving Uncertainties'</span>, <span style=\"color: #008000; text-decoration-color: #008000\">'distance'</span>: <span style=\"color: #008080; text-decoration-color: #008080; font-weight: bold\">17.5100260760398</span><span style=\"font-weight: bold\">})</span>,\n",
       "    <span style=\"color: #800080; text-decoration-color: #800080; font-weight: bold\">RealDictRow</span><span style=\"font-weight: bold\">({</span><span style=\"color: #008000; text-decoration-color: #008000\">'rule_name'</span>: <span style=\"color: #008000; text-decoration-color: #008000\">'Lone Models'</span>, <span style=\"color: #008000; text-decoration-color: #008000\">'distance'</span>: <span style=\"color: #008080; text-decoration-color: #008080; font-weight: bold\">17.645923937039875</span><span style=\"font-weight: bold\">})</span>,\n",
       "    <span style=\"color: #800080; text-decoration-color: #800080; font-weight: bold\">RealDictRow</span><span style=\"font-weight: bold\">({</span><span style=\"color: #008000; text-decoration-color: #008000\">'rule_name'</span>: <span style=\"color: #008000; text-decoration-color: #008000\">'Suspicious Allied Contingents'</span>, <span style=\"color: #008000; text-decoration-color: #008000\">'distance'</span>: <span style=\"color: #008080; text-decoration-color: #008080; font-weight: bold\">17.646030297319175</span><span style=\"font-weight: bold\">})</span>,\n",
       "    <span style=\"color: #800080; text-decoration-color: #800080; font-weight: bold\">RealDictRow</span><span style=\"font-weight: bold\">({</span><span style=\"color: #008000; text-decoration-color: #008000\">'rule_name'</span>: <span style=\"color: #008000; text-decoration-color: #008000\">'Fiery Convocation'</span>, <span style=\"color: #008000; text-decoration-color: #008000\">'distance'</span>: <span style=\"color: #008080; text-decoration-color: #008080; font-weight: bold\">17.65670197845168</span><span style=\"font-weight: bold\">})</span>,\n",
       "    <span style=\"color: #800080; text-decoration-color: #800080; font-weight: bold\">RealDictRow</span><span style=\"font-weight: bold\">({</span><span style=\"color: #008000; text-decoration-color: #008000\">'rule_name'</span>: <span style=\"color: #008000; text-decoration-color: #008000\">'Initiative (I)'</span>, <span style=\"color: #008000; text-decoration-color: #008000\">'distance'</span>: <span style=\"color: #008080; text-decoration-color: #008080; font-weight: bold\">17.669795688900876</span><span style=\"font-weight: bold\">})</span>,\n",
       "    <span style=\"color: #800080; text-decoration-color: #800080; font-weight: bold\">RealDictRow</span><span style=\"font-weight: bold\">({</span><span style=\"color: #008000; text-decoration-color: #008000\">'rule_name'</span>: <span style=\"color: #008000; text-decoration-color: #008000\">'The Games Master'</span>, <span style=\"color: #008000; text-decoration-color: #008000\">'distance'</span>: <span style=\"color: #008080; text-decoration-color: #008080; font-weight: bold\">17.67895560239366</span><span style=\"font-weight: bold\">})</span>,\n",
       "    <span style=\"color: #800080; text-decoration-color: #800080; font-weight: bold\">RealDictRow</span><span style=\"font-weight: bold\">({</span><span style=\"color: #008000; text-decoration-color: #008000\">'rule_name'</span>: <span style=\"color: #008000; text-decoration-color: #008000\">'Spirit Leech'</span>, <span style=\"color: #008000; text-decoration-color: #008000\">'distance'</span>: <span style=\"color: #008080; text-decoration-color: #008080; font-weight: bold\">17.679840262541525</span><span style=\"font-weight: bold\">})</span>,\n",
       "    <span style=\"color: #800080; text-decoration-color: #800080; font-weight: bold\">RealDictRow</span><span style=\"font-weight: bold\">({</span><span style=\"color: #008000; text-decoration-color: #008000\">'rule_name'</span>: <span style=\"color: #008000; text-decoration-color: #008000\">'Redress the Ranks'</span>, <span style=\"color: #008000; text-decoration-color: #008000\">'distance'</span>: <span style=\"color: #008080; text-decoration-color: #008080; font-weight: bold\">17.691159142814985</span><span style=\"font-weight: bold\">})</span>,\n",
       "    <span style=\"color: #800080; text-decoration-color: #800080; font-weight: bold\">RealDictRow</span><span style=\"font-weight: bold\">({</span><span style=\"color: #008000; text-decoration-color: #008000\">'rule_name'</span>: <span style=\"color: #008000; text-decoration-color: #008000\">'Travel Mystical Pathway'</span>, <span style=\"color: #008000; text-decoration-color: #008000\">'distance'</span>: <span style=\"color: #008080; text-decoration-color: #008080; font-weight: bold\">17.73839178767034</span><span style=\"font-weight: bold\">})</span>,\n",
       "    <span style=\"color: #800080; text-decoration-color: #800080; font-weight: bold\">RealDictRow</span><span style=\"font-weight: bold\">({</span><span style=\"color: #008000; text-decoration-color: #008000\">'rule_name'</span>: <span style=\"color: #008000; text-decoration-color: #008000\">'Howdah'</span>, <span style=\"color: #008000; text-decoration-color: #008000\">'distance'</span>: <span style=\"color: #008080; text-decoration-color: #008080; font-weight: bold\">17.759774109374693</span><span style=\"font-weight: bold\">})</span>,\n",
       "    <span style=\"color: #800080; text-decoration-color: #800080; font-weight: bold\">RealDictRow</span><span style=\"font-weight: bold\">({</span><span style=\"color: #008000; text-decoration-color: #008000\">'rule_name'</span>: <span style=\"color: #008000; text-decoration-color: #008000\">'The Role of a GM'</span>, <span style=\"color: #008000; text-decoration-color: #008000\">'distance'</span>: <span style=\"color: #008080; text-decoration-color: #008080; font-weight: bold\">17.777795653864032</span><span style=\"font-weight: bold\">})</span>,\n",
       "    <span style=\"color: #800080; text-decoration-color: #800080; font-weight: bold\">RealDictRow</span><span style=\"font-weight: bold\">({</span><span style=\"color: #008000; text-decoration-color: #008000\">'rule_name'</span>: <span style=\"color: #008000; text-decoration-color: #008000\">'Mind Razor'</span>, <span style=\"color: #008000; text-decoration-color: #008000\">'distance'</span>: <span style=\"color: #008080; text-decoration-color: #008080; font-weight: bold\">17.782721647964475</span><span style=\"font-weight: bold\">})</span>,\n",
       "    <span style=\"color: #800080; text-decoration-color: #800080; font-weight: bold\">RealDictRow</span><span style=\"font-weight: bold\">({</span><span style=\"color: #008000; text-decoration-color: #008000\">'rule_name'</span>: <span style=\"color: #008000; text-decoration-color: #008000\">'Talismans'</span>, <span style=\"color: #008000; text-decoration-color: #008000\">'distance'</span>: <span style=\"color: #008080; text-decoration-color: #008080; font-weight: bold\">17.79773750927962</span><span style=\"font-weight: bold\">})</span>,\n",
       "    <span style=\"color: #800080; text-decoration-color: #800080; font-weight: bold\">RealDictRow</span><span style=\"font-weight: bold\">({</span><span style=\"color: #008000; text-decoration-color: #008000\">'rule_name'</span>: <span style=\"color: #008000; text-decoration-color: #008000\">'Halberd'</span>, <span style=\"color: #008000; text-decoration-color: #008000\">'distance'</span>: <span style=\"color: #008080; text-decoration-color: #008080; font-weight: bold\">17.823010365432886</span><span style=\"font-weight: bold\">})</span>,\n",
       "    <span style=\"color: #800080; text-decoration-color: #800080; font-weight: bold\">RealDictRow</span><span style=\"font-weight: bold\">({</span><span style=\"color: #008000; text-decoration-color: #008000\">'rule_name'</span>: <span style=\"color: #008000; text-decoration-color: #008000\">'Occupancy'</span>, <span style=\"color: #008000; text-decoration-color: #008000\">'distance'</span>: <span style=\"color: #008080; text-decoration-color: #008080; font-weight: bold\">17.829572239407046</span><span style=\"font-weight: bold\">})</span>,\n",
       "    <span style=\"color: #800080; text-decoration-color: #800080; font-weight: bold\">RealDictRow</span><span style=\"font-weight: bold\">({</span><span style=\"color: #008000; text-decoration-color: #008000\">'rule_name'</span>: <span style=\"color: #008000; text-decoration-color: #008000\">'Summon Elemental Spirit'</span>, <span style=\"color: #008000; text-decoration-color: #008000\">'distance'</span>: <span style=\"color: #008080; text-decoration-color: #008080; font-weight: bold\">17.84733093993854</span><span style=\"font-weight: bold\">})</span>\n",
       "<span style=\"font-weight: bold\">]</span>\n",
       "</pre>\n"
      ],
      "text/plain": [
       "\u001b[1m[\u001b[0m\n",
       "    \u001b[1;35mRealDictRow\u001b[0m\u001b[1m(\u001b[0m\u001b[1m{\u001b[0m\u001b[32m'rule_name'\u001b[0m: \u001b[32m'Corporeal Unmaking'\u001b[0m, \u001b[32m'distance'\u001b[0m: \u001b[1;36m17.289837378139218\u001b[0m\u001b[1m}\u001b[0m\u001b[1m)\u001b[0m,\n",
       "    \u001b[1;35mRealDictRow\u001b[0m\u001b[1m(\u001b[0m\u001b[1m{\u001b[0m\u001b[32m'rule_name'\u001b[0m: \u001b[32m'Barding'\u001b[0m, \u001b[32m'distance'\u001b[0m: \u001b[1;36m17.346115583325222\u001b[0m\u001b[1m}\u001b[0m\u001b[1m)\u001b[0m,\n",
       "    \u001b[1;35mRealDictRow\u001b[0m\u001b[1m(\u001b[0m\u001b[1m{\u001b[0m\u001b[32m'rule_name'\u001b[0m: \u001b[32m'Morning Star'\u001b[0m, \u001b[32m'distance'\u001b[0m: \u001b[1;36m17.366536446130116\u001b[0m\u001b[1m}\u001b[0m\u001b[1m)\u001b[0m,\n",
       "    \u001b[1;35mRealDictRow\u001b[0m\u001b[1m(\u001b[0m\u001b[1m{\u001b[0m\u001b[32m'rule_name'\u001b[0m: \u001b[32m'Unquiet Spirits'\u001b[0m, \u001b[32m'distance'\u001b[0m: \u001b[1;36m17.40040542305606\u001b[0m\u001b[1m}\u001b[0m\u001b[1m)\u001b[0m,\n",
       "    \u001b[1;35mRealDictRow\u001b[0m\u001b[1m(\u001b[0m\u001b[1m{\u001b[0m\u001b[32m'rule_name'\u001b[0m: \u001b[32m'Resolving Uncertainties'\u001b[0m, \u001b[32m'distance'\u001b[0m: \u001b[1;36m17.5100260760398\u001b[0m\u001b[1m}\u001b[0m\u001b[1m)\u001b[0m,\n",
       "    \u001b[1;35mRealDictRow\u001b[0m\u001b[1m(\u001b[0m\u001b[1m{\u001b[0m\u001b[32m'rule_name'\u001b[0m: \u001b[32m'Lone Models'\u001b[0m, \u001b[32m'distance'\u001b[0m: \u001b[1;36m17.645923937039875\u001b[0m\u001b[1m}\u001b[0m\u001b[1m)\u001b[0m,\n",
       "    \u001b[1;35mRealDictRow\u001b[0m\u001b[1m(\u001b[0m\u001b[1m{\u001b[0m\u001b[32m'rule_name'\u001b[0m: \u001b[32m'Suspicious Allied Contingents'\u001b[0m, \u001b[32m'distance'\u001b[0m: \u001b[1;36m17.646030297319175\u001b[0m\u001b[1m}\u001b[0m\u001b[1m)\u001b[0m,\n",
       "    \u001b[1;35mRealDictRow\u001b[0m\u001b[1m(\u001b[0m\u001b[1m{\u001b[0m\u001b[32m'rule_name'\u001b[0m: \u001b[32m'Fiery Convocation'\u001b[0m, \u001b[32m'distance'\u001b[0m: \u001b[1;36m17.65670197845168\u001b[0m\u001b[1m}\u001b[0m\u001b[1m)\u001b[0m,\n",
       "    \u001b[1;35mRealDictRow\u001b[0m\u001b[1m(\u001b[0m\u001b[1m{\u001b[0m\u001b[32m'rule_name'\u001b[0m: \u001b[32m'Initiative \u001b[0m\u001b[32m(\u001b[0m\u001b[32mI\u001b[0m\u001b[32m)\u001b[0m\u001b[32m'\u001b[0m, \u001b[32m'distance'\u001b[0m: \u001b[1;36m17.669795688900876\u001b[0m\u001b[1m}\u001b[0m\u001b[1m)\u001b[0m,\n",
       "    \u001b[1;35mRealDictRow\u001b[0m\u001b[1m(\u001b[0m\u001b[1m{\u001b[0m\u001b[32m'rule_name'\u001b[0m: \u001b[32m'The Games Master'\u001b[0m, \u001b[32m'distance'\u001b[0m: \u001b[1;36m17.67895560239366\u001b[0m\u001b[1m}\u001b[0m\u001b[1m)\u001b[0m,\n",
       "    \u001b[1;35mRealDictRow\u001b[0m\u001b[1m(\u001b[0m\u001b[1m{\u001b[0m\u001b[32m'rule_name'\u001b[0m: \u001b[32m'Spirit Leech'\u001b[0m, \u001b[32m'distance'\u001b[0m: \u001b[1;36m17.679840262541525\u001b[0m\u001b[1m}\u001b[0m\u001b[1m)\u001b[0m,\n",
       "    \u001b[1;35mRealDictRow\u001b[0m\u001b[1m(\u001b[0m\u001b[1m{\u001b[0m\u001b[32m'rule_name'\u001b[0m: \u001b[32m'Redress the Ranks'\u001b[0m, \u001b[32m'distance'\u001b[0m: \u001b[1;36m17.691159142814985\u001b[0m\u001b[1m}\u001b[0m\u001b[1m)\u001b[0m,\n",
       "    \u001b[1;35mRealDictRow\u001b[0m\u001b[1m(\u001b[0m\u001b[1m{\u001b[0m\u001b[32m'rule_name'\u001b[0m: \u001b[32m'Travel Mystical Pathway'\u001b[0m, \u001b[32m'distance'\u001b[0m: \u001b[1;36m17.73839178767034\u001b[0m\u001b[1m}\u001b[0m\u001b[1m)\u001b[0m,\n",
       "    \u001b[1;35mRealDictRow\u001b[0m\u001b[1m(\u001b[0m\u001b[1m{\u001b[0m\u001b[32m'rule_name'\u001b[0m: \u001b[32m'Howdah'\u001b[0m, \u001b[32m'distance'\u001b[0m: \u001b[1;36m17.759774109374693\u001b[0m\u001b[1m}\u001b[0m\u001b[1m)\u001b[0m,\n",
       "    \u001b[1;35mRealDictRow\u001b[0m\u001b[1m(\u001b[0m\u001b[1m{\u001b[0m\u001b[32m'rule_name'\u001b[0m: \u001b[32m'The Role of a GM'\u001b[0m, \u001b[32m'distance'\u001b[0m: \u001b[1;36m17.777795653864032\u001b[0m\u001b[1m}\u001b[0m\u001b[1m)\u001b[0m,\n",
       "    \u001b[1;35mRealDictRow\u001b[0m\u001b[1m(\u001b[0m\u001b[1m{\u001b[0m\u001b[32m'rule_name'\u001b[0m: \u001b[32m'Mind Razor'\u001b[0m, \u001b[32m'distance'\u001b[0m: \u001b[1;36m17.782721647964475\u001b[0m\u001b[1m}\u001b[0m\u001b[1m)\u001b[0m,\n",
       "    \u001b[1;35mRealDictRow\u001b[0m\u001b[1m(\u001b[0m\u001b[1m{\u001b[0m\u001b[32m'rule_name'\u001b[0m: \u001b[32m'Talismans'\u001b[0m, \u001b[32m'distance'\u001b[0m: \u001b[1;36m17.79773750927962\u001b[0m\u001b[1m}\u001b[0m\u001b[1m)\u001b[0m,\n",
       "    \u001b[1;35mRealDictRow\u001b[0m\u001b[1m(\u001b[0m\u001b[1m{\u001b[0m\u001b[32m'rule_name'\u001b[0m: \u001b[32m'Halberd'\u001b[0m, \u001b[32m'distance'\u001b[0m: \u001b[1;36m17.823010365432886\u001b[0m\u001b[1m}\u001b[0m\u001b[1m)\u001b[0m,\n",
       "    \u001b[1;35mRealDictRow\u001b[0m\u001b[1m(\u001b[0m\u001b[1m{\u001b[0m\u001b[32m'rule_name'\u001b[0m: \u001b[32m'Occupancy'\u001b[0m, \u001b[32m'distance'\u001b[0m: \u001b[1;36m17.829572239407046\u001b[0m\u001b[1m}\u001b[0m\u001b[1m)\u001b[0m,\n",
       "    \u001b[1;35mRealDictRow\u001b[0m\u001b[1m(\u001b[0m\u001b[1m{\u001b[0m\u001b[32m'rule_name'\u001b[0m: \u001b[32m'Summon Elemental Spirit'\u001b[0m, \u001b[32m'distance'\u001b[0m: \u001b[1;36m17.84733093993854\u001b[0m\u001b[1m}\u001b[0m\u001b[1m)\u001b[0m\n",
       "\u001b[1m]\u001b[0m\n"
      ]
     },
     "metadata": {},
     "output_type": "display_data"
    }
   ],
   "source": [
    "query = \"SELECT rule_name, embedding <-> %s as distance FROM rules ORDER BY distance LIMIT 20\"\n",
    "\n",
    "prompt = \"what is an asrai?\"\n",
    "cur = conn.cursor(cursor_factory=RealDictCursor)\n",
    "embedding = np.array(ollama.embeddings(model=\"mxbai-embed-large\", prompt=prompt).get(\"embedding\"))\n",
    "cur.execute(query, (embedding,))\n",
    "results=cur.fetchall()\n",
    "print(results)"
   ]
  },
  {
   "cell_type": "markdown",
   "metadata": {},
   "source": [
    "# Comparison with embeddings using full text search"
   ]
  },
  {
   "cell_type": "code",
   "execution_count": 122,
   "metadata": {},
   "outputs": [
    {
     "data": {
      "text/html": [
       "<pre style=\"white-space:pre;overflow-x:auto;line-height:normal;font-family:Menlo,'DejaVu Sans Mono',consolas,'Courier New',monospace\"><span style=\"font-weight: bold\">[]</span>\n",
       "</pre>\n"
      ],
      "text/plain": [
       "\u001b[1m[\u001b[0m\u001b[1m]\u001b[0m\n"
      ]
     },
     "metadata": {},
     "output_type": "display_data"
    }
   ],
   "source": [
    "query = \"\"\"\n",
    "    SELECT rule_name, ts_rank_cd(to_tsvector('english', rule_description), query) as rank FROM rules, plainto_tsquery('english', %(prompt)s) query\n",
    "    WHERE to_tsvector('english', rule_description) @@ query\n",
    "    ORDER BY rank\n",
    "    DESC LIMIT 20\n",
    "    \"\"\"\n",
    "\n",
    "prompt = \"what is an asrai?\"\n",
    "cur = conn.cursor(cursor_factory=RealDictCursor)\n",
    "embedding = np.array(ollama.embeddings(model=\"mxbai-embed-large\", prompt=prompt).get(\"embedding\"))\n",
    "cur.execute(query, {\"prompt\": prompt})\n",
    "results=cur.fetchall()\n",
    "print(results)\n"
   ]
  },
  {
   "cell_type": "code",
   "execution_count": 123,
   "metadata": {},
   "outputs": [
    {
     "data": {
      "text/html": [
       "<pre style=\"white-space:pre;overflow-x:auto;line-height:normal;font-family:Menlo,'DejaVu Sans Mono',consolas,'Courier New',monospace\"><span style=\"font-weight: bold\">[</span>\n",
       "    <span style=\"color: #800080; text-decoration-color: #800080; font-weight: bold\">RealDictRow</span><span style=\"font-weight: bold\">({</span><span style=\"color: #008000; text-decoration-color: #008000\">'rule_name'</span>: <span style=\"color: #008000; text-decoration-color: #008000\">'Lance'</span>, <span style=\"color: #008000; text-decoration-color: #008000\">'rank'</span>: <span style=\"color: #008080; text-decoration-color: #008080; font-weight: bold\">0.6</span><span style=\"font-weight: bold\">})</span>,\n",
       "    <span style=\"color: #800080; text-decoration-color: #800080; font-weight: bold\">RealDictRow</span><span style=\"font-weight: bold\">({</span><span style=\"color: #008000; text-decoration-color: #008000\">'rule_name'</span>: <span style=\"color: #008000; text-decoration-color: #008000\">'Cavalry Spear'</span>, <span style=\"color: #008000; text-decoration-color: #008000\">'rank'</span>: <span style=\"color: #008080; text-decoration-color: #008080; font-weight: bold\">0.2</span><span style=\"font-weight: bold\">})</span>,\n",
       "    <span style=\"color: #800080; text-decoration-color: #800080; font-weight: bold\">RealDictRow</span><span style=\"font-weight: bold\">({</span><span style=\"color: #008000; text-decoration-color: #008000\">'rule_name'</span>: <span style=\"color: #008000; text-decoration-color: #008000\">'More than One Combat Weapon'</span>, <span style=\"color: #008000; text-decoration-color: #008000\">'rank'</span>: <span style=\"color: #008080; text-decoration-color: #008080; font-weight: bold\">0.1</span><span style=\"font-weight: bold\">})</span>\n",
       "<span style=\"font-weight: bold\">]</span>\n",
       "</pre>\n"
      ],
      "text/plain": [
       "\u001b[1m[\u001b[0m\n",
       "    \u001b[1;35mRealDictRow\u001b[0m\u001b[1m(\u001b[0m\u001b[1m{\u001b[0m\u001b[32m'rule_name'\u001b[0m: \u001b[32m'Lance'\u001b[0m, \u001b[32m'rank'\u001b[0m: \u001b[1;36m0.6\u001b[0m\u001b[1m}\u001b[0m\u001b[1m)\u001b[0m,\n",
       "    \u001b[1;35mRealDictRow\u001b[0m\u001b[1m(\u001b[0m\u001b[1m{\u001b[0m\u001b[32m'rule_name'\u001b[0m: \u001b[32m'Cavalry Spear'\u001b[0m, \u001b[32m'rank'\u001b[0m: \u001b[1;36m0.2\u001b[0m\u001b[1m}\u001b[0m\u001b[1m)\u001b[0m,\n",
       "    \u001b[1;35mRealDictRow\u001b[0m\u001b[1m(\u001b[0m\u001b[1m{\u001b[0m\u001b[32m'rule_name'\u001b[0m: \u001b[32m'More than One Combat Weapon'\u001b[0m, \u001b[32m'rank'\u001b[0m: \u001b[1;36m0.1\u001b[0m\u001b[1m}\u001b[0m\u001b[1m)\u001b[0m\n",
       "\u001b[1m]\u001b[0m\n"
      ]
     },
     "metadata": {},
     "output_type": "display_data"
    }
   ],
   "source": [
    "query = \"\"\"\n",
    "    SELECT rule_name, ts_rank_cd(to_tsvector('english', rule_description), query) as rank FROM rules, plainto_tsquery('english', %(prompt)s) query\n",
    "    WHERE to_tsvector('english', rule_description) @@ query\n",
    "    ORDER BY rank\n",
    "    DESC LIMIT 20\n",
    "    \"\"\"\n",
    "\n",
    "prompt = \"lance\"\n",
    "cur = conn.cursor(cursor_factory=RealDictCursor)\n",
    "embedding = np.array(ollama.embeddings(model=\"mxbai-embed-large\", prompt=prompt).get(\"embedding\"))\n",
    "cur.execute(query, {\"prompt\": prompt})\n",
    "results=cur.fetchall()\n",
    "print(results)"
   ]
  },
  {
   "cell_type": "code",
   "execution_count": 138,
   "metadata": {},
   "outputs": [
    {
     "data": {
      "text/html": [
       "<pre style=\"white-space:pre;overflow-x:auto;line-height:normal;font-family:Menlo,'DejaVu Sans Mono',consolas,'Courier New',monospace\"><span style=\"font-weight: bold\">[</span>\n",
       "    <span style=\"color: #800080; text-decoration-color: #800080; font-weight: bold\">RealDictRow</span><span style=\"font-weight: bold\">({</span><span style=\"color: #008000; text-decoration-color: #008000\">'rule'</span>: <span style=\"color: #008000; text-decoration-color: #008000\">'Killing Blow'</span>, <span style=\"color: #008000; text-decoration-color: #008000\">'rank'</span>: <span style=\"color: #800080; text-decoration-color: #800080; font-weight: bold\">Decimal</span><span style=\"font-weight: bold\">(</span><span style=\"color: #008000; text-decoration-color: #008000\">'0.01639344262295081967'</span><span style=\"font-weight: bold\">)})</span>,\n",
       "    <span style=\"color: #800080; text-decoration-color: #800080; font-weight: bold\">RealDictRow</span><span style=\"font-weight: bold\">({</span><span style=\"color: #008000; text-decoration-color: #008000\">'rule'</span>: <span style=\"color: #008000; text-decoration-color: #008000\">'Monster Slayer'</span>, <span style=\"color: #008000; text-decoration-color: #008000\">'rank'</span>: <span style=\"color: #800080; text-decoration-color: #800080; font-weight: bold\">Decimal</span><span style=\"font-weight: bold\">(</span><span style=\"color: #008000; text-decoration-color: #008000\">'0.01612903225806451613'</span><span style=\"font-weight: bold\">)})</span>,\n",
       "    <span style=\"color: #800080; text-decoration-color: #800080; font-weight: bold\">RealDictRow</span><span style=\"font-weight: bold\">({</span><span style=\"color: #008000; text-decoration-color: #008000\">'rule'</span>: <span style=\"color: #008000; text-decoration-color: #008000\">'Unquiet Spirits'</span>, <span style=\"color: #008000; text-decoration-color: #008000\">'rank'</span>: <span style=\"color: #800080; text-decoration-color: #800080; font-weight: bold\">Decimal</span><span style=\"font-weight: bold\">(</span><span style=\"color: #008000; text-decoration-color: #008000\">'0.01587301587301587302'</span><span style=\"font-weight: bold\">)})</span>,\n",
       "    <span style=\"color: #800080; text-decoration-color: #800080; font-weight: bold\">RealDictRow</span><span style=\"font-weight: bold\">({</span><span style=\"color: #008000; text-decoration-color: #008000\">'rule'</span>: <span style=\"color: #008000; text-decoration-color: #008000\">'Walk Between Worlds'</span>, <span style=\"color: #008000; text-decoration-color: #008000\">'rank'</span>: <span style=\"color: #800080; text-decoration-color: #800080; font-weight: bold\">Decimal</span><span style=\"font-weight: bold\">(</span><span style=\"color: #008000; text-decoration-color: #008000\">'0.01562500000000000000'</span><span style=\"font-weight: bold\">)})</span>,\n",
       "    <span style=\"color: #800080; text-decoration-color: #800080; font-weight: bold\">RealDictRow</span><span style=\"font-weight: bold\">({</span><span style=\"color: #008000; text-decoration-color: #008000\">'rule'</span>: <span style=\"color: #008000; text-decoration-color: #008000\">'Initiative (I)'</span>, <span style=\"color: #008000; text-decoration-color: #008000\">'rank'</span>: <span style=\"color: #800080; text-decoration-color: #800080; font-weight: bold\">Decimal</span><span style=\"font-weight: bold\">(</span><span style=\"color: #008000; text-decoration-color: #008000\">'0.01538461538461538462'</span><span style=\"font-weight: bold\">)})</span>,\n",
       "    <span style=\"color: #800080; text-decoration-color: #800080; font-weight: bold\">RealDictRow</span><span style=\"font-weight: bold\">({</span><span style=\"color: #008000; text-decoration-color: #008000\">'rule'</span>: <span style=\"color: #008000; text-decoration-color: #008000\">'Vanguard'</span>, <span style=\"color: #008000; text-decoration-color: #008000\">'rank'</span>: <span style=\"color: #800080; text-decoration-color: #800080; font-weight: bold\">Decimal</span><span style=\"font-weight: bold\">(</span><span style=\"color: #008000; text-decoration-color: #008000\">'0.01515151515151515152'</span><span style=\"font-weight: bold\">)})</span>,\n",
       "    <span style=\"color: #800080; text-decoration-color: #800080; font-weight: bold\">RealDictRow</span><span style=\"font-weight: bold\">({</span><span style=\"color: #008000; text-decoration-color: #008000\">'rule'</span>: <span style=\"color: #008000; text-decoration-color: #008000\">'Wind Blast'</span>, <span style=\"color: #008000; text-decoration-color: #008000\">'rank'</span>: <span style=\"color: #800080; text-decoration-color: #800080; font-weight: bold\">Decimal</span><span style=\"font-weight: bold\">(</span><span style=\"color: #008000; text-decoration-color: #008000\">'0.01492537313432835821'</span><span style=\"font-weight: bold\">)})</span>,\n",
       "    <span style=\"color: #800080; text-decoration-color: #800080; font-weight: bold\">RealDictRow</span><span style=\"font-weight: bold\">({</span><span style=\"color: #008000; text-decoration-color: #008000\">'rule'</span>: <span style=\"color: #008000; text-decoration-color: #008000\">'Attacks (A)'</span>, <span style=\"color: #008000; text-decoration-color: #008000\">'rank'</span>: <span style=\"color: #800080; text-decoration-color: #800080; font-weight: bold\">Decimal</span><span style=\"font-weight: bold\">(</span><span style=\"color: #008000; text-decoration-color: #008000\">'0.01470588235294117647'</span><span style=\"font-weight: bold\">)})</span>,\n",
       "    <span style=\"color: #800080; text-decoration-color: #800080; font-weight: bold\">RealDictRow</span><span style=\"font-weight: bold\">({</span><span style=\"color: #008000; text-decoration-color: #008000\">'rule'</span>: <span style=\"color: #008000; text-decoration-color: #008000\">'Combat Result Table'</span>, <span style=\"color: #008000; text-decoration-color: #008000\">'rank'</span>: <span style=\"color: #800080; text-decoration-color: #800080; font-weight: bold\">Decimal</span><span style=\"font-weight: bold\">(</span><span style=\"color: #008000; text-decoration-color: #008000\">'0.01449275362318840580'</span><span style=\"font-weight: bold\">)})</span>,\n",
       "    <span style=\"color: #800080; text-decoration-color: #800080; font-weight: bold\">RealDictRow</span><span style=\"font-weight: bold\">({</span><span style=\"color: #008000; text-decoration-color: #008000\">'rule'</span>: <span style=\"color: #008000; text-decoration-color: #008000\">'Unbreakable'</span>, <span style=\"color: #008000; text-decoration-color: #008000\">'rank'</span>: <span style=\"color: #800080; text-decoration-color: #800080; font-weight: bold\">Decimal</span><span style=\"font-weight: bold\">(</span><span style=\"color: #008000; text-decoration-color: #008000\">'0.01428571428571428571'</span><span style=\"font-weight: bold\">)})</span>,\n",
       "    <span style=\"color: #800080; text-decoration-color: #800080; font-weight: bold\">RealDictRow</span><span style=\"font-weight: bold\">({</span><span style=\"color: #008000; text-decoration-color: #008000\">'rule'</span>: <span style=\"color: #008000; text-decoration-color: #008000\">'Fiery Convocation'</span>, <span style=\"color: #008000; text-decoration-color: #008000\">'rank'</span>: <span style=\"color: #800080; text-decoration-color: #800080; font-weight: bold\">Decimal</span><span style=\"font-weight: bold\">(</span><span style=\"color: #008000; text-decoration-color: #008000\">'0.01408450704225352113'</span><span style=\"font-weight: bold\">)})</span>,\n",
       "    <span style=\"color: #800080; text-decoration-color: #800080; font-weight: bold\">RealDictRow</span><span style=\"font-weight: bold\">({</span><span style=\"color: #008000; text-decoration-color: #008000\">'rule'</span>: <span style=\"color: #008000; text-decoration-color: #008000\">'Inspiring Presence'</span>, <span style=\"color: #008000; text-decoration-color: #008000\">'rank'</span>: <span style=\"color: #800080; text-decoration-color: #800080; font-weight: bold\">Decimal</span><span style=\"font-weight: bold\">(</span><span style=\"color: #008000; text-decoration-color: #008000\">'0.01388888888888888889'</span><span style=\"font-weight: bold\">)})</span>,\n",
       "    <span style=\"color: #800080; text-decoration-color: #800080; font-weight: bold\">RealDictRow</span><span style=\"font-weight: bold\">({</span><span style=\"color: #008000; text-decoration-color: #008000\">'rule'</span>: <span style=\"color: #008000; text-decoration-color: #008000\">'Corporeal Unmaking'</span>, <span style=\"color: #008000; text-decoration-color: #008000\">'rank'</span>: <span style=\"color: #800080; text-decoration-color: #800080; font-weight: bold\">Decimal</span><span style=\"font-weight: bold\">(</span><span style=\"color: #008000; text-decoration-color: #008000\">'0.01369863013698630137'</span><span style=\"font-weight: bold\">)})</span>,\n",
       "    <span style=\"color: #800080; text-decoration-color: #800080; font-weight: bold\">RealDictRow</span><span style=\"font-weight: bold\">({</span><span style=\"color: #008000; text-decoration-color: #008000\">'rule'</span>: <span style=\"color: #008000; text-decoration-color: #008000\">'Loner'</span>, <span style=\"color: #008000; text-decoration-color: #008000\">'rank'</span>: <span style=\"color: #800080; text-decoration-color: #800080; font-weight: bold\">Decimal</span><span style=\"font-weight: bold\">(</span><span style=\"color: #008000; text-decoration-color: #008000\">'0.01351351351351351351'</span><span style=\"font-weight: bold\">)})</span>,\n",
       "    <span style=\"color: #800080; text-decoration-color: #800080; font-weight: bold\">RealDictRow</span><span style=\"font-weight: bold\">({</span><span style=\"color: #008000; text-decoration-color: #008000\">'rule'</span>: <span style=\"color: #008000; text-decoration-color: #008000\">'Highly Manoeuvrable'</span>, <span style=\"color: #008000; text-decoration-color: #008000\">'rank'</span>: <span style=\"color: #800080; text-decoration-color: #800080; font-weight: bold\">Decimal</span><span style=\"font-weight: bold\">(</span><span style=\"color: #008000; text-decoration-color: #008000\">'0.01333333333333333333'</span><span style=\"font-weight: bold\">)})</span>,\n",
       "    <span style=\"color: #800080; text-decoration-color: #800080; font-weight: bold\">RealDictRow</span><span style=\"font-weight: bold\">({</span><span style=\"color: #008000; text-decoration-color: #008000\">'rule'</span>: <span style=\"color: #008000; text-decoration-color: #008000\">'Strike Last'</span>, <span style=\"color: #008000; text-decoration-color: #008000\">'rank'</span>: <span style=\"color: #800080; text-decoration-color: #800080; font-weight: bold\">Decimal</span><span style=\"font-weight: bold\">(</span><span style=\"color: #008000; text-decoration-color: #008000\">'0.01315789473684210526'</span><span style=\"font-weight: bold\">)})</span>,\n",
       "    <span style=\"color: #800080; text-decoration-color: #800080; font-weight: bold\">RealDictRow</span><span style=\"font-weight: bold\">({</span><span style=\"color: #008000; text-decoration-color: #008000\">'rule'</span>: <span style=\"color: #008000; text-decoration-color: #008000\">'Lone Models'</span>, <span style=\"color: #008000; text-decoration-color: #008000\">'rank'</span>: <span style=\"color: #800080; text-decoration-color: #800080; font-weight: bold\">Decimal</span><span style=\"font-weight: bold\">(</span><span style=\"color: #008000; text-decoration-color: #008000\">'0.01298701298701298701'</span><span style=\"font-weight: bold\">)})</span>,\n",
       "    <span style=\"color: #800080; text-decoration-color: #800080; font-weight: bold\">RealDictRow</span><span style=\"font-weight: bold\">({</span><span style=\"color: #008000; text-decoration-color: #008000\">'rule'</span>: <span style=\"color: #008000; text-decoration-color: #008000\">'Impetuous'</span>, <span style=\"color: #008000; text-decoration-color: #008000\">'rank'</span>: <span style=\"color: #800080; text-decoration-color: #800080; font-weight: bold\">Decimal</span><span style=\"font-weight: bold\">(</span><span style=\"color: #008000; text-decoration-color: #008000\">'0.01282051282051282051'</span><span style=\"font-weight: bold\">)})</span>,\n",
       "    <span style=\"color: #800080; text-decoration-color: #800080; font-weight: bold\">RealDictRow</span><span style=\"font-weight: bold\">({</span><span style=\"color: #008000; text-decoration-color: #008000\">'rule'</span>: <span style=\"color: #008000; text-decoration-color: #008000\">'Spirit Leech'</span>, <span style=\"color: #008000; text-decoration-color: #008000\">'rank'</span>: <span style=\"color: #800080; text-decoration-color: #800080; font-weight: bold\">Decimal</span><span style=\"font-weight: bold\">(</span><span style=\"color: #008000; text-decoration-color: #008000\">'0.01265822784810126582'</span><span style=\"font-weight: bold\">)})</span>,\n",
       "    <span style=\"color: #800080; text-decoration-color: #800080; font-weight: bold\">RealDictRow</span><span style=\"font-weight: bold\">({</span><span style=\"color: #008000; text-decoration-color: #008000\">'rule'</span>: <span style=\"color: #008000; text-decoration-color: #008000\">'Barding'</span>, <span style=\"color: #008000; text-decoration-color: #008000\">'rank'</span>: <span style=\"color: #800080; text-decoration-color: #800080; font-weight: bold\">Decimal</span><span style=\"font-weight: bold\">(</span><span style=\"color: #008000; text-decoration-color: #008000\">'0.01250000000000000000'</span><span style=\"font-weight: bold\">)})</span>\n",
       "<span style=\"font-weight: bold\">]</span>\n",
       "</pre>\n"
      ],
      "text/plain": [
       "\u001b[1m[\u001b[0m\n",
       "    \u001b[1;35mRealDictRow\u001b[0m\u001b[1m(\u001b[0m\u001b[1m{\u001b[0m\u001b[32m'rule'\u001b[0m: \u001b[32m'Killing Blow'\u001b[0m, \u001b[32m'rank'\u001b[0m: \u001b[1;35mDecimal\u001b[0m\u001b[1m(\u001b[0m\u001b[32m'0.01639344262295081967'\u001b[0m\u001b[1m)\u001b[0m\u001b[1m}\u001b[0m\u001b[1m)\u001b[0m,\n",
       "    \u001b[1;35mRealDictRow\u001b[0m\u001b[1m(\u001b[0m\u001b[1m{\u001b[0m\u001b[32m'rule'\u001b[0m: \u001b[32m'Monster Slayer'\u001b[0m, \u001b[32m'rank'\u001b[0m: \u001b[1;35mDecimal\u001b[0m\u001b[1m(\u001b[0m\u001b[32m'0.01612903225806451613'\u001b[0m\u001b[1m)\u001b[0m\u001b[1m}\u001b[0m\u001b[1m)\u001b[0m,\n",
       "    \u001b[1;35mRealDictRow\u001b[0m\u001b[1m(\u001b[0m\u001b[1m{\u001b[0m\u001b[32m'rule'\u001b[0m: \u001b[32m'Unquiet Spirits'\u001b[0m, \u001b[32m'rank'\u001b[0m: \u001b[1;35mDecimal\u001b[0m\u001b[1m(\u001b[0m\u001b[32m'0.01587301587301587302'\u001b[0m\u001b[1m)\u001b[0m\u001b[1m}\u001b[0m\u001b[1m)\u001b[0m,\n",
       "    \u001b[1;35mRealDictRow\u001b[0m\u001b[1m(\u001b[0m\u001b[1m{\u001b[0m\u001b[32m'rule'\u001b[0m: \u001b[32m'Walk Between Worlds'\u001b[0m, \u001b[32m'rank'\u001b[0m: \u001b[1;35mDecimal\u001b[0m\u001b[1m(\u001b[0m\u001b[32m'0.01562500000000000000'\u001b[0m\u001b[1m)\u001b[0m\u001b[1m}\u001b[0m\u001b[1m)\u001b[0m,\n",
       "    \u001b[1;35mRealDictRow\u001b[0m\u001b[1m(\u001b[0m\u001b[1m{\u001b[0m\u001b[32m'rule'\u001b[0m: \u001b[32m'Initiative \u001b[0m\u001b[32m(\u001b[0m\u001b[32mI\u001b[0m\u001b[32m)\u001b[0m\u001b[32m'\u001b[0m, \u001b[32m'rank'\u001b[0m: \u001b[1;35mDecimal\u001b[0m\u001b[1m(\u001b[0m\u001b[32m'0.01538461538461538462'\u001b[0m\u001b[1m)\u001b[0m\u001b[1m}\u001b[0m\u001b[1m)\u001b[0m,\n",
       "    \u001b[1;35mRealDictRow\u001b[0m\u001b[1m(\u001b[0m\u001b[1m{\u001b[0m\u001b[32m'rule'\u001b[0m: \u001b[32m'Vanguard'\u001b[0m, \u001b[32m'rank'\u001b[0m: \u001b[1;35mDecimal\u001b[0m\u001b[1m(\u001b[0m\u001b[32m'0.01515151515151515152'\u001b[0m\u001b[1m)\u001b[0m\u001b[1m}\u001b[0m\u001b[1m)\u001b[0m,\n",
       "    \u001b[1;35mRealDictRow\u001b[0m\u001b[1m(\u001b[0m\u001b[1m{\u001b[0m\u001b[32m'rule'\u001b[0m: \u001b[32m'Wind Blast'\u001b[0m, \u001b[32m'rank'\u001b[0m: \u001b[1;35mDecimal\u001b[0m\u001b[1m(\u001b[0m\u001b[32m'0.01492537313432835821'\u001b[0m\u001b[1m)\u001b[0m\u001b[1m}\u001b[0m\u001b[1m)\u001b[0m,\n",
       "    \u001b[1;35mRealDictRow\u001b[0m\u001b[1m(\u001b[0m\u001b[1m{\u001b[0m\u001b[32m'rule'\u001b[0m: \u001b[32m'Attacks \u001b[0m\u001b[32m(\u001b[0m\u001b[32mA\u001b[0m\u001b[32m)\u001b[0m\u001b[32m'\u001b[0m, \u001b[32m'rank'\u001b[0m: \u001b[1;35mDecimal\u001b[0m\u001b[1m(\u001b[0m\u001b[32m'0.01470588235294117647'\u001b[0m\u001b[1m)\u001b[0m\u001b[1m}\u001b[0m\u001b[1m)\u001b[0m,\n",
       "    \u001b[1;35mRealDictRow\u001b[0m\u001b[1m(\u001b[0m\u001b[1m{\u001b[0m\u001b[32m'rule'\u001b[0m: \u001b[32m'Combat Result Table'\u001b[0m, \u001b[32m'rank'\u001b[0m: \u001b[1;35mDecimal\u001b[0m\u001b[1m(\u001b[0m\u001b[32m'0.01449275362318840580'\u001b[0m\u001b[1m)\u001b[0m\u001b[1m}\u001b[0m\u001b[1m)\u001b[0m,\n",
       "    \u001b[1;35mRealDictRow\u001b[0m\u001b[1m(\u001b[0m\u001b[1m{\u001b[0m\u001b[32m'rule'\u001b[0m: \u001b[32m'Unbreakable'\u001b[0m, \u001b[32m'rank'\u001b[0m: \u001b[1;35mDecimal\u001b[0m\u001b[1m(\u001b[0m\u001b[32m'0.01428571428571428571'\u001b[0m\u001b[1m)\u001b[0m\u001b[1m}\u001b[0m\u001b[1m)\u001b[0m,\n",
       "    \u001b[1;35mRealDictRow\u001b[0m\u001b[1m(\u001b[0m\u001b[1m{\u001b[0m\u001b[32m'rule'\u001b[0m: \u001b[32m'Fiery Convocation'\u001b[0m, \u001b[32m'rank'\u001b[0m: \u001b[1;35mDecimal\u001b[0m\u001b[1m(\u001b[0m\u001b[32m'0.01408450704225352113'\u001b[0m\u001b[1m)\u001b[0m\u001b[1m}\u001b[0m\u001b[1m)\u001b[0m,\n",
       "    \u001b[1;35mRealDictRow\u001b[0m\u001b[1m(\u001b[0m\u001b[1m{\u001b[0m\u001b[32m'rule'\u001b[0m: \u001b[32m'Inspiring Presence'\u001b[0m, \u001b[32m'rank'\u001b[0m: \u001b[1;35mDecimal\u001b[0m\u001b[1m(\u001b[0m\u001b[32m'0.01388888888888888889'\u001b[0m\u001b[1m)\u001b[0m\u001b[1m}\u001b[0m\u001b[1m)\u001b[0m,\n",
       "    \u001b[1;35mRealDictRow\u001b[0m\u001b[1m(\u001b[0m\u001b[1m{\u001b[0m\u001b[32m'rule'\u001b[0m: \u001b[32m'Corporeal Unmaking'\u001b[0m, \u001b[32m'rank'\u001b[0m: \u001b[1;35mDecimal\u001b[0m\u001b[1m(\u001b[0m\u001b[32m'0.01369863013698630137'\u001b[0m\u001b[1m)\u001b[0m\u001b[1m}\u001b[0m\u001b[1m)\u001b[0m,\n",
       "    \u001b[1;35mRealDictRow\u001b[0m\u001b[1m(\u001b[0m\u001b[1m{\u001b[0m\u001b[32m'rule'\u001b[0m: \u001b[32m'Loner'\u001b[0m, \u001b[32m'rank'\u001b[0m: \u001b[1;35mDecimal\u001b[0m\u001b[1m(\u001b[0m\u001b[32m'0.01351351351351351351'\u001b[0m\u001b[1m)\u001b[0m\u001b[1m}\u001b[0m\u001b[1m)\u001b[0m,\n",
       "    \u001b[1;35mRealDictRow\u001b[0m\u001b[1m(\u001b[0m\u001b[1m{\u001b[0m\u001b[32m'rule'\u001b[0m: \u001b[32m'Highly Manoeuvrable'\u001b[0m, \u001b[32m'rank'\u001b[0m: \u001b[1;35mDecimal\u001b[0m\u001b[1m(\u001b[0m\u001b[32m'0.01333333333333333333'\u001b[0m\u001b[1m)\u001b[0m\u001b[1m}\u001b[0m\u001b[1m)\u001b[0m,\n",
       "    \u001b[1;35mRealDictRow\u001b[0m\u001b[1m(\u001b[0m\u001b[1m{\u001b[0m\u001b[32m'rule'\u001b[0m: \u001b[32m'Strike Last'\u001b[0m, \u001b[32m'rank'\u001b[0m: \u001b[1;35mDecimal\u001b[0m\u001b[1m(\u001b[0m\u001b[32m'0.01315789473684210526'\u001b[0m\u001b[1m)\u001b[0m\u001b[1m}\u001b[0m\u001b[1m)\u001b[0m,\n",
       "    \u001b[1;35mRealDictRow\u001b[0m\u001b[1m(\u001b[0m\u001b[1m{\u001b[0m\u001b[32m'rule'\u001b[0m: \u001b[32m'Lone Models'\u001b[0m, \u001b[32m'rank'\u001b[0m: \u001b[1;35mDecimal\u001b[0m\u001b[1m(\u001b[0m\u001b[32m'0.01298701298701298701'\u001b[0m\u001b[1m)\u001b[0m\u001b[1m}\u001b[0m\u001b[1m)\u001b[0m,\n",
       "    \u001b[1;35mRealDictRow\u001b[0m\u001b[1m(\u001b[0m\u001b[1m{\u001b[0m\u001b[32m'rule'\u001b[0m: \u001b[32m'Impetuous'\u001b[0m, \u001b[32m'rank'\u001b[0m: \u001b[1;35mDecimal\u001b[0m\u001b[1m(\u001b[0m\u001b[32m'0.01282051282051282051'\u001b[0m\u001b[1m)\u001b[0m\u001b[1m}\u001b[0m\u001b[1m)\u001b[0m,\n",
       "    \u001b[1;35mRealDictRow\u001b[0m\u001b[1m(\u001b[0m\u001b[1m{\u001b[0m\u001b[32m'rule'\u001b[0m: \u001b[32m'Spirit Leech'\u001b[0m, \u001b[32m'rank'\u001b[0m: \u001b[1;35mDecimal\u001b[0m\u001b[1m(\u001b[0m\u001b[32m'0.01265822784810126582'\u001b[0m\u001b[1m)\u001b[0m\u001b[1m}\u001b[0m\u001b[1m)\u001b[0m,\n",
       "    \u001b[1;35mRealDictRow\u001b[0m\u001b[1m(\u001b[0m\u001b[1m{\u001b[0m\u001b[32m'rule'\u001b[0m: \u001b[32m'Barding'\u001b[0m, \u001b[32m'rank'\u001b[0m: \u001b[1;35mDecimal\u001b[0m\u001b[1m(\u001b[0m\u001b[32m'0.01250000000000000000'\u001b[0m\u001b[1m)\u001b[0m\u001b[1m}\u001b[0m\u001b[1m)\u001b[0m\n",
       "\u001b[1m]\u001b[0m\n"
      ]
     },
     "metadata": {},
     "output_type": "display_data"
    }
   ],
   "source": [
    "prompt = \"asrai\"\n",
    "cur = conn.cursor(cursor_factory=RealDictCursor)\n",
    "embedding = np.array(ollama.embeddings(model=\"mxbai-embed-large\", prompt=prompt).get(\"embedding\"))\n",
    "\n",
    "query = \"\"\"\n",
    "WITH semantic_search AS (\n",
    "    SELECT link_number, rule_name, RANK () OVER (ORDER BY embedding <=> %(embedding)s) AS rank\n",
    "    FROM rules\n",
    "    ORDER BY embedding <> %(embedding)s\n",
    "    LIMIT 20\n",
    "),\n",
    "keyword_search AS (\n",
    "    SELECT link_number, rule_name, RANK () OVER (ORDER BY ts_rank_cd(to_tsvector('english', rule_description), query) DESC) \n",
    "    FROM rules, plainto_tsquery('english', %(prompt)s) query \n",
    "    WHERE to_tsvector('english', rule_description) @@ query\n",
    "    ORDER BY ts_rank_cd(to_tsvector('english', rule_description), query) \n",
    "    DESC \n",
    "    LIMIT 20\n",
    ")\n",
    "\n",
    "SELECT\n",
    "    COALESCE (semantic_search.rule_name, keyword_search.rule_name) AS rule, \n",
    "    COALESCE (1.0 / (%(k)s + semantic_search.rank), 0.0) + COALESCE(1.0 / (%(k)s + keyword_search.rank), 0.0) AS rank\n",
    "FROM semantic_search\n",
    "FULL OUTER JOIN keyword_search ON semantic_search.link_number = keyword_search.link_number\n",
    "ORDER BY rank \n",
    "DESC\n",
    "LIMIT 20\n",
    "\"\"\"\n",
    "\n",
    "\n",
    "cur.execute(\n",
    "    query, \n",
    "    {\"prompt\": prompt, \"embedding\": embedding, \"k\": 60}\n",
    "    )\n",
    "results=cur.fetchall()\n",
    "print(results)"
   ]
  },
  {
   "cell_type": "code",
   "execution_count": 12,
   "metadata": {},
   "outputs": [],
   "source": [
    "def ragtime(prompt: str) -> list[dict]:\n",
    "    cur = conn.cursor(cursor_factory=RealDictCursor)\n",
    "    embedding = np.array(ollama.embeddings(model=\"mxbai-embed-large\", prompt=prompt).get(\"embedding\"))\n",
    "\n",
    "    query = \"\"\"\n",
    "    WITH semantic_search AS (\n",
    "        SELECT link_number, RANK () OVER (ORDER BY embedding <=> %(embedding)s) AS rank\n",
    "        FROM rules\n",
    "        ORDER BY embedding <> %(embedding)s\n",
    "        LIMIT 20\n",
    "    ),\n",
    "    keyword_search AS (\n",
    "        SELECT link_number, RANK () OVER (ORDER BY ts_rank_cd(to_tsvector('english', rule_description), query) DESC) \n",
    "        FROM rules, plainto_tsquery('english', %(prompt)s) query \n",
    "        WHERE to_tsvector('english', rule_description) @@ query\n",
    "        ORDER BY ts_rank_cd(to_tsvector('english', rule_description), query) \n",
    "        DESC \n",
    "        LIMIT 20\n",
    "    )\n",
    "\n",
    "    SELECT\n",
    "        COALESCE (semantic_search.link_number, keyword_search.link_number) AS link_number, \n",
    "        COALESCE (1.0 / (%(k)s + semantic_search.rank), 0.0) + COALESCE(1.0 / (%(k)s + keyword_search.rank), 0.0) AS rank\n",
    "    FROM semantic_search\n",
    "    FULL OUTER JOIN keyword_search ON semantic_search.link_number = keyword_search.link_number\n",
    "    ORDER BY rank \n",
    "    DESC\n",
    "    LIMIT 5\n",
    "    \"\"\"\n",
    "\n",
    "\n",
    "    cur.execute(\n",
    "        query, \n",
    "        {\"prompt\": prompt, \"embedding\": embedding, \"k\": 60}\n",
    "        )\n",
    "    results=cur.fetchall()\n",
    "\n",
    "\n",
    "    rules = [result.get(\"link_number\") for result in results]\n",
    "    # print(rules)\n",
    "    cur.execute(\"SELECT rule_name, link, rulebook_page, rule_description FROM rules WHERE link_number = ANY(%s)\", (rules,))\n",
    "    results= cur.fetchall()\n",
    "\n",
    "    return [dict(result) for result in results]\n",
    "    "
   ]
  },
  {
   "cell_type": "markdown",
   "metadata": {},
   "source": [
    "# Giving shape to the RAG"
   ]
  },
  {
   "cell_type": "code",
   "execution_count": 47,
   "metadata": {},
   "outputs": [],
   "source": [
    "prompt = \"can you explain me the veteran rule and provide me an example\""
   ]
  },
  {
   "cell_type": "code",
   "execution_count": 48,
   "metadata": {},
   "outputs": [],
   "source": [
    "results= ragtime(prompt)\n",
    "formatted_results = [f\"##{result.get(\"rule_name\")}\\n\\n{result.get(\"rule_description\")}\\n\\nRulebook page:{result.get(\"rulebook_page\")}\\n\\n Reference link:[{result.get(\"rule_name\")}]({result.get(\"link\")})\" for result in results]"
   ]
  },
  {
   "cell_type": "code",
   "execution_count": 49,
   "metadata": {},
   "outputs": [
    {
     "data": {
      "text/html": [
       "<pre style=\"white-space:pre;overflow-x:auto;line-height:normal;font-family:Menlo,'DejaVu Sans Mono',consolas,'Courier New',monospace\"><span style=\"font-weight: bold\">[</span>\n",
       "    <span style=\"color: #008000; text-decoration-color: #008000\">'##Excess Casualties\\n\\nIt can sometimes happen that a unit suffers more casualties than it has models in its </span>\n",
       "<span style=\"color: #008000; text-decoration-color: #008000\">fighting rank. Should this happen, casualties are removed as normal, representing casualties caused in the rank (or</span>\n",
       "<span style=\"color: #008000; text-decoration-color: #008000\">file) behind the fighting rank.In such cases, and if the unit suffering the casualties is able to make supporting </span>\n",
       "<span style=\"color: #008000; text-decoration-color: #008000\">attacks, any excess casualties will reduce the number of supporting attacks.\\n\\nRulebook page:Rulebook, p. 150\\n\\n </span>\n",
       "<span style=\"color: #008000; text-decoration-color: #008000\">Reference link:[Excess Casualties](https://tow.whfb.app/the-combat-phase/excess-casualties)'</span>,\n",
       "    <span style=\"color: #008000; text-decoration-color: #008000\">'##Levies\\n\\nMany regiments are made up of unwilling fighters, pressed into service.Many regiments are made up </span>\n",
       "<span style=\"color: #008000; text-decoration-color: #008000\">of unwilling fighters, pressed into service.\\n\\nRulebook page:Rulebook, p. 172\\n\\n Reference </span>\n",
       "<span style=\"color: #008000; text-decoration-color: #008000\">link:[Levies](https://tow.whfb.app/special-rules/levies)'</span>,\n",
       "    <span style=\"color: #008000; text-decoration-color: #008000\">'##Veteran\\n\\nVeteran warriors have seen and done it all, and it takes a lot to unsettle them.Veteran warriors </span>\n",
       "<span style=\"color: #008000; text-decoration-color: #008000\">have seen and done it all, and it takes a lot to unsettle them.\\n\\nRulebook page:Rulebook, p. 180\\n\\n Reference </span>\n",
       "<span style=\"color: #008000; text-decoration-color: #008000\">link:[Veteran](https://tow.whfb.app/special-rules/veteran)'</span>,\n",
       "    <span style=\"color: #008000; text-decoration-color: #008000\">'##Undisciplined\\n\\nA unit with this rule cannot use the Inspiring Presence rule of the army\\'s General nor the</span>\n",
       "<span style=\"color: #008000; text-decoration-color: #008000\">\"Hold your Ground\" rule of a Battle Standard.\\n\\nRulebook page:Rulebook, p. 191 &amp; 193\\n\\n Reference </span>\n",
       "<span style=\"color: #008000; text-decoration-color: #008000\">link:[Undisciplined](https://tow.whfb.app/troop-types-in-detail/undisciplined)'</span>,\n",
       "    <span style=\"color: #008000; text-decoration-color: #008000\">\"##Too Many Characters\\n\\nUnless a unit contains only a single rank, its fighting rank cannot contain more </span>\n",
       "<span style=\"color: #008000; text-decoration-color: #008000\">characters than it does rank and file models. If it does, one or more must 'retire' from combat. Upon retiring, a </span>\n",
       "<span style=\"color: #008000; text-decoration-color: #008000\">character:Moves through the ranks to take up a position away from the fighting rank.Cannot make any attacks or have</span>\n",
       "<span style=\"color: #008000; text-decoration-color: #008000\">attacks directed against them.Confers no benefits to the unit in the form of Leadership, special rules, or anything</span>\n",
       "<span style=\"color: #008000; text-decoration-color: #008000\">else.\\n\\nRulebook page:Rulebook, p. 209\\n\\n Reference link:[Too Many </span>\n",
       "<span style=\"color: #008000; text-decoration-color: #008000\">Characters](https://tow.whfb.app/characters/too-many-characters)\"</span>\n",
       "<span style=\"font-weight: bold\">]</span>\n",
       "</pre>\n"
      ],
      "text/plain": [
       "\u001b[1m[\u001b[0m\n",
       "    \u001b[32m'##Excess Casualties\\n\\nIt can sometimes happen that a unit suffers more casualties than it has models in its \u001b[0m\n",
       "\u001b[32mfighting rank. Should this happen, casualties are removed as normal, representing casualties caused in the rank \u001b[0m\u001b[32m(\u001b[0m\u001b[32mor\u001b[0m\n",
       "\u001b[32mfile\u001b[0m\u001b[32m)\u001b[0m\u001b[32m behind the fighting rank.In such cases, and if the unit suffering the casualties is able to make supporting \u001b[0m\n",
       "\u001b[32mattacks, any excess casualties will reduce the number of supporting attacks.\\n\\nRulebook page:Rulebook, p. 150\\n\\n \u001b[0m\n",
       "\u001b[32mReference link:\u001b[0m\u001b[32m[\u001b[0m\u001b[32mExcess Casualties\u001b[0m\u001b[32m]\u001b[0m\u001b[32m(\u001b[0m\u001b[32mhttps://tow.whfb.app/the-combat-phase/excess-casualties\u001b[0m\u001b[32m)\u001b[0m\u001b[32m'\u001b[0m,\n",
       "    \u001b[32m'##Levies\\n\\nMany regiments are made up of unwilling fighters, pressed into service.Many regiments are made up \u001b[0m\n",
       "\u001b[32mof unwilling fighters, pressed into service.\\n\\nRulebook page:Rulebook, p. 172\\n\\n Reference \u001b[0m\n",
       "\u001b[32mlink:\u001b[0m\u001b[32m[\u001b[0m\u001b[32mLevies\u001b[0m\u001b[32m]\u001b[0m\u001b[32m(\u001b[0m\u001b[32mhttps://tow.whfb.app/special-rules/levies\u001b[0m\u001b[32m)\u001b[0m\u001b[32m'\u001b[0m,\n",
       "    \u001b[32m'##Veteran\\n\\nVeteran warriors have seen and done it all, and it takes a lot to unsettle them.Veteran warriors \u001b[0m\n",
       "\u001b[32mhave seen and done it all, and it takes a lot to unsettle them.\\n\\nRulebook page:Rulebook, p. 180\\n\\n Reference \u001b[0m\n",
       "\u001b[32mlink:\u001b[0m\u001b[32m[\u001b[0m\u001b[32mVeteran\u001b[0m\u001b[32m]\u001b[0m\u001b[32m(\u001b[0m\u001b[32mhttps://tow.whfb.app/special-rules/veteran\u001b[0m\u001b[32m)\u001b[0m\u001b[32m'\u001b[0m,\n",
       "    \u001b[32m'##Undisciplined\\n\\nA unit with this rule cannot use the Inspiring Presence rule of the army\\'s General nor the\u001b[0m\n",
       "\u001b[32m\"Hold your Ground\" rule of a Battle Standard.\\n\\nRulebook page:Rulebook, p. 191 & 193\\n\\n Reference \u001b[0m\n",
       "\u001b[32mlink:\u001b[0m\u001b[32m[\u001b[0m\u001b[32mUndisciplined\u001b[0m\u001b[32m]\u001b[0m\u001b[32m(\u001b[0m\u001b[32mhttps://tow.whfb.app/troop-types-in-detail/undisciplined\u001b[0m\u001b[32m)\u001b[0m\u001b[32m'\u001b[0m,\n",
       "    \u001b[32m\"##Too Many Characters\\n\\nUnless a unit contains only a single rank, its fighting rank cannot contain more \u001b[0m\n",
       "\u001b[32mcharacters than it does rank and file models. If it does, one or more must 'retire' from combat. Upon retiring, a \u001b[0m\n",
       "\u001b[32mcharacter:Moves through the ranks to take up a position away from the fighting rank.Cannot make any attacks or have\u001b[0m\n",
       "\u001b[32mattacks directed against them.Confers no benefits to the unit in the form of Leadership, special rules, or anything\u001b[0m\n",
       "\u001b[32melse.\\n\\nRulebook page:Rulebook, p. 209\\n\\n Reference link:\u001b[0m\u001b[32m[\u001b[0m\u001b[32mToo Many \u001b[0m\n",
       "\u001b[32mCharacters\u001b[0m\u001b[32m]\u001b[0m\u001b[32m(\u001b[0m\u001b[32mhttps://tow.whfb.app/characters/too-many-characters\u001b[0m\u001b[32m)\u001b[0m\u001b[32m\"\u001b[0m\n",
       "\u001b[1m]\u001b[0m\n"
      ]
     },
     "metadata": {},
     "output_type": "display_data"
    }
   ],
   "source": [
    "print(formatted_results)"
   ]
  },
  {
   "cell_type": "code",
   "execution_count": 50,
   "metadata": {},
   "outputs": [],
   "source": [
    "system_message = (\n",
    "    \"You must answer questions only according to sources.\"\n",
    "    \"Say you dont know if you cant find answer in sources.\"\n",
    "    \"Provide an answer within the scope of the rules of the game called the old world.\"\n",
    "    \"Cite the source inside square brackets.\"\n",
    "    \"The sources should contain the reference link and the rulebook page.\"\n",
    "    \"Place the sources at the end as list of markdowns.\"\n",
    "    \"The title of each rule will be a markdown heading.\"\n",
    ")"
   ]
  },
  {
   "cell_type": "code",
   "execution_count": 51,
   "metadata": {},
   "outputs": [],
   "source": [
    "\n",
    "client = openai.OpenAI(\n",
    "    base_url = 'http://localhost:11434/v1',\n",
    "    api_key='ollama', # required, but unused\n",
    ")\n",
    "\n",
    "response = client.chat.completions.create(\n",
    "  model=\"llama3\",\n",
    "  messages=[\n",
    "    {\"role\": \"system\", \"content\": system_message},\n",
    "    {\"role\": \"user\", \"content\": f\"{prompt}\\n\\n Sources:\\n\\n {formatted_results}\"},\n",
    "  ],\n",
    "  temperature=0.3,\n",
    "  top_p=1.0\n",
    ")\n"
   ]
  },
  {
   "cell_type": "code",
   "execution_count": 52,
   "metadata": {},
   "outputs": [
    {
     "data": {
      "text/html": [
       "<pre style=\"white-space:pre;overflow-x:auto;line-height:normal;font-family:Menlo,'DejaVu Sans Mono',consolas,'Courier New',monospace\">**Veteran Rule**\n",
       "\n",
       "According to the Warhammer Old World rulebook <span style=\"font-weight: bold\">[</span><span style=\"color: #008080; text-decoration-color: #008080; font-weight: bold\">1</span><span style=\"font-weight: bold\">]</span>, Veteran warriors have seen and done it all, and it takes a lot \n",
       "to unsettle them. This means that Veteran units are more resilient in combat and can withstand more casualties \n",
       "before being broken.\n",
       "\n",
       "Example: A unit of Veteran Warriors is charged by an enemy unit. After the combat phase, they suffer <span style=\"color: #008080; text-decoration-color: #008080; font-weight: bold\">5</span> casualties \n",
       "but still retain <span style=\"color: #008080; text-decoration-color: #008080; font-weight: bold\">7</span> models on the battlefield. As they are Veterans, they are not affected by the excess casualties \n",
       "rule <span style=\"font-weight: bold\">[</span><span style=\"color: #008080; text-decoration-color: #008080; font-weight: bold\">2</span><span style=\"font-weight: bold\">]</span>, and their morale remains unaffected.\n",
       "\n",
       "Sources:\n",
       "<span style=\"font-weight: bold\">(</span><span style=\"color: #0000ff; text-decoration-color: #0000ff; text-decoration: underline\">https://tow.whfb.app/special-rules/veteran)</span>\n",
       "</pre>\n"
      ],
      "text/plain": [
       "**Veteran Rule**\n",
       "\n",
       "According to the Warhammer Old World rulebook \u001b[1m[\u001b[0m\u001b[1;36m1\u001b[0m\u001b[1m]\u001b[0m, Veteran warriors have seen and done it all, and it takes a lot \n",
       "to unsettle them. This means that Veteran units are more resilient in combat and can withstand more casualties \n",
       "before being broken.\n",
       "\n",
       "Example: A unit of Veteran Warriors is charged by an enemy unit. After the combat phase, they suffer \u001b[1;36m5\u001b[0m casualties \n",
       "but still retain \u001b[1;36m7\u001b[0m models on the battlefield. As they are Veterans, they are not affected by the excess casualties \n",
       "rule \u001b[1m[\u001b[0m\u001b[1;36m2\u001b[0m\u001b[1m]\u001b[0m, and their morale remains unaffected.\n",
       "\n",
       "Sources:\n",
       "\u001b[1m(\u001b[0m\u001b[4;94mhttps://tow.whfb.app/special-rules/veteran\u001b[0m\u001b[4;94m)\u001b[0m\n"
      ]
     },
     "metadata": {},
     "output_type": "display_data"
    }
   ],
   "source": [
    "print(response.choices[0].message.content)"
   ]
  },
  {
   "cell_type": "code",
   "execution_count": 34,
   "metadata": {},
   "outputs": [
    {
     "data": {
      "text/plain": [
       "[\"##Forming Units\\n\\nThe models that make up your army must be formed into 'units' before battle commences, ideally when writing your muster list. A unit usually consists of several models of the same type that have banded together and adopted a specific formation.Additionally, single, powerful models such as a character, a chariot or a Dragon, a war machine and its crew, and so on, are also considered to be a 'unit'. Therefore, whenever the rules that follow refer to 'units', this also includes units of one model.\\n\\nRulebook page:Rulebook, p. 100\\n\\n Reference link:[Forming Units](https://tow.whfb.app/forming-units)\",\n",
       " '##Regular Infantry\\n\\nThis sub-category covers all the roughly human-sized warriors of the Warhammer world, be they Men, Elves, Dwarfs, Orcs, Zombies and so on. Regular infantry will normally form the core of your Warhammer army, the troops upon which you rely to get the job done. Regular infantry can be expected to adopt almost any formation to fulfil any role.Due to their ubiquity, the basic rules of Warhammer: the Old World are written around regular infantry, so no additional rules apply to this troop type.Troop TypeModels per RankMaximum Rank BonusUnit Strength per ModelSpecial RulesRegular Infantry5+21-\\n\\nRulebook page:Rulebook, p. 190\\n\\n Reference link:[Regular Infantry](https://tow.whfb.app/troop-types-in-detail/regular-infantry)',\n",
       " '##Alternating Units\\n\\nIf a scenario calls upon players to alternate deployment of units, the winner of a roll-off can choose which player will deploy the first unit. Players then take turns, each deploying a single, non-character unit within their deployment zone, saving characters until last.All of the war machines in your army must be deployed at the same time, but can be placed at different locations within your deployment zone. All of the characters in your army are deployed last, and all at the same time, but can be placed at different locations within your deployment zone.\\n\\nRulebook page:Rulebook, p. 285\\n\\n Reference link:[Alternating Units](https://tow.whfb.app/warhammer-battles/alternating-units)',\n",
       " '##Armies of Imagination\\n\\nOne key aspect of open play is that it grants the freedom to forego certain army composition rules in pursuit of the narrative. At its most simple, players will often ignore percentages and other restrictions when creating their armies, choosing instead to write a muster list that best fits the narrative. Taking it further, some players will ignore points values altogether, and instead field opposing armies created purely to fit into their story.Of course, ignoring such rules can lead to an imbalanced match-up, and this thought may be unappealing to some players. This is perfectly acceptable and any group of players is encouraged to use the suggestions given here, or not, as they see fit. However, these imbalances can often prove part of the charm of a narrative battle, and can invariably be countered by special rules and objectives. Ignoring points values might lead to an army being outnumbered ten to one, for example, and that army might reasonably be expected to suffer a crushing defeat and terrible losses. But the challenge of the game might be to hold out until turn four – perhaps that will grant a vital messenger sufficient time to escape, carrying word of the size of the invading army, and thus the terrible defeat can be claimed as a victory (of sorts).\\n\\nRulebook page:Rulebook, p. 303\\n\\n Reference link:[Armies of Imagination](https://tow.whfb.app/narrative-battles/armies-of-imagination)',\n",
       " \"##Waaagh! Magic\\n\\nWhen Orc and Goblin tribes march to war (as they are given to do with alarming regularity), they are accompanied by powerful shamans. These 'Weirdboy' and 'Oddgit' shamans, as Orcs and Goblins call them, are each a living conduit to Gork and Mork, the primitive gods of their kind, and each can wield such arcane might that even the most learned of Elven mages would have to be impressed.When Orc and Goblin tribes march to war (as they are given to do with alarming regularity), they are accompanied by powerful shamans. These 'Weirdboy' and 'Oddgit' shamans, as Orcs and Goblins call them, are each a living conduit to Gork and Mork, the primitive gods of their kind, and each can wield such arcane might that even the most learned of Elven mages would have to be impressed.\\n\\nRulebook page:Rulebook, p. 334\\n\\n Reference link:[Waaagh! Magic](https://tow.whfb.app/the-lores-of-magic/waaagh-magic)\"]"
      ]
     },
     "execution_count": 34,
     "metadata": {},
     "output_type": "execute_result"
    }
   ],
   "source": [
    "formatted_results"
   ]
  },
  {
   "cell_type": "code",
   "execution_count": null,
   "metadata": {},
   "outputs": [],
   "source": []
  },
  {
   "cell_type": "code",
   "execution_count": null,
   "metadata": {},
   "outputs": [],
   "source": []
  }
 ],
 "metadata": {
  "kernelspec": {
   "display_name": "pgvector-playground-3pTo8nw1-py3.12",
   "language": "python",
   "name": "python3"
  },
  "language_info": {
   "codemirror_mode": {
    "name": "ipython",
    "version": 3
   },
   "file_extension": ".py",
   "mimetype": "text/x-python",
   "name": "python",
   "nbconvert_exporter": "python",
   "pygments_lexer": "ipython3",
   "version": "3.12.0"
  }
 },
 "nbformat": 4,
 "nbformat_minor": 2
}
